{
  "nbformat": 4,
  "nbformat_minor": 0,
  "metadata": {
    "colab": {
      "name": "INDENG 174 project.ipynb",
      "provenance": [],
      "include_colab_link": true
    },
    "kernelspec": {
      "name": "python3",
      "display_name": "Python 3"
    },
    "language_info": {
      "name": "python"
    }
  },
  "cells": [
    {
      "cell_type": "markdown",
      "metadata": {
        "id": "view-in-github",
        "colab_type": "text"
      },
      "source": [
        "<a href=\"https://colab.research.google.com/github/iw30/UHS-COVID-Testing/blob/main/INDENG_174_project.ipynb\" target=\"_parent\"><img src=\"https://colab.research.google.com/assets/colab-badge.svg\" alt=\"Open In Colab\"/></a>"
      ]
    },
    {
      "cell_type": "code",
      "metadata": {
        "id": "Hgpc9yjtwLvI"
      },
      "source": [
        "import pandas as pd\n",
        "import numpy as np\n",
        "import matplotlib.pyplot as plt\n",
        "import plotly.express as px\n",
        "import seaborn as sns"
      ],
      "execution_count": 6,
      "outputs": []
    },
    {
      "cell_type": "code",
      "metadata": {
        "colab": {
          "base_uri": "https://localhost:8080/"
        },
        "id": "w667hHxjppSj",
        "outputId": "557cce72-b306-47df-a56d-e8fcd9512ea1"
      },
      "source": [
        "from google.colab import drive\n",
        "drive.mount('/content/drive')"
      ],
      "execution_count": 7,
      "outputs": [
        {
          "output_type": "stream",
          "name": "stdout",
          "text": [
            "Drive already mounted at /content/drive; to attempt to forcibly remount, call drive.mount(\"/content/drive\", force_remount=True).\n"
          ]
        }
      ]
    },
    {
      "cell_type": "markdown",
      "metadata": {
        "id": "xt_KoeFK0473"
      },
      "source": [
        "# **Project Description**"
      ]
    },
    {
      "cell_type": "markdown",
      "metadata": {
        "id": "iGEuchay076e"
      },
      "source": [
        "Our project will focus primarily on simulating COVID testing environments run by the University Health Services at UC Berkeley. We are simulating two different COVID testing environments: Surveillance test in Rec Sport Facility (RSF), and Symptomatic and Exposure test in Durant side. The goals of the project are to: \n",
        "1. better understand the design of the current COVID testing environment\n",
        "2. identify and address any inefficiencies in the system that contribute to longer wait times in the physical testing environments and/or the process needed from the point of the test to getting the result to the client.\n",
        "3. optimize the system by minimizing waiting time and attack any bottlenecks occur on the system. \n"
      ]
    },
    {
      "cell_type": "markdown",
      "metadata": {
        "id": "r764G5cE1rCN"
      },
      "source": [
        "There are two COVID testing layouts that we need to consider. First layout is for surveillance testing. Second layout is for symptomatic and exposure testing (i.e., symptomatic testing and exposure testing occur at the same place). Our goal here is to minimize the waiting time such that the total time the person in the system is less than 15 minutes. Also, the number of staff is limited to 15 staff and 5 staff in the first layout and second layout respectively. This is to limit COVID exposure for both students and staff.\n"
      ]
    },
    {
      "cell_type": "markdown",
      "metadata": {
        "id": "9Q_kOFfYwMQI"
      },
      "source": [
        "# **Importing Data**"
      ]
    },
    {
      "cell_type": "markdown",
      "metadata": {
        "id": "3vRKMiGbB4i6"
      },
      "source": [
        "For the data in excel, link : https://docs.google.com/spreadsheets/d/1r0OSJAjtWXrpHpcyUow_TZL6tYa3ul_D/edit?usp=sharing&ouid=102202967501889999759&rtpof=true&sd=true"
      ]
    },
    {
      "cell_type": "markdown",
      "metadata": {
        "id": "rIWbQ5bdyiCB"
      },
      "source": [
        "Before proceeding, download the data from the link above and put the data into the files tab."
      ]
    },
    {
      "cell_type": "markdown",
      "metadata": {
        "id": "O52Bug5fLGDJ"
      },
      "source": [
        "The timeframe of the data is from January 1, 2021 up to October, 20 2021."
      ]
    },
    {
      "cell_type": "code",
      "metadata": {
        "id": "MsrpGWVeCJoy"
      },
      "source": [
        "path = \"/content/drive/MyDrive/INDENG 174/PROJECT INDENG 174/UHS COVID TESTING DATA.xlsx\""
      ],
      "execution_count": 8,
      "outputs": []
    },
    {
      "cell_type": "markdown",
      "metadata": {
        "id": "-abnR_iIBaan"
      },
      "source": [
        "The data below relates to COVID testing:"
      ]
    },
    {
      "cell_type": "code",
      "metadata": {
        "id": "gOAmFl1RLm-q"
      },
      "source": [
        "collect_na = {\"Count Collected\":0}"
      ],
      "execution_count": 9,
      "outputs": []
    },
    {
      "cell_type": "code",
      "metadata": {
        "colab": {
          "base_uri": "https://localhost:8080/",
          "height": 204
        },
        "id": "FBRxV9GcvgFy",
        "outputId": "86bba937-053d-43a4-b99d-560a0d41fe40"
      },
      "source": [
        "# Data from sheet \"Test Collected - Exposure\"\n",
        "\n",
        "df_collect_exp = pd.read_excel(path, sheet_name = \"Tests Collected - Exposure\").fillna(value = collect_na)\n",
        "df_collect_exp = df_collect_exp.rename(columns = {\"Count Collected\":\"Count Collected Exposure\"\\\n",
        "                                                  ,\"Average Days to Result\":\"Avg Days Result Exposure\"})\n",
        "df_collect_exp.head()"
      ],
      "execution_count": 10,
      "outputs": [
        {
          "output_type": "execute_result",
          "data": {
            "text/html": [
              "<div>\n",
              "<style scoped>\n",
              "    .dataframe tbody tr th:only-of-type {\n",
              "        vertical-align: middle;\n",
              "    }\n",
              "\n",
              "    .dataframe tbody tr th {\n",
              "        vertical-align: top;\n",
              "    }\n",
              "\n",
              "    .dataframe thead th {\n",
              "        text-align: right;\n",
              "    }\n",
              "</style>\n",
              "<table border=\"1\" class=\"dataframe\">\n",
              "  <thead>\n",
              "    <tr style=\"text-align: right;\">\n",
              "      <th></th>\n",
              "      <th>Collection Date</th>\n",
              "      <th>Patient Type</th>\n",
              "      <th>Count Collected Exposure</th>\n",
              "      <th>Avg Days Result Exposure</th>\n",
              "    </tr>\n",
              "  </thead>\n",
              "  <tbody>\n",
              "    <tr>\n",
              "      <th>0</th>\n",
              "      <td>2021-01-01</td>\n",
              "      <td>Total</td>\n",
              "      <td>0.0</td>\n",
              "      <td>NaN</td>\n",
              "    </tr>\n",
              "    <tr>\n",
              "      <th>1</th>\n",
              "      <td>2021-01-01</td>\n",
              "      <td>Faculty / Staff</td>\n",
              "      <td>0.0</td>\n",
              "      <td>NaN</td>\n",
              "    </tr>\n",
              "    <tr>\n",
              "      <th>2</th>\n",
              "      <td>2021-01-01</td>\n",
              "      <td>Grad</td>\n",
              "      <td>0.0</td>\n",
              "      <td>NaN</td>\n",
              "    </tr>\n",
              "    <tr>\n",
              "      <th>3</th>\n",
              "      <td>2021-01-01</td>\n",
              "      <td>Undergrad</td>\n",
              "      <td>0.0</td>\n",
              "      <td>NaN</td>\n",
              "    </tr>\n",
              "    <tr>\n",
              "      <th>4</th>\n",
              "      <td>2021-01-04</td>\n",
              "      <td>Total</td>\n",
              "      <td>0.0</td>\n",
              "      <td>NaN</td>\n",
              "    </tr>\n",
              "  </tbody>\n",
              "</table>\n",
              "</div>"
            ],
            "text/plain": [
              "  Collection Date  ... Avg Days Result Exposure\n",
              "0      2021-01-01  ...                      NaN\n",
              "1      2021-01-01  ...                      NaN\n",
              "2      2021-01-01  ...                      NaN\n",
              "3      2021-01-01  ...                      NaN\n",
              "4      2021-01-04  ...                      NaN\n",
              "\n",
              "[5 rows x 4 columns]"
            ]
          },
          "metadata": {},
          "execution_count": 10
        }
      ]
    },
    {
      "cell_type": "code",
      "metadata": {
        "colab": {
          "base_uri": "https://localhost:8080/",
          "height": 204
        },
        "id": "eUL5FJQHwKVe",
        "outputId": "e86b0ed9-034f-4cbf-dcaf-3c0c66586f07"
      },
      "source": [
        "# Data from sheet \"Test Collected - Symptoms\"\n",
        "\n",
        "df_collect_sym = pd.read_excel(path, sheet_name = \"Test Collected - Symptoms\").fillna(value = collect_na)\n",
        "df_collect_sym = df_collect_sym.rename(columns = {\"Count Collected\":\"Count Collected Symptoms\"\\\n",
        "                                                  ,\"Average Days to Result\":\"Avg Days Result Symptoms\"})\n",
        "df_collect_sym.head()"
      ],
      "execution_count": 11,
      "outputs": [
        {
          "output_type": "execute_result",
          "data": {
            "text/html": [
              "<div>\n",
              "<style scoped>\n",
              "    .dataframe tbody tr th:only-of-type {\n",
              "        vertical-align: middle;\n",
              "    }\n",
              "\n",
              "    .dataframe tbody tr th {\n",
              "        vertical-align: top;\n",
              "    }\n",
              "\n",
              "    .dataframe thead th {\n",
              "        text-align: right;\n",
              "    }\n",
              "</style>\n",
              "<table border=\"1\" class=\"dataframe\">\n",
              "  <thead>\n",
              "    <tr style=\"text-align: right;\">\n",
              "      <th></th>\n",
              "      <th>Collection Date</th>\n",
              "      <th>Patient Type</th>\n",
              "      <th>Count Collected Symptoms</th>\n",
              "      <th>Avg Days Result Symptoms</th>\n",
              "    </tr>\n",
              "  </thead>\n",
              "  <tbody>\n",
              "    <tr>\n",
              "      <th>0</th>\n",
              "      <td>2021-01-01</td>\n",
              "      <td>Total</td>\n",
              "      <td>0.0</td>\n",
              "      <td>NaN</td>\n",
              "    </tr>\n",
              "    <tr>\n",
              "      <th>1</th>\n",
              "      <td>2021-01-01</td>\n",
              "      <td>Faculty / Staff</td>\n",
              "      <td>0.0</td>\n",
              "      <td>NaN</td>\n",
              "    </tr>\n",
              "    <tr>\n",
              "      <th>2</th>\n",
              "      <td>2021-01-01</td>\n",
              "      <td>Grad</td>\n",
              "      <td>0.0</td>\n",
              "      <td>NaN</td>\n",
              "    </tr>\n",
              "    <tr>\n",
              "      <th>3</th>\n",
              "      <td>2021-01-01</td>\n",
              "      <td>Undergrad</td>\n",
              "      <td>0.0</td>\n",
              "      <td>NaN</td>\n",
              "    </tr>\n",
              "    <tr>\n",
              "      <th>4</th>\n",
              "      <td>2021-01-04</td>\n",
              "      <td>Total</td>\n",
              "      <td>0.0</td>\n",
              "      <td>NaN</td>\n",
              "    </tr>\n",
              "  </tbody>\n",
              "</table>\n",
              "</div>"
            ],
            "text/plain": [
              "  Collection Date  ... Avg Days Result Symptoms\n",
              "0      2021-01-01  ...                      NaN\n",
              "1      2021-01-01  ...                      NaN\n",
              "2      2021-01-01  ...                      NaN\n",
              "3      2021-01-01  ...                      NaN\n",
              "4      2021-01-04  ...                      NaN\n",
              "\n",
              "[5 rows x 4 columns]"
            ]
          },
          "metadata": {},
          "execution_count": 11
        }
      ]
    },
    {
      "cell_type": "code",
      "metadata": {
        "colab": {
          "base_uri": "https://localhost:8080/",
          "height": 204
        },
        "id": "6ELVrewVvydb",
        "outputId": "51259e6f-702d-451b-a404-d56de7487888"
      },
      "source": [
        "# Data from sheet \"Test Collected - Surveillance\"\n",
        "\n",
        "df_collect_surv = pd.read_excel(path, sheet_name = \"Test Collected-Surveillance\").fillna(value = collect_na)\n",
        "df_collect_surv = df_collect_surv.rename(columns = {\"Count Collected\":\"Count Collected Surveillance\"\\\n",
        "                                                  ,\"Average Days to Result\":\"Avg Days Result Surveillance\"})\n",
        "df_collect_surv.head()"
      ],
      "execution_count": 12,
      "outputs": [
        {
          "output_type": "execute_result",
          "data": {
            "text/html": [
              "<div>\n",
              "<style scoped>\n",
              "    .dataframe tbody tr th:only-of-type {\n",
              "        vertical-align: middle;\n",
              "    }\n",
              "\n",
              "    .dataframe tbody tr th {\n",
              "        vertical-align: top;\n",
              "    }\n",
              "\n",
              "    .dataframe thead th {\n",
              "        text-align: right;\n",
              "    }\n",
              "</style>\n",
              "<table border=\"1\" class=\"dataframe\">\n",
              "  <thead>\n",
              "    <tr style=\"text-align: right;\">\n",
              "      <th></th>\n",
              "      <th>Collection Date</th>\n",
              "      <th>Patient Type</th>\n",
              "      <th>Count Collected Surveillance</th>\n",
              "      <th>Avg Days Result Surveillance</th>\n",
              "    </tr>\n",
              "  </thead>\n",
              "  <tbody>\n",
              "    <tr>\n",
              "      <th>0</th>\n",
              "      <td>2021-01-01</td>\n",
              "      <td>Total</td>\n",
              "      <td>107.0</td>\n",
              "      <td>4.009346</td>\n",
              "    </tr>\n",
              "    <tr>\n",
              "      <th>1</th>\n",
              "      <td>2021-01-01</td>\n",
              "      <td>Faculty / Staff</td>\n",
              "      <td>4.0</td>\n",
              "      <td>4.000000</td>\n",
              "    </tr>\n",
              "    <tr>\n",
              "      <th>2</th>\n",
              "      <td>2021-01-01</td>\n",
              "      <td>Grad</td>\n",
              "      <td>3.0</td>\n",
              "      <td>4.000000</td>\n",
              "    </tr>\n",
              "    <tr>\n",
              "      <th>3</th>\n",
              "      <td>2021-01-01</td>\n",
              "      <td>Undergrad</td>\n",
              "      <td>100.0</td>\n",
              "      <td>4.010000</td>\n",
              "    </tr>\n",
              "    <tr>\n",
              "      <th>4</th>\n",
              "      <td>2021-01-04</td>\n",
              "      <td>Total</td>\n",
              "      <td>197.0</td>\n",
              "      <td>2.000000</td>\n",
              "    </tr>\n",
              "  </tbody>\n",
              "</table>\n",
              "</div>"
            ],
            "text/plain": [
              "  Collection Date  ... Avg Days Result Surveillance\n",
              "0      2021-01-01  ...                     4.009346\n",
              "1      2021-01-01  ...                     4.000000\n",
              "2      2021-01-01  ...                     4.000000\n",
              "3      2021-01-01  ...                     4.010000\n",
              "4      2021-01-04  ...                     2.000000\n",
              "\n",
              "[5 rows x 4 columns]"
            ]
          },
          "metadata": {},
          "execution_count": 12
        }
      ]
    },
    {
      "cell_type": "markdown",
      "metadata": {
        "id": "tQHDQyAlBpAh"
      },
      "source": [
        "Data below relates to positive cases:"
      ]
    },
    {
      "cell_type": "code",
      "metadata": {
        "colab": {
          "base_uri": "https://localhost:8080/",
          "height": 204
        },
        "id": "CRar9pecAfwJ",
        "outputId": "c9fc748e-7a8e-4680-d1a4-9eca745ee948"
      },
      "source": [
        "# Data from sheet \"Positive Test - Exposure\"\n",
        "\n",
        "df_case_exp = pd.read_excel(path, sheet_name = \"Positive Test - Exposure\")\\\n",
        ".fillna(0)\\\n",
        ".rename(columns = {\"Positive Result Count\": \"Positive Count Exposure\"})\n",
        "df_case_exp.head()"
      ],
      "execution_count": 13,
      "outputs": [
        {
          "output_type": "execute_result",
          "data": {
            "text/html": [
              "<div>\n",
              "<style scoped>\n",
              "    .dataframe tbody tr th:only-of-type {\n",
              "        vertical-align: middle;\n",
              "    }\n",
              "\n",
              "    .dataframe tbody tr th {\n",
              "        vertical-align: top;\n",
              "    }\n",
              "\n",
              "    .dataframe thead th {\n",
              "        text-align: right;\n",
              "    }\n",
              "</style>\n",
              "<table border=\"1\" class=\"dataframe\">\n",
              "  <thead>\n",
              "    <tr style=\"text-align: right;\">\n",
              "      <th></th>\n",
              "      <th>Result Date</th>\n",
              "      <th>Patient Type</th>\n",
              "      <th>Positive Count Exposure</th>\n",
              "    </tr>\n",
              "  </thead>\n",
              "  <tbody>\n",
              "    <tr>\n",
              "      <th>0</th>\n",
              "      <td>2021-01-05</td>\n",
              "      <td>Total</td>\n",
              "      <td>0.0</td>\n",
              "    </tr>\n",
              "    <tr>\n",
              "      <th>1</th>\n",
              "      <td>2021-01-05</td>\n",
              "      <td>Faculty / Staff</td>\n",
              "      <td>0.0</td>\n",
              "    </tr>\n",
              "    <tr>\n",
              "      <th>2</th>\n",
              "      <td>2021-01-05</td>\n",
              "      <td>Grad</td>\n",
              "      <td>0.0</td>\n",
              "    </tr>\n",
              "    <tr>\n",
              "      <th>3</th>\n",
              "      <td>2021-01-05</td>\n",
              "      <td>Undergrad</td>\n",
              "      <td>0.0</td>\n",
              "    </tr>\n",
              "    <tr>\n",
              "      <th>4</th>\n",
              "      <td>2021-01-06</td>\n",
              "      <td>Total</td>\n",
              "      <td>3.0</td>\n",
              "    </tr>\n",
              "  </tbody>\n",
              "</table>\n",
              "</div>"
            ],
            "text/plain": [
              "  Result Date     Patient Type  Positive Count Exposure\n",
              "0  2021-01-05            Total                      0.0\n",
              "1  2021-01-05  Faculty / Staff                      0.0\n",
              "2  2021-01-05             Grad                      0.0\n",
              "3  2021-01-05        Undergrad                      0.0\n",
              "4  2021-01-06            Total                      3.0"
            ]
          },
          "metadata": {},
          "execution_count": 13
        }
      ]
    },
    {
      "cell_type": "code",
      "metadata": {
        "colab": {
          "base_uri": "https://localhost:8080/",
          "height": 204
        },
        "id": "N2QCljGwA-dE",
        "outputId": "d1f7c819-6170-4bc6-bad7-f4760bb4689d"
      },
      "source": [
        "# Data from sheet \"Positive Test - Symptoms\"\n",
        "\n",
        "df_case_sym = pd.read_excel(path, sheet_name = \"Positive Test - Symptoms\")\\\n",
        ".fillna(0)\\\n",
        ".rename(columns = {\"Positive Result Count\": \"Positive Count Symptoms\" })\n",
        "df_case_sym.head()"
      ],
      "execution_count": 14,
      "outputs": [
        {
          "output_type": "execute_result",
          "data": {
            "text/html": [
              "<div>\n",
              "<style scoped>\n",
              "    .dataframe tbody tr th:only-of-type {\n",
              "        vertical-align: middle;\n",
              "    }\n",
              "\n",
              "    .dataframe tbody tr th {\n",
              "        vertical-align: top;\n",
              "    }\n",
              "\n",
              "    .dataframe thead th {\n",
              "        text-align: right;\n",
              "    }\n",
              "</style>\n",
              "<table border=\"1\" class=\"dataframe\">\n",
              "  <thead>\n",
              "    <tr style=\"text-align: right;\">\n",
              "      <th></th>\n",
              "      <th>Result Date</th>\n",
              "      <th>Patient Type</th>\n",
              "      <th>Positive Count Symptoms</th>\n",
              "    </tr>\n",
              "  </thead>\n",
              "  <tbody>\n",
              "    <tr>\n",
              "      <th>0</th>\n",
              "      <td>2021-01-05</td>\n",
              "      <td>Total</td>\n",
              "      <td>0.0</td>\n",
              "    </tr>\n",
              "    <tr>\n",
              "      <th>1</th>\n",
              "      <td>2021-01-05</td>\n",
              "      <td>Faculty / Staff</td>\n",
              "      <td>0.0</td>\n",
              "    </tr>\n",
              "    <tr>\n",
              "      <th>2</th>\n",
              "      <td>2021-01-05</td>\n",
              "      <td>Grad</td>\n",
              "      <td>0.0</td>\n",
              "    </tr>\n",
              "    <tr>\n",
              "      <th>3</th>\n",
              "      <td>2021-01-05</td>\n",
              "      <td>Undergrad</td>\n",
              "      <td>0.0</td>\n",
              "    </tr>\n",
              "    <tr>\n",
              "      <th>4</th>\n",
              "      <td>2021-01-06</td>\n",
              "      <td>Total</td>\n",
              "      <td>7.0</td>\n",
              "    </tr>\n",
              "  </tbody>\n",
              "</table>\n",
              "</div>"
            ],
            "text/plain": [
              "  Result Date     Patient Type  Positive Count Symptoms\n",
              "0  2021-01-05            Total                      0.0\n",
              "1  2021-01-05  Faculty / Staff                      0.0\n",
              "2  2021-01-05             Grad                      0.0\n",
              "3  2021-01-05        Undergrad                      0.0\n",
              "4  2021-01-06            Total                      7.0"
            ]
          },
          "metadata": {},
          "execution_count": 14
        }
      ]
    },
    {
      "cell_type": "code",
      "metadata": {
        "colab": {
          "base_uri": "https://localhost:8080/",
          "height": 204
        },
        "id": "CkYG3_XiBJcI",
        "outputId": "09b48e37-4cd5-4c54-b332-53808a12b9fe"
      },
      "source": [
        "# Data from sheet \"Positive Test - Surveillance\"\n",
        "\n",
        "df_case_surv = pd.read_excel(path, sheet_name = \"Positive Test - Surveillance\")\\\n",
        ".fillna(0)\\\n",
        ".rename(columns = {\"Positive Result Count\": \"Positive Count Surveillance\"})\n",
        "df_case_surv.head()"
      ],
      "execution_count": 15,
      "outputs": [
        {
          "output_type": "execute_result",
          "data": {
            "text/html": [
              "<div>\n",
              "<style scoped>\n",
              "    .dataframe tbody tr th:only-of-type {\n",
              "        vertical-align: middle;\n",
              "    }\n",
              "\n",
              "    .dataframe tbody tr th {\n",
              "        vertical-align: top;\n",
              "    }\n",
              "\n",
              "    .dataframe thead th {\n",
              "        text-align: right;\n",
              "    }\n",
              "</style>\n",
              "<table border=\"1\" class=\"dataframe\">\n",
              "  <thead>\n",
              "    <tr style=\"text-align: right;\">\n",
              "      <th></th>\n",
              "      <th>Result Date</th>\n",
              "      <th>Patient Type</th>\n",
              "      <th>Positive Count Surveillance</th>\n",
              "    </tr>\n",
              "  </thead>\n",
              "  <tbody>\n",
              "    <tr>\n",
              "      <th>0</th>\n",
              "      <td>2021-01-05</td>\n",
              "      <td>Total</td>\n",
              "      <td>1.0</td>\n",
              "    </tr>\n",
              "    <tr>\n",
              "      <th>1</th>\n",
              "      <td>2021-01-05</td>\n",
              "      <td>Faculty / Staff</td>\n",
              "      <td>0.0</td>\n",
              "    </tr>\n",
              "    <tr>\n",
              "      <th>2</th>\n",
              "      <td>2021-01-05</td>\n",
              "      <td>Grad</td>\n",
              "      <td>0.0</td>\n",
              "    </tr>\n",
              "    <tr>\n",
              "      <th>3</th>\n",
              "      <td>2021-01-05</td>\n",
              "      <td>Undergrad</td>\n",
              "      <td>1.0</td>\n",
              "    </tr>\n",
              "    <tr>\n",
              "      <th>4</th>\n",
              "      <td>2021-01-06</td>\n",
              "      <td>Total</td>\n",
              "      <td>1.0</td>\n",
              "    </tr>\n",
              "  </tbody>\n",
              "</table>\n",
              "</div>"
            ],
            "text/plain": [
              "  Result Date     Patient Type  Positive Count Surveillance\n",
              "0  2021-01-05            Total                          1.0\n",
              "1  2021-01-05  Faculty / Staff                          0.0\n",
              "2  2021-01-05             Grad                          0.0\n",
              "3  2021-01-05        Undergrad                          1.0\n",
              "4  2021-01-06            Total                          1.0"
            ]
          },
          "metadata": {},
          "execution_count": 15
        }
      ]
    },
    {
      "cell_type": "markdown",
      "metadata": {
        "id": "Gmer3MDoNKcl"
      },
      "source": [
        "# **Predicting COVID cases**"
      ]
    },
    {
      "cell_type": "markdown",
      "metadata": {
        "id": "pCkSr1qENp7e"
      },
      "source": [
        "Using time series analysis, we want to predict the number of COVID cases in UC Berkeley from October, 21 2021 until December, 31 2021. We have the data `df_case_exp`, `df_case_sym`, `df_case_surv` containing the number of positive cases in Berkeley for each testing place. Our expectation is that if the number of people tested positive from the previous day is high, then the next day the number of people requesting COVID testing is also high. Hence, after conducting time series analysis, we have the data for 1 year (January, 1 2021 until December, 31 2021)."
      ]
    },
    {
      "cell_type": "markdown",
      "metadata": {
        "id": "YjOtcEQdTCF2"
      },
      "source": [
        "In the code below, we want to obtain the table about the total COVID cases from each date."
      ]
    },
    {
      "cell_type": "code",
      "metadata": {
        "colab": {
          "base_uri": "https://localhost:8080/",
          "height": 204
        },
        "id": "gOO9V2w5BOsQ",
        "outputId": "83e275cf-9795-4730-8f6d-06103798f628"
      },
      "source": [
        "df_case = pd.concat([df_case_exp,df_case_sym,df_case_surv], join = \"outer\", axis = 1)\n",
        "df_case = df_case.iloc[:,~df_case.columns.duplicated()]\n",
        "df_case['Total Positive Count'] = df_case['Positive Count Exposure'] + \\\n",
        "df_case['Positive Count Symptoms'] + df_case['Positive Count Surveillance']\n",
        "df_case = df_case.head(1303)\n",
        "df_case.head()"
      ],
      "execution_count": 16,
      "outputs": [
        {
          "output_type": "execute_result",
          "data": {
            "text/html": [
              "<div>\n",
              "<style scoped>\n",
              "    .dataframe tbody tr th:only-of-type {\n",
              "        vertical-align: middle;\n",
              "    }\n",
              "\n",
              "    .dataframe tbody tr th {\n",
              "        vertical-align: top;\n",
              "    }\n",
              "\n",
              "    .dataframe thead th {\n",
              "        text-align: right;\n",
              "    }\n",
              "</style>\n",
              "<table border=\"1\" class=\"dataframe\">\n",
              "  <thead>\n",
              "    <tr style=\"text-align: right;\">\n",
              "      <th></th>\n",
              "      <th>Result Date</th>\n",
              "      <th>Patient Type</th>\n",
              "      <th>Positive Count Exposure</th>\n",
              "      <th>Positive Count Symptoms</th>\n",
              "      <th>Positive Count Surveillance</th>\n",
              "      <th>Total Positive Count</th>\n",
              "    </tr>\n",
              "  </thead>\n",
              "  <tbody>\n",
              "    <tr>\n",
              "      <th>0</th>\n",
              "      <td>2021-01-05</td>\n",
              "      <td>Total</td>\n",
              "      <td>0.0</td>\n",
              "      <td>0.0</td>\n",
              "      <td>1.0</td>\n",
              "      <td>1.0</td>\n",
              "    </tr>\n",
              "    <tr>\n",
              "      <th>1</th>\n",
              "      <td>2021-01-05</td>\n",
              "      <td>Faculty / Staff</td>\n",
              "      <td>0.0</td>\n",
              "      <td>0.0</td>\n",
              "      <td>0.0</td>\n",
              "      <td>0.0</td>\n",
              "    </tr>\n",
              "    <tr>\n",
              "      <th>2</th>\n",
              "      <td>2021-01-05</td>\n",
              "      <td>Grad</td>\n",
              "      <td>0.0</td>\n",
              "      <td>0.0</td>\n",
              "      <td>0.0</td>\n",
              "      <td>0.0</td>\n",
              "    </tr>\n",
              "    <tr>\n",
              "      <th>3</th>\n",
              "      <td>2021-01-05</td>\n",
              "      <td>Undergrad</td>\n",
              "      <td>0.0</td>\n",
              "      <td>0.0</td>\n",
              "      <td>1.0</td>\n",
              "      <td>1.0</td>\n",
              "    </tr>\n",
              "    <tr>\n",
              "      <th>4</th>\n",
              "      <td>2021-01-06</td>\n",
              "      <td>Total</td>\n",
              "      <td>3.0</td>\n",
              "      <td>7.0</td>\n",
              "      <td>1.0</td>\n",
              "      <td>11.0</td>\n",
              "    </tr>\n",
              "  </tbody>\n",
              "</table>\n",
              "</div>"
            ],
            "text/plain": [
              "  Result Date  ... Total Positive Count\n",
              "0  2021-01-05  ...                  1.0\n",
              "1  2021-01-05  ...                  0.0\n",
              "2  2021-01-05  ...                  0.0\n",
              "3  2021-01-05  ...                  1.0\n",
              "4  2021-01-06  ...                 11.0\n",
              "\n",
              "[5 rows x 6 columns]"
            ]
          },
          "metadata": {},
          "execution_count": 16
        }
      ]
    },
    {
      "cell_type": "markdown",
      "metadata": {
        "id": "6OpCDB2HtzhG"
      },
      "source": [
        "We pivot the data. This pivot table will be used on the next graph."
      ]
    },
    {
      "cell_type": "code",
      "metadata": {
        "colab": {
          "base_uri": "https://localhost:8080/",
          "height": 419
        },
        "id": "9jAlfmNcQ1HF",
        "outputId": "e03f7645-2c58-48db-9c6e-7206d8e9d58b"
      },
      "source": [
        "df_case_count = df_case.copy()\n",
        "df_case_count['Result Date'] = pd.to_datetime(df_case_count['Result Date'])\n",
        "df_case_count = df_case_count.pivot(index = \"Result Date\", columns = \"Patient Type\", values = \"Total Positive Count\").reset_index()\n",
        "df_case_count = df_case_count.fillna(0)\n",
        "df_case_count"
      ],
      "execution_count": 17,
      "outputs": [
        {
          "output_type": "execute_result",
          "data": {
            "text/html": [
              "<div>\n",
              "<style scoped>\n",
              "    .dataframe tbody tr th:only-of-type {\n",
              "        vertical-align: middle;\n",
              "    }\n",
              "\n",
              "    .dataframe tbody tr th {\n",
              "        vertical-align: top;\n",
              "    }\n",
              "\n",
              "    .dataframe thead th {\n",
              "        text-align: right;\n",
              "    }\n",
              "</style>\n",
              "<table border=\"1\" class=\"dataframe\">\n",
              "  <thead>\n",
              "    <tr style=\"text-align: right;\">\n",
              "      <th>Patient Type</th>\n",
              "      <th>Result Date</th>\n",
              "      <th>Faculty / Staff</th>\n",
              "      <th>Grad</th>\n",
              "      <th>Other</th>\n",
              "      <th>Total</th>\n",
              "      <th>Undergrad</th>\n",
              "    </tr>\n",
              "  </thead>\n",
              "  <tbody>\n",
              "    <tr>\n",
              "      <th>0</th>\n",
              "      <td>2021-01-05</td>\n",
              "      <td>0.0</td>\n",
              "      <td>0.0</td>\n",
              "      <td>0.0</td>\n",
              "      <td>1.0</td>\n",
              "      <td>1.0</td>\n",
              "    </tr>\n",
              "    <tr>\n",
              "      <th>1</th>\n",
              "      <td>2021-01-06</td>\n",
              "      <td>0.0</td>\n",
              "      <td>1.0</td>\n",
              "      <td>0.0</td>\n",
              "      <td>11.0</td>\n",
              "      <td>10.0</td>\n",
              "    </tr>\n",
              "    <tr>\n",
              "      <th>2</th>\n",
              "      <td>2021-01-07</td>\n",
              "      <td>4.0</td>\n",
              "      <td>2.0</td>\n",
              "      <td>0.0</td>\n",
              "      <td>13.0</td>\n",
              "      <td>7.0</td>\n",
              "    </tr>\n",
              "    <tr>\n",
              "      <th>3</th>\n",
              "      <td>2021-01-08</td>\n",
              "      <td>2.0</td>\n",
              "      <td>5.0</td>\n",
              "      <td>0.0</td>\n",
              "      <td>14.0</td>\n",
              "      <td>7.0</td>\n",
              "    </tr>\n",
              "    <tr>\n",
              "      <th>4</th>\n",
              "      <td>2021-01-09</td>\n",
              "      <td>2.0</td>\n",
              "      <td>2.0</td>\n",
              "      <td>0.0</td>\n",
              "      <td>7.0</td>\n",
              "      <td>3.0</td>\n",
              "    </tr>\n",
              "    <tr>\n",
              "      <th>...</th>\n",
              "      <td>...</td>\n",
              "      <td>...</td>\n",
              "      <td>...</td>\n",
              "      <td>...</td>\n",
              "      <td>...</td>\n",
              "      <td>...</td>\n",
              "    </tr>\n",
              "    <tr>\n",
              "      <th>266</th>\n",
              "      <td>2021-10-16</td>\n",
              "      <td>0.0</td>\n",
              "      <td>0.0</td>\n",
              "      <td>0.0</td>\n",
              "      <td>1.0</td>\n",
              "      <td>1.0</td>\n",
              "    </tr>\n",
              "    <tr>\n",
              "      <th>267</th>\n",
              "      <td>2021-10-17</td>\n",
              "      <td>0.0</td>\n",
              "      <td>0.0</td>\n",
              "      <td>0.0</td>\n",
              "      <td>0.0</td>\n",
              "      <td>0.0</td>\n",
              "    </tr>\n",
              "    <tr>\n",
              "      <th>268</th>\n",
              "      <td>2021-10-18</td>\n",
              "      <td>1.0</td>\n",
              "      <td>1.0</td>\n",
              "      <td>0.0</td>\n",
              "      <td>4.0</td>\n",
              "      <td>2.0</td>\n",
              "    </tr>\n",
              "    <tr>\n",
              "      <th>269</th>\n",
              "      <td>2021-10-19</td>\n",
              "      <td>0.0</td>\n",
              "      <td>2.0</td>\n",
              "      <td>0.0</td>\n",
              "      <td>8.0</td>\n",
              "      <td>6.0</td>\n",
              "    </tr>\n",
              "    <tr>\n",
              "      <th>270</th>\n",
              "      <td>2021-10-20</td>\n",
              "      <td>0.0</td>\n",
              "      <td>3.0</td>\n",
              "      <td>0.0</td>\n",
              "      <td>8.0</td>\n",
              "      <td>5.0</td>\n",
              "    </tr>\n",
              "  </tbody>\n",
              "</table>\n",
              "<p>271 rows × 6 columns</p>\n",
              "</div>"
            ],
            "text/plain": [
              "Patient Type Result Date  Faculty / Staff  Grad  Other  Total  Undergrad\n",
              "0             2021-01-05              0.0   0.0    0.0    1.0        1.0\n",
              "1             2021-01-06              0.0   1.0    0.0   11.0       10.0\n",
              "2             2021-01-07              4.0   2.0    0.0   13.0        7.0\n",
              "3             2021-01-08              2.0   5.0    0.0   14.0        7.0\n",
              "4             2021-01-09              2.0   2.0    0.0    7.0        3.0\n",
              "..                   ...              ...   ...    ...    ...        ...\n",
              "266           2021-10-16              0.0   0.0    0.0    1.0        1.0\n",
              "267           2021-10-17              0.0   0.0    0.0    0.0        0.0\n",
              "268           2021-10-18              1.0   1.0    0.0    4.0        2.0\n",
              "269           2021-10-19              0.0   2.0    0.0    8.0        6.0\n",
              "270           2021-10-20              0.0   3.0    0.0    8.0        5.0\n",
              "\n",
              "[271 rows x 6 columns]"
            ]
          },
          "metadata": {},
          "execution_count": 17
        }
      ]
    },
    {
      "cell_type": "markdown",
      "metadata": {
        "id": "Tm8OzSkXYJu7"
      },
      "source": [
        "We plot the total number of positive cases in UC Berkeley. You can hover your mouse into the bar graph for data:"
      ]
    },
    {
      "cell_type": "code",
      "metadata": {
        "colab": {
          "base_uri": "https://localhost:8080/",
          "height": 542
        },
        "id": "4xjeFGQqS9dF",
        "outputId": "ecd99066-5763-4d66-9a20-d102e8a3c09e"
      },
      "source": [
        "fig_count = px.bar(df_case_count, x= 'Result Date', y = 'Total', \\\n",
        "                   title = \"Total Positive Cases\", hover_data = ['Faculty / Staff','Grad','Undergrad','Other'])\n",
        "fig_count.show()"
      ],
      "execution_count": 18,
      "outputs": [
        {
          "output_type": "display_data",
          "data": {
            "text/html": [
              "<html>\n",
              "<head><meta charset=\"utf-8\" /></head>\n",
              "<body>\n",
              "    <div>\n",
              "            <script src=\"https://cdnjs.cloudflare.com/ajax/libs/mathjax/2.7.5/MathJax.js?config=TeX-AMS-MML_SVG\"></script><script type=\"text/javascript\">if (window.MathJax) {MathJax.Hub.Config({SVG: {font: \"STIX-Web\"}});}</script>\n",
              "                <script type=\"text/javascript\">window.PlotlyConfig = {MathJaxConfig: 'local'};</script>\n",
              "        <script src=\"https://cdn.plot.ly/plotly-latest.min.js\"></script>    \n",
              "            <div id=\"2ed89e25-14a9-4e10-be0f-bdecf5a52e27\" class=\"plotly-graph-div\" style=\"height:525px; width:100%;\"></div>\n",
              "            <script type=\"text/javascript\">\n",
              "                \n",
              "                    window.PLOTLYENV=window.PLOTLYENV || {};\n",
              "                    \n",
              "                if (document.getElementById(\"2ed89e25-14a9-4e10-be0f-bdecf5a52e27\")) {\n",
              "                    Plotly.newPlot(\n",
              "                        '2ed89e25-14a9-4e10-be0f-bdecf5a52e27',\n",
              "                        [{\"alignmentgroup\": \"True\", \"customdata\": [[0.0, 0.0, 1.0, 0.0], [0.0, 1.0, 10.0, 0.0], [4.0, 2.0, 7.0, 0.0], [2.0, 5.0, 7.0, 0.0], [2.0, 2.0, 3.0, 0.0], [0.0, 0.0, 0.0, 0.0], [0.0, 0.0, 1.0, 0.0], [1.0, 1.0, 0.0, 0.0], [2.0, 3.0, 10.0, 0.0], [1.0, 4.0, 5.0, 0.0], [2.0, 3.0, 6.0, 0.0], [0.0, 0.0, 4.0, 0.0], [1.0, 0.0, 0.0, 0.0], [0.0, 0.0, 1.0, 0.0], [0.0, 0.0, 6.0, 0.0], [2.0, 0.0, 9.0, 0.0], [1.0, 2.0, 6.0, 0.0], [3.0, 1.0, 5.0, 0.0], [0.0, 1.0, 1.0, 0.0], [0.0, 0.0, 0.0, 0.0], [1.0, 0.0, 10.0, 0.0], [3.0, 1.0, 14.0, 0.0], [0.0, 0.0, 29.0, 0.0], [3.0, 1.0, 39.0, 0.0], [1.0, 0.0, 42.0, 0.0], [0.0, 0.0, 32.0, 0.0], [0.0, 0.0, 0.0, 0.0], [3.0, 0.0, 37.0, 0.0], [0.0, 1.0, 11.0, 0.0], [1.0, 1.0, 31.0, 0.0], [0.0, 0.0, 7.0, 0.0], [1.0, 1.0, 38.0, 0.0], [0.0, 0.0, 6.0, 0.0], [1.0, 0.0, 12.0, 0.0], [0.0, 2.0, 16.0, 0.0], [1.0, 1.0, 25.0, 0.0], [2.0, 0.0, 17.0, 0.0], [0.0, 0.0, 7.0, 0.0], [0.0, 1.0, 13.0, 0.0], [4.0, 0.0, 2.0, 0.0], [1.0, 0.0, 4.0, 0.0], [0.0, 0.0, 4.0, 0.0], [0.0, 0.0, 2.0, 0.0], [0.0, 0.0, 2.0, 0.0], [0.0, 0.0, 3.0, 0.0], [0.0, 0.0, 4.0, 0.0], [0.0, 1.0, 0.0, 0.0], [1.0, 0.0, 0.0, 0.0], [0.0, 0.0, 0.0, 0.0], [0.0, 0.0, 2.0, 0.0], [0.0, 0.0, 2.0, 0.0], [0.0, 0.0, 0.0, 0.0], [0.0, 0.0, 0.0, 0.0], [0.0, 0.0, 0.0, 0.0], [0.0, 0.0, 1.0, 0.0], [0.0, 0.0, 3.0, 0.0], [0.0, 0.0, 1.0, 0.0], [0.0, 0.0, 1.0, 0.0], [0.0, 1.0, 1.0, 0.0], [1.0, 0.0, 7.0, 0.0], [0.0, 0.0, 0.0, 0.0], [0.0, 0.0, 4.0, 0.0], [0.0, 0.0, 2.0, 0.0], [0.0, 0.0, 0.0, 0.0], [0.0, 0.0, 4.0, 0.0], [0.0, 0.0, 6.0, 0.0], [0.0, 0.0, 3.0, 0.0], [0.0, 0.0, 0.0, 0.0], [0.0, 0.0, 2.0, 0.0], [0.0, 0.0, 1.0, 0.0], [0.0, 0.0, 1.0, 0.0], [1.0, 1.0, 2.0, 0.0], [0.0, 0.0, 3.0, 0.0], [0.0, 0.0, 0.0, 0.0], [1.0, 0.0, 0.0, 0.0], [0.0, 0.0, 3.0, 0.0], [0.0, 0.0, 1.0, 0.0], [0.0, 1.0, 0.0, 0.0], [0.0, 0.0, 1.0, 0.0], [0.0, 0.0, 1.0, 0.0], [1.0, 0.0, 0.0, 0.0], [0.0, 0.0, 0.0, 0.0], [0.0, 0.0, 2.0, 0.0], [0.0, 0.0, 4.0, 0.0], [0.0, 1.0, 4.0, 0.0], [0.0, 0.0, 8.0, 0.0], [0.0, 0.0, 2.0, 0.0], [0.0, 0.0, 1.0, 0.0], [0.0, 0.0, 0.0, 0.0], [0.0, 0.0, 1.0, 0.0], [1.0, 0.0, 0.0, 0.0], [1.0, 0.0, 0.0, 0.0], [0.0, 0.0, 2.0, 0.0], [0.0, 0.0, 2.0, 0.0], [0.0, 0.0, 0.0, 0.0], [0.0, 0.0, 2.0, 0.0], [0.0, 0.0, 2.0, 0.0], [0.0, 0.0, 1.0, 0.0], [0.0, 0.0, 4.0, 0.0], [0.0, 0.0, 3.0, 0.0], [1.0, 0.0, 2.0, 0.0], [0.0, 0.0, 0.0, 0.0], [0.0, 0.0, 0.0, 0.0], [0.0, 0.0, 0.0, 0.0], [0.0, 0.0, 0.0, 0.0], [0.0, 0.0, 2.0, 0.0], [0.0, 0.0, 0.0, 0.0], [0.0, 0.0, 0.0, 0.0], [0.0, 0.0, 0.0, 0.0], [0.0, 1.0, 0.0, 0.0], [0.0, 0.0, 0.0, 0.0], [0.0, 0.0, 0.0, 0.0], [0.0, 0.0, 1.0, 0.0], [0.0, 0.0, 0.0, 0.0], [0.0, 0.0, 1.0, 0.0], [0.0, 0.0, 0.0, 0.0], [0.0, 0.0, 0.0, 0.0], [0.0, 0.0, 0.0, 0.0], [0.0, 0.0, 0.0, 0.0], [0.0, 0.0, 1.0, 0.0], [0.0, 1.0, 0.0, 0.0], [0.0, 0.0, 0.0, 0.0], [0.0, 0.0, 0.0, 0.0], [0.0, 0.0, 0.0, 0.0], [0.0, 0.0, 0.0, 0.0], [0.0, 0.0, 1.0, 0.0], [0.0, 0.0, 0.0, 0.0], [0.0, 0.0, 0.0, 0.0], [0.0, 0.0, 0.0, 0.0], [0.0, 0.0, 0.0, 0.0], [0.0, 0.0, 0.0, 0.0], [0.0, 0.0, 0.0, 0.0], [0.0, 0.0, 0.0, 0.0], [0.0, 0.0, 0.0, 0.0], [0.0, 0.0, 0.0, 0.0], [0.0, 0.0, 0.0, 0.0], [0.0, 0.0, 0.0, 0.0], [0.0, 0.0, 0.0, 0.0], [0.0, 0.0, 0.0, 0.0], [0.0, 0.0, 0.0, 0.0], [0.0, 0.0, 0.0, 0.0], [0.0, 0.0, 0.0, 0.0], [0.0, 0.0, 0.0, 0.0], [0.0, 0.0, 0.0, 0.0], [0.0, 0.0, 0.0, 0.0], [0.0, 0.0, 0.0, 0.0], [0.0, 0.0, 0.0, 0.0], [0.0, 0.0, 0.0, 0.0], [0.0, 0.0, 0.0, 0.0], [0.0, 0.0, 0.0, 0.0], [1.0, 0.0, 0.0, 0.0], [0.0, 0.0, 0.0, 0.0], [0.0, 0.0, 0.0, 0.0], [0.0, 0.0, 0.0, 0.0], [0.0, 0.0, 0.0, 0.0], [1.0, 0.0, 0.0, 0.0], [0.0, 0.0, 0.0, 0.0], [0.0, 0.0, 0.0, 0.0], [0.0, 1.0, 0.0, 0.0], [0.0, 0.0, 0.0, 0.0], [0.0, 0.0, 0.0, 0.0], [0.0, 0.0, 0.0, 0.0], [0.0, 0.0, 0.0, 0.0], [0.0, 0.0, 0.0, 0.0], [0.0, 0.0, 0.0, 0.0], [1.0, 1.0, 0.0, 0.0], [0.0, 0.0, 0.0, 0.0], [0.0, 1.0, 0.0, 0.0], [0.0, 0.0, 0.0, 0.0], [0.0, 0.0, 1.0, 0.0], [0.0, 0.0, 1.0, 0.0], [0.0, 1.0, 2.0, 0.0], [0.0, 2.0, 2.0, 0.0], [0.0, 0.0, 0.0, 0.0], [0.0, 1.0, 0.0, 0.0], [1.0, 2.0, 4.0, 0.0], [0.0, 2.0, 2.0, 0.0], [1.0, 1.0, 1.0, 0.0], [0.0, 2.0, 1.0, 0.0], [0.0, 0.0, 0.0, 0.0], [0.0, 3.0, 2.0, 0.0], [1.0, 1.0, 3.0, 0.0], [1.0, 0.0, 3.0, 0.0], [1.0, 1.0, 2.0, 0.0], [3.0, 1.0, 1.0, 0.0], [1.0, 0.0, 0.0, 0.0], [1.0, 1.0, 3.0, 0.0], [2.0, 3.0, 0.0, 0.0], [0.0, 1.0, 3.0, 1.0], [1.0, 6.0, 2.0, 0.0], [1.0, 2.0, 1.0, 0.0], [1.0, 1.0, 2.0, 0.0], [0.0, 1.0, 1.0, 0.0], [3.0, 1.0, 2.0, 0.0], [1.0, 0.0, 2.0, 0.0], [0.0, 1.0, 3.0, 0.0], [4.0, 0.0, 3.0, 0.0], [0.0, 0.0, 0.0, 0.0], [0.0, 0.0, 2.0, 0.0], [3.0, 0.0, 3.0, 0.0], [3.0, 0.0, 0.0, 0.0], [0.0, 3.0, 2.0, 0.0], [0.0, 2.0, 3.0, 0.0], [2.0, 3.0, 1.0, 0.0], [1.0, 0.0, 0.0, 0.0], [0.0, 1.0, 1.0, 0.0], [0.0, 3.0, 1.0, 0.0], [1.0, 2.0, 2.0, 0.0], [1.0, 1.0, 8.0, 0.0], [0.0, 1.0, 8.0, 0.0], [0.0, 1.0, 10.0, 0.0], [0.0, 1.0, 6.0, 0.0], [0.0, 1.0, 8.0, 0.0], [1.0, 0.0, 3.0, 0.0], [0.0, 1.0, 5.0, 0.0], [0.0, 1.0, 8.0, 0.0], [0.0, 3.0, 15.0, 0.0], [0.0, 2.0, 10.0, 1.0], [0.0, 1.0, 4.0, 0.0], [0.0, 0.0, 3.0, 0.0], [0.0, 0.0, 1.0, 0.0], [0.0, 0.0, 0.0, 0.0], [3.0, 8.0, 28.0, 2.0], [1.0, 1.0, 7.0, 1.0], [0.0, 2.0, 24.0, 1.0], [0.0, 0.0, 2.0, 0.0], [0.0, 0.0, 1.0, 0.0], [1.0, 1.0, 7.0, 0.0], [0.0, 1.0, 8.0, 0.0], [0.0, 2.0, 8.0, 1.0], [4.0, 0.0, 8.0, 0.0], [0.0, 0.0, 2.0, 0.0], [0.0, 0.0, 2.0, 0.0], [1.0, 4.0, 28.0, 0.0], [0.0, 3.0, 21.0, 0.0], [0.0, 1.0, 12.0, 0.0], [0.0, 1.0, 8.0, 0.0], [1.0, 0.0, 5.0, 0.0], [0.0, 0.0, 0.0, 0.0], [0.0, 0.0, 1.0, 0.0], [0.0, 2.0, 5.0, 0.0], [0.0, 0.0, 5.0, 0.0], [3.0, 0.0, 4.0, 0.0], [0.0, 2.0, 5.0, 0.0], [0.0, 3.0, 4.0, 0.0], [0.0, 0.0, 0.0, 0.0], [0.0, 0.0, 0.0, 0.0], [0.0, 1.0, 0.0, 0.0], [0.0, 0.0, 2.0, 0.0], [0.0, 3.0, 3.0, 0.0], [1.0, 0.0, 1.0, 0.0], [1.0, 0.0, 2.0, 0.0], [1.0, 0.0, 0.0, 0.0], [0.0, 0.0, 1.0, 0.0], [0.0, 0.0, 2.0, 0.0], [0.0, 0.0, 1.0, 0.0], [0.0, 0.0, 3.0, 0.0], [0.0, 0.0, 0.0, 0.0], [1.0, 0.0, 1.0, 0.0], [0.0, 0.0, 0.0, 0.0], [0.0, 0.0, 0.0, 0.0], [0.0, 0.0, 1.0, 0.0], [0.0, 0.0, 2.0, 0.0], [1.0, 0.0, 1.0, 0.0], [0.0, 1.0, 4.0, 0.0], [0.0, 0.0, 4.0, 0.0], [0.0, 0.0, 1.0, 0.0], [0.0, 0.0, 0.0, 0.0], [1.0, 1.0, 2.0, 0.0], [0.0, 2.0, 6.0, 0.0], [0.0, 3.0, 5.0, 0.0]], \"hoverlabel\": {\"namelength\": 0}, \"hovertemplate\": \"Result Date=%{x}<br>Total=%{y}<br>Faculty / Staff=%{customdata[0]}<br>Grad=%{customdata[1]}<br>Undergrad=%{customdata[2]}<br>Other=%{customdata[3]}\", \"legendgroup\": \"\", \"marker\": {\"color\": \"#636efa\"}, \"name\": \"\", \"offsetgroup\": \"\", \"orientation\": \"v\", \"showlegend\": false, \"textposition\": \"auto\", \"type\": \"bar\", \"x\": [\"2021-01-05T00:00:00\", \"2021-01-06T00:00:00\", \"2021-01-07T00:00:00\", \"2021-01-08T00:00:00\", \"2021-01-09T00:00:00\", \"2021-01-10T00:00:00\", \"2021-01-11T00:00:00\", \"2021-01-12T00:00:00\", \"2021-01-13T00:00:00\", \"2021-01-14T00:00:00\", \"2021-01-15T00:00:00\", \"2021-01-16T00:00:00\", \"2021-01-17T00:00:00\", \"2021-01-19T00:00:00\", \"2021-01-20T00:00:00\", \"2021-01-21T00:00:00\", \"2021-01-22T00:00:00\", \"2021-01-23T00:00:00\", \"2021-01-24T00:00:00\", \"2021-01-25T00:00:00\", \"2021-01-26T00:00:00\", \"2021-01-27T00:00:00\", \"2021-01-28T00:00:00\", \"2021-01-29T00:00:00\", \"2021-01-30T00:00:00\", \"2021-01-31T00:00:00\", \"2021-02-01T00:00:00\", \"2021-02-02T00:00:00\", \"2021-02-03T00:00:00\", \"2021-02-04T00:00:00\", \"2021-02-05T00:00:00\", \"2021-02-06T00:00:00\", \"2021-02-07T00:00:00\", \"2021-02-08T00:00:00\", \"2021-02-09T00:00:00\", \"2021-02-10T00:00:00\", \"2021-02-11T00:00:00\", \"2021-02-12T00:00:00\", \"2021-02-13T00:00:00\", \"2021-02-14T00:00:00\", \"2021-02-15T00:00:00\", \"2021-02-16T00:00:00\", \"2021-02-17T00:00:00\", \"2021-02-18T00:00:00\", \"2021-02-19T00:00:00\", \"2021-02-20T00:00:00\", \"2021-02-21T00:00:00\", \"2021-02-22T00:00:00\", \"2021-02-23T00:00:00\", \"2021-02-24T00:00:00\", \"2021-02-25T00:00:00\", \"2021-02-26T00:00:00\", \"2021-02-27T00:00:00\", \"2021-02-28T00:00:00\", \"2021-03-01T00:00:00\", \"2021-03-02T00:00:00\", \"2021-03-03T00:00:00\", \"2021-03-04T00:00:00\", \"2021-03-05T00:00:00\", \"2021-03-06T00:00:00\", \"2021-03-07T00:00:00\", \"2021-03-08T00:00:00\", \"2021-03-09T00:00:00\", \"2021-03-10T00:00:00\", \"2021-03-11T00:00:00\", \"2021-03-12T00:00:00\", \"2021-03-13T00:00:00\", \"2021-03-14T00:00:00\", \"2021-03-15T00:00:00\", \"2021-03-16T00:00:00\", \"2021-03-17T00:00:00\", \"2021-03-18T00:00:00\", \"2021-03-19T00:00:00\", \"2021-03-20T00:00:00\", \"2021-03-21T00:00:00\", \"2021-03-22T00:00:00\", \"2021-03-23T00:00:00\", \"2021-03-24T00:00:00\", \"2021-03-25T00:00:00\", \"2021-03-26T00:00:00\", \"2021-03-27T00:00:00\", \"2021-03-28T00:00:00\", \"2021-03-29T00:00:00\", \"2021-03-30T00:00:00\", \"2021-03-31T00:00:00\", \"2021-04-01T00:00:00\", \"2021-04-02T00:00:00\", \"2021-04-03T00:00:00\", \"2021-04-04T00:00:00\", \"2021-04-05T00:00:00\", \"2021-04-06T00:00:00\", \"2021-04-07T00:00:00\", \"2021-04-08T00:00:00\", \"2021-04-09T00:00:00\", \"2021-04-10T00:00:00\", \"2021-04-11T00:00:00\", \"2021-04-12T00:00:00\", \"2021-04-13T00:00:00\", \"2021-04-14T00:00:00\", \"2021-04-15T00:00:00\", \"2021-04-16T00:00:00\", \"2021-04-17T00:00:00\", \"2021-04-18T00:00:00\", \"2021-04-19T00:00:00\", \"2021-04-20T00:00:00\", \"2021-04-21T00:00:00\", \"2021-04-22T00:00:00\", \"2021-04-23T00:00:00\", \"2021-04-24T00:00:00\", \"2021-04-25T00:00:00\", \"2021-04-26T00:00:00\", \"2021-04-27T00:00:00\", \"2021-04-28T00:00:00\", \"2021-04-29T00:00:00\", \"2021-04-30T00:00:00\", \"2021-05-01T00:00:00\", \"2021-05-03T00:00:00\", \"2021-05-04T00:00:00\", \"2021-05-05T00:00:00\", \"2021-05-06T00:00:00\", \"2021-05-07T00:00:00\", \"2021-05-08T00:00:00\", \"2021-05-09T00:00:00\", \"2021-05-10T00:00:00\", \"2021-05-11T00:00:00\", \"2021-05-12T00:00:00\", \"2021-05-13T00:00:00\", \"2021-05-14T00:00:00\", \"2021-05-15T00:00:00\", \"2021-05-17T00:00:00\", \"2021-05-18T00:00:00\", \"2021-05-19T00:00:00\", \"2021-05-20T00:00:00\", \"2021-05-21T00:00:00\", \"2021-05-22T00:00:00\", \"2021-05-24T00:00:00\", \"2021-05-25T00:00:00\", \"2021-05-26T00:00:00\", \"2021-05-27T00:00:00\", \"2021-05-28T00:00:00\", \"2021-05-29T00:00:00\", \"2021-06-01T00:00:00\", \"2021-06-02T00:00:00\", \"2021-06-03T00:00:00\", \"2021-06-04T00:00:00\", \"2021-06-05T00:00:00\", \"2021-06-07T00:00:00\", \"2021-06-08T00:00:00\", \"2021-06-09T00:00:00\", \"2021-06-10T00:00:00\", \"2021-06-11T00:00:00\", \"2021-06-12T00:00:00\", \"2021-06-14T00:00:00\", \"2021-06-15T00:00:00\", \"2021-06-16T00:00:00\", \"2021-06-17T00:00:00\", \"2021-06-18T00:00:00\", \"2021-06-19T00:00:00\", \"2021-06-21T00:00:00\", \"2021-06-22T00:00:00\", \"2021-06-23T00:00:00\", \"2021-06-24T00:00:00\", \"2021-06-25T00:00:00\", \"2021-06-26T00:00:00\", \"2021-06-29T00:00:00\", \"2021-06-30T00:00:00\", \"2021-07-01T00:00:00\", \"2021-07-02T00:00:00\", \"2021-07-03T00:00:00\", \"2021-07-06T00:00:00\", \"2021-07-07T00:00:00\", \"2021-07-08T00:00:00\", \"2021-07-09T00:00:00\", \"2021-07-10T00:00:00\", \"2021-07-12T00:00:00\", \"2021-07-13T00:00:00\", \"2021-07-14T00:00:00\", \"2021-07-15T00:00:00\", \"2021-07-16T00:00:00\", \"2021-07-17T00:00:00\", \"2021-07-19T00:00:00\", \"2021-07-20T00:00:00\", \"2021-07-21T00:00:00\", \"2021-07-22T00:00:00\", \"2021-07-23T00:00:00\", \"2021-07-24T00:00:00\", \"2021-07-26T00:00:00\", \"2021-07-27T00:00:00\", \"2021-07-28T00:00:00\", \"2021-07-29T00:00:00\", \"2021-07-30T00:00:00\", \"2021-07-31T00:00:00\", \"2021-08-02T00:00:00\", \"2021-08-03T00:00:00\", \"2021-08-04T00:00:00\", \"2021-08-05T00:00:00\", \"2021-08-06T00:00:00\", \"2021-08-07T00:00:00\", \"2021-08-08T00:00:00\", \"2021-08-09T00:00:00\", \"2021-08-10T00:00:00\", \"2021-08-11T00:00:00\", \"2021-08-12T00:00:00\", \"2021-08-13T00:00:00\", \"2021-08-14T00:00:00\", \"2021-08-15T00:00:00\", \"2021-08-16T00:00:00\", \"2021-08-17T00:00:00\", \"2021-08-18T00:00:00\", \"2021-08-19T00:00:00\", \"2021-08-20T00:00:00\", \"2021-08-21T00:00:00\", \"2021-08-22T00:00:00\", \"2021-08-23T00:00:00\", \"2021-08-24T00:00:00\", \"2021-08-25T00:00:00\", \"2021-08-26T00:00:00\", \"2021-08-27T00:00:00\", \"2021-08-28T00:00:00\", \"2021-08-29T00:00:00\", \"2021-08-30T00:00:00\", \"2021-08-31T00:00:00\", \"2021-09-01T00:00:00\", \"2021-09-02T00:00:00\", \"2021-09-03T00:00:00\", \"2021-09-04T00:00:00\", \"2021-09-05T00:00:00\", \"2021-09-07T00:00:00\", \"2021-09-08T00:00:00\", \"2021-09-09T00:00:00\", \"2021-09-10T00:00:00\", \"2021-09-11T00:00:00\", \"2021-09-12T00:00:00\", \"2021-09-13T00:00:00\", \"2021-09-14T00:00:00\", \"2021-09-15T00:00:00\", \"2021-09-16T00:00:00\", \"2021-09-17T00:00:00\", \"2021-09-18T00:00:00\", \"2021-09-19T00:00:00\", \"2021-09-20T00:00:00\", \"2021-09-21T00:00:00\", \"2021-09-22T00:00:00\", \"2021-09-23T00:00:00\", \"2021-09-24T00:00:00\", \"2021-09-25T00:00:00\", \"2021-09-26T00:00:00\", \"2021-09-27T00:00:00\", \"2021-09-28T00:00:00\", \"2021-09-29T00:00:00\", \"2021-09-30T00:00:00\", \"2021-10-01T00:00:00\", \"2021-10-02T00:00:00\", \"2021-10-03T00:00:00\", \"2021-10-04T00:00:00\", \"2021-10-05T00:00:00\", \"2021-10-06T00:00:00\", \"2021-10-07T00:00:00\", \"2021-10-08T00:00:00\", \"2021-10-09T00:00:00\", \"2021-10-10T00:00:00\", \"2021-10-11T00:00:00\", \"2021-10-12T00:00:00\", \"2021-10-13T00:00:00\", \"2021-10-14T00:00:00\", \"2021-10-15T00:00:00\", \"2021-10-16T00:00:00\", \"2021-10-17T00:00:00\", \"2021-10-18T00:00:00\", \"2021-10-19T00:00:00\", \"2021-10-20T00:00:00\"], \"xaxis\": \"x\", \"y\": [1.0, 11.0, 13.0, 14.0, 7.0, 0.0, 1.0, 2.0, 15.0, 10.0, 11.0, 4.0, 1.0, 1.0, 6.0, 11.0, 9.0, 9.0, 2.0, 0.0, 11.0, 18.0, 29.0, 43.0, 43.0, 32.0, 0.0, 40.0, 12.0, 33.0, 7.0, 40.0, 6.0, 13.0, 18.0, 27.0, 19.0, 7.0, 14.0, 6.0, 5.0, 4.0, 2.0, 2.0, 3.0, 4.0, 1.0, 1.0, 0.0, 2.0, 2.0, 0.0, 0.0, 0.0, 1.0, 3.0, 1.0, 1.0, 2.0, 8.0, 0.0, 4.0, 2.0, 0.0, 4.0, 6.0, 3.0, 0.0, 2.0, 1.0, 1.0, 4.0, 3.0, 0.0, 1.0, 3.0, 1.0, 1.0, 1.0, 1.0, 1.0, 0.0, 2.0, 4.0, 5.0, 8.0, 2.0, 1.0, 0.0, 1.0, 1.0, 1.0, 2.0, 2.0, 0.0, 2.0, 2.0, 1.0, 4.0, 3.0, 3.0, 0.0, 0.0, 0.0, 0.0, 2.0, 0.0, 0.0, 0.0, 1.0, 0.0, 0.0, 1.0, 0.0, 1.0, 0.0, 0.0, 0.0, 0.0, 1.0, 1.0, 0.0, 0.0, 0.0, 0.0, 1.0, 0.0, 0.0, 0.0, 0.0, 0.0, 0.0, 0.0, 0.0, 0.0, 0.0, 0.0, 0.0, 0.0, 0.0, 0.0, 0.0, 0.0, 0.0, 0.0, 0.0, 0.0, 0.0, 0.0, 0.0, 1.0, 0.0, 0.0, 0.0, 0.0, 1.0, 0.0, 0.0, 1.0, 0.0, 0.0, 0.0, 0.0, 0.0, 0.0, 2.0, 0.0, 1.0, 0.0, 1.0, 1.0, 3.0, 4.0, 0.0, 1.0, 7.0, 4.0, 3.0, 3.0, 0.0, 5.0, 5.0, 4.0, 4.0, 5.0, 1.0, 5.0, 5.0, 5.0, 9.0, 4.0, 4.0, 2.0, 6.0, 3.0, 4.0, 7.0, 0.0, 2.0, 6.0, 3.0, 5.0, 5.0, 6.0, 1.0, 2.0, 4.0, 5.0, 10.0, 9.0, 11.0, 7.0, 9.0, 4.0, 6.0, 9.0, 18.0, 13.0, 5.0, 3.0, 1.0, 0.0, 41.0, 10.0, 27.0, 2.0, 1.0, 9.0, 9.0, 11.0, 12.0, 2.0, 2.0, 33.0, 24.0, 13.0, 9.0, 6.0, 0.0, 1.0, 7.0, 5.0, 7.0, 7.0, 7.0, 0.0, 0.0, 1.0, 2.0, 6.0, 2.0, 3.0, 1.0, 1.0, 2.0, 1.0, 3.0, 0.0, 2.0, 0.0, 0.0, 1.0, 2.0, 2.0, 5.0, 4.0, 1.0, 0.0, 4.0, 8.0, 8.0], \"yaxis\": \"y\"}],\n",
              "                        {\"barmode\": \"relative\", \"legend\": {\"tracegroupgap\": 0}, \"template\": {\"data\": {\"bar\": [{\"error_x\": {\"color\": \"#2a3f5f\"}, \"error_y\": {\"color\": \"#2a3f5f\"}, \"marker\": {\"line\": {\"color\": \"#E5ECF6\", \"width\": 0.5}}, \"type\": \"bar\"}], \"barpolar\": [{\"marker\": {\"line\": {\"color\": \"#E5ECF6\", \"width\": 0.5}}, \"type\": \"barpolar\"}], \"carpet\": [{\"aaxis\": {\"endlinecolor\": \"#2a3f5f\", \"gridcolor\": \"white\", \"linecolor\": \"white\", \"minorgridcolor\": \"white\", \"startlinecolor\": \"#2a3f5f\"}, \"baxis\": {\"endlinecolor\": \"#2a3f5f\", \"gridcolor\": \"white\", \"linecolor\": \"white\", \"minorgridcolor\": \"white\", \"startlinecolor\": \"#2a3f5f\"}, \"type\": \"carpet\"}], \"choropleth\": [{\"colorbar\": {\"outlinewidth\": 0, \"ticks\": \"\"}, \"type\": \"choropleth\"}], \"contour\": [{\"colorbar\": {\"outlinewidth\": 0, \"ticks\": \"\"}, \"colorscale\": [[0.0, \"#0d0887\"], [0.1111111111111111, \"#46039f\"], [0.2222222222222222, \"#7201a8\"], [0.3333333333333333, \"#9c179e\"], [0.4444444444444444, \"#bd3786\"], [0.5555555555555556, \"#d8576b\"], [0.6666666666666666, \"#ed7953\"], [0.7777777777777778, \"#fb9f3a\"], [0.8888888888888888, \"#fdca26\"], [1.0, \"#f0f921\"]], \"type\": \"contour\"}], \"contourcarpet\": [{\"colorbar\": {\"outlinewidth\": 0, \"ticks\": \"\"}, \"type\": \"contourcarpet\"}], \"heatmap\": [{\"colorbar\": {\"outlinewidth\": 0, \"ticks\": \"\"}, \"colorscale\": [[0.0, \"#0d0887\"], [0.1111111111111111, \"#46039f\"], [0.2222222222222222, \"#7201a8\"], [0.3333333333333333, \"#9c179e\"], [0.4444444444444444, \"#bd3786\"], [0.5555555555555556, \"#d8576b\"], [0.6666666666666666, \"#ed7953\"], [0.7777777777777778, \"#fb9f3a\"], [0.8888888888888888, \"#fdca26\"], [1.0, \"#f0f921\"]], \"type\": \"heatmap\"}], \"heatmapgl\": [{\"colorbar\": {\"outlinewidth\": 0, \"ticks\": \"\"}, \"colorscale\": [[0.0, \"#0d0887\"], [0.1111111111111111, \"#46039f\"], [0.2222222222222222, \"#7201a8\"], [0.3333333333333333, \"#9c179e\"], [0.4444444444444444, \"#bd3786\"], [0.5555555555555556, \"#d8576b\"], [0.6666666666666666, \"#ed7953\"], [0.7777777777777778, \"#fb9f3a\"], [0.8888888888888888, \"#fdca26\"], [1.0, \"#f0f921\"]], \"type\": \"heatmapgl\"}], \"histogram\": [{\"marker\": {\"colorbar\": {\"outlinewidth\": 0, \"ticks\": \"\"}}, \"type\": \"histogram\"}], \"histogram2d\": [{\"colorbar\": {\"outlinewidth\": 0, \"ticks\": \"\"}, \"colorscale\": [[0.0, \"#0d0887\"], [0.1111111111111111, \"#46039f\"], [0.2222222222222222, \"#7201a8\"], [0.3333333333333333, \"#9c179e\"], [0.4444444444444444, \"#bd3786\"], [0.5555555555555556, \"#d8576b\"], [0.6666666666666666, \"#ed7953\"], [0.7777777777777778, \"#fb9f3a\"], [0.8888888888888888, \"#fdca26\"], [1.0, \"#f0f921\"]], \"type\": \"histogram2d\"}], \"histogram2dcontour\": [{\"colorbar\": {\"outlinewidth\": 0, \"ticks\": \"\"}, \"colorscale\": [[0.0, \"#0d0887\"], [0.1111111111111111, \"#46039f\"], [0.2222222222222222, \"#7201a8\"], [0.3333333333333333, \"#9c179e\"], [0.4444444444444444, \"#bd3786\"], [0.5555555555555556, \"#d8576b\"], [0.6666666666666666, \"#ed7953\"], [0.7777777777777778, \"#fb9f3a\"], [0.8888888888888888, \"#fdca26\"], [1.0, \"#f0f921\"]], \"type\": \"histogram2dcontour\"}], \"mesh3d\": [{\"colorbar\": {\"outlinewidth\": 0, \"ticks\": \"\"}, \"type\": \"mesh3d\"}], \"parcoords\": [{\"line\": {\"colorbar\": {\"outlinewidth\": 0, \"ticks\": \"\"}}, \"type\": \"parcoords\"}], \"pie\": [{\"automargin\": true, \"type\": \"pie\"}], \"scatter\": [{\"marker\": {\"colorbar\": {\"outlinewidth\": 0, \"ticks\": \"\"}}, \"type\": \"scatter\"}], \"scatter3d\": [{\"line\": {\"colorbar\": {\"outlinewidth\": 0, \"ticks\": \"\"}}, \"marker\": {\"colorbar\": {\"outlinewidth\": 0, \"ticks\": \"\"}}, \"type\": \"scatter3d\"}], \"scattercarpet\": [{\"marker\": {\"colorbar\": {\"outlinewidth\": 0, \"ticks\": \"\"}}, \"type\": \"scattercarpet\"}], \"scattergeo\": [{\"marker\": {\"colorbar\": {\"outlinewidth\": 0, \"ticks\": \"\"}}, \"type\": \"scattergeo\"}], \"scattergl\": [{\"marker\": {\"colorbar\": {\"outlinewidth\": 0, \"ticks\": \"\"}}, \"type\": \"scattergl\"}], \"scattermapbox\": [{\"marker\": {\"colorbar\": {\"outlinewidth\": 0, \"ticks\": \"\"}}, \"type\": \"scattermapbox\"}], \"scatterpolar\": [{\"marker\": {\"colorbar\": {\"outlinewidth\": 0, \"ticks\": \"\"}}, \"type\": \"scatterpolar\"}], \"scatterpolargl\": [{\"marker\": {\"colorbar\": {\"outlinewidth\": 0, \"ticks\": \"\"}}, \"type\": \"scatterpolargl\"}], \"scatterternary\": [{\"marker\": {\"colorbar\": {\"outlinewidth\": 0, \"ticks\": \"\"}}, \"type\": \"scatterternary\"}], \"surface\": [{\"colorbar\": {\"outlinewidth\": 0, \"ticks\": \"\"}, \"colorscale\": [[0.0, \"#0d0887\"], [0.1111111111111111, \"#46039f\"], [0.2222222222222222, \"#7201a8\"], [0.3333333333333333, \"#9c179e\"], [0.4444444444444444, \"#bd3786\"], [0.5555555555555556, \"#d8576b\"], [0.6666666666666666, \"#ed7953\"], [0.7777777777777778, \"#fb9f3a\"], [0.8888888888888888, \"#fdca26\"], [1.0, \"#f0f921\"]], \"type\": \"surface\"}], \"table\": [{\"cells\": {\"fill\": {\"color\": \"#EBF0F8\"}, \"line\": {\"color\": \"white\"}}, \"header\": {\"fill\": {\"color\": \"#C8D4E3\"}, \"line\": {\"color\": \"white\"}}, \"type\": \"table\"}]}, \"layout\": {\"annotationdefaults\": {\"arrowcolor\": \"#2a3f5f\", \"arrowhead\": 0, \"arrowwidth\": 1}, \"coloraxis\": {\"colorbar\": {\"outlinewidth\": 0, \"ticks\": \"\"}}, \"colorscale\": {\"diverging\": [[0, \"#8e0152\"], [0.1, \"#c51b7d\"], [0.2, \"#de77ae\"], [0.3, \"#f1b6da\"], [0.4, \"#fde0ef\"], [0.5, \"#f7f7f7\"], [0.6, \"#e6f5d0\"], [0.7, \"#b8e186\"], [0.8, \"#7fbc41\"], [0.9, \"#4d9221\"], [1, \"#276419\"]], \"sequential\": [[0.0, \"#0d0887\"], [0.1111111111111111, \"#46039f\"], [0.2222222222222222, \"#7201a8\"], [0.3333333333333333, \"#9c179e\"], [0.4444444444444444, \"#bd3786\"], [0.5555555555555556, \"#d8576b\"], [0.6666666666666666, \"#ed7953\"], [0.7777777777777778, \"#fb9f3a\"], [0.8888888888888888, \"#fdca26\"], [1.0, \"#f0f921\"]], \"sequentialminus\": [[0.0, \"#0d0887\"], [0.1111111111111111, \"#46039f\"], [0.2222222222222222, \"#7201a8\"], [0.3333333333333333, \"#9c179e\"], [0.4444444444444444, \"#bd3786\"], [0.5555555555555556, \"#d8576b\"], [0.6666666666666666, \"#ed7953\"], [0.7777777777777778, \"#fb9f3a\"], [0.8888888888888888, \"#fdca26\"], [1.0, \"#f0f921\"]]}, \"colorway\": [\"#636efa\", \"#EF553B\", \"#00cc96\", \"#ab63fa\", \"#FFA15A\", \"#19d3f3\", \"#FF6692\", \"#B6E880\", \"#FF97FF\", \"#FECB52\"], \"font\": {\"color\": \"#2a3f5f\"}, \"geo\": {\"bgcolor\": \"white\", \"lakecolor\": \"white\", \"landcolor\": \"#E5ECF6\", \"showlakes\": true, \"showland\": true, \"subunitcolor\": \"white\"}, \"hoverlabel\": {\"align\": \"left\"}, \"hovermode\": \"closest\", \"mapbox\": {\"style\": \"light\"}, \"paper_bgcolor\": \"white\", \"plot_bgcolor\": \"#E5ECF6\", \"polar\": {\"angularaxis\": {\"gridcolor\": \"white\", \"linecolor\": \"white\", \"ticks\": \"\"}, \"bgcolor\": \"#E5ECF6\", \"radialaxis\": {\"gridcolor\": \"white\", \"linecolor\": \"white\", \"ticks\": \"\"}}, \"scene\": {\"xaxis\": {\"backgroundcolor\": \"#E5ECF6\", \"gridcolor\": \"white\", \"gridwidth\": 2, \"linecolor\": \"white\", \"showbackground\": true, \"ticks\": \"\", \"zerolinecolor\": \"white\"}, \"yaxis\": {\"backgroundcolor\": \"#E5ECF6\", \"gridcolor\": \"white\", \"gridwidth\": 2, \"linecolor\": \"white\", \"showbackground\": true, \"ticks\": \"\", \"zerolinecolor\": \"white\"}, \"zaxis\": {\"backgroundcolor\": \"#E5ECF6\", \"gridcolor\": \"white\", \"gridwidth\": 2, \"linecolor\": \"white\", \"showbackground\": true, \"ticks\": \"\", \"zerolinecolor\": \"white\"}}, \"shapedefaults\": {\"line\": {\"color\": \"#2a3f5f\"}}, \"ternary\": {\"aaxis\": {\"gridcolor\": \"white\", \"linecolor\": \"white\", \"ticks\": \"\"}, \"baxis\": {\"gridcolor\": \"white\", \"linecolor\": \"white\", \"ticks\": \"\"}, \"bgcolor\": \"#E5ECF6\", \"caxis\": {\"gridcolor\": \"white\", \"linecolor\": \"white\", \"ticks\": \"\"}}, \"title\": {\"x\": 0.05}, \"xaxis\": {\"automargin\": true, \"gridcolor\": \"white\", \"linecolor\": \"white\", \"ticks\": \"\", \"title\": {\"standoff\": 15}, \"zerolinecolor\": \"white\", \"zerolinewidth\": 2}, \"yaxis\": {\"automargin\": true, \"gridcolor\": \"white\", \"linecolor\": \"white\", \"ticks\": \"\", \"title\": {\"standoff\": 15}, \"zerolinecolor\": \"white\", \"zerolinewidth\": 2}}}, \"title\": {\"text\": \"Total Positive Cases\"}, \"xaxis\": {\"anchor\": \"y\", \"domain\": [0.0, 1.0], \"title\": {\"text\": \"Result Date\"}}, \"yaxis\": {\"anchor\": \"x\", \"domain\": [0.0, 1.0], \"title\": {\"text\": \"Total\"}}},\n",
              "                        {\"responsive\": true}\n",
              "                    ).then(function(){\n",
              "                            \n",
              "var gd = document.getElementById('2ed89e25-14a9-4e10-be0f-bdecf5a52e27');\n",
              "var x = new MutationObserver(function (mutations, observer) {{\n",
              "        var display = window.getComputedStyle(gd).display;\n",
              "        if (!display || display === 'none') {{\n",
              "            console.log([gd, 'removed!']);\n",
              "            Plotly.purge(gd);\n",
              "            observer.disconnect();\n",
              "        }}\n",
              "}});\n",
              "\n",
              "// Listen for the removal of the full notebook cells\n",
              "var notebookContainer = gd.closest('#notebook-container');\n",
              "if (notebookContainer) {{\n",
              "    x.observe(notebookContainer, {childList: true});\n",
              "}}\n",
              "\n",
              "// Listen for the clearing of the current output cell\n",
              "var outputEl = gd.closest('.output');\n",
              "if (outputEl) {{\n",
              "    x.observe(outputEl, {childList: true});\n",
              "}}\n",
              "\n",
              "                        })\n",
              "                };\n",
              "                \n",
              "            </script>\n",
              "        </div>\n",
              "</body>\n",
              "</html>"
            ]
          },
          "metadata": {}
        }
      ]
    },
    {
      "cell_type": "markdown",
      "metadata": {
        "id": "s0hvfmekcC2D"
      },
      "source": [
        "The plot above is too crowded. We plot the boxplot showing the Positive Cases month-wise. "
      ]
    },
    {
      "cell_type": "code",
      "metadata": {
        "colab": {
          "base_uri": "https://localhost:8080/",
          "height": 625
        },
        "id": "1YnjJR9Vbd4e",
        "outputId": "37e317ea-a8e4-4a34-94c1-1b56f6e5102a"
      },
      "source": [
        "df_case_count['month'] = [d.strftime('%b') for d in df_case_count['Result Date']]\n",
        "\n",
        "fig, axes = plt.subplots(1, figsize=(20,9), dpi= 80)\n",
        "sns.boxplot(x='month', y='Total', data=df_case_count, ax = axes)\n",
        "plt.title(\"Month-Wise Box Plot of Positive Cases\")\n",
        "plt.xlabel(\"Month\")\n",
        "plt.ylabel(\"Total Positive Cases\");"
      ],
      "execution_count": 19,
      "outputs": [
        {
          "output_type": "display_data",
          "data": {
            "image/png": "[encoded data removed]",
            "text/plain": [
              "<Figure size 1600x720 with 1 Axes>"
            ]
          },
          "metadata": {
            "needs_background": "light"
          }
        }
      ]
    },
    {
      "cell_type": "markdown",
      "metadata": {
        "id": "moTk0OM2no_z"
      },
      "source": [
        "Now, we start to use time series analysis to predict the number of positive cases in Berkeley. We are using fbprophet to conduct the time series analysis."
      ]
    },
    {
      "cell_type": "code",
      "metadata": {
        "id": "YvyRTUDynohm"
      },
      "source": [
        "import fbprophet"
      ],
      "execution_count": 20,
      "outputs": []
    },
    {
      "cell_type": "code",
      "metadata": {
        "colab": {
          "base_uri": "https://localhost:8080/",
          "height": 204
        },
        "id": "C4ts-uTubnvh",
        "outputId": "735fc417-babb-4ecb-cc6a-8f0d1055fcd3"
      },
      "source": [
        "# ds = Date, y = Total number of positive COVID cases\n",
        "df_case_count_pred = df_case_count.rename(columns = {'Result Date':'ds','Total':'y'})[['ds','y']]\n",
        "df_case_count_pred.head()"
      ],
      "execution_count": 21,
      "outputs": [
        {
          "output_type": "execute_result",
          "data": {
            "text/html": [
              "<div>\n",
              "<style scoped>\n",
              "    .dataframe tbody tr th:only-of-type {\n",
              "        vertical-align: middle;\n",
              "    }\n",
              "\n",
              "    .dataframe tbody tr th {\n",
              "        vertical-align: top;\n",
              "    }\n",
              "\n",
              "    .dataframe thead th {\n",
              "        text-align: right;\n",
              "    }\n",
              "</style>\n",
              "<table border=\"1\" class=\"dataframe\">\n",
              "  <thead>\n",
              "    <tr style=\"text-align: right;\">\n",
              "      <th>Patient Type</th>\n",
              "      <th>ds</th>\n",
              "      <th>y</th>\n",
              "    </tr>\n",
              "  </thead>\n",
              "  <tbody>\n",
              "    <tr>\n",
              "      <th>0</th>\n",
              "      <td>2021-01-05</td>\n",
              "      <td>1.0</td>\n",
              "    </tr>\n",
              "    <tr>\n",
              "      <th>1</th>\n",
              "      <td>2021-01-06</td>\n",
              "      <td>11.0</td>\n",
              "    </tr>\n",
              "    <tr>\n",
              "      <th>2</th>\n",
              "      <td>2021-01-07</td>\n",
              "      <td>13.0</td>\n",
              "    </tr>\n",
              "    <tr>\n",
              "      <th>3</th>\n",
              "      <td>2021-01-08</td>\n",
              "      <td>14.0</td>\n",
              "    </tr>\n",
              "    <tr>\n",
              "      <th>4</th>\n",
              "      <td>2021-01-09</td>\n",
              "      <td>7.0</td>\n",
              "    </tr>\n",
              "  </tbody>\n",
              "</table>\n",
              "</div>"
            ],
            "text/plain": [
              "Patient Type         ds     y\n",
              "0            2021-01-05   1.0\n",
              "1            2021-01-06  11.0\n",
              "2            2021-01-07  13.0\n",
              "3            2021-01-08  14.0\n",
              "4            2021-01-09   7.0"
            ]
          },
          "metadata": {},
          "execution_count": 21
        }
      ]
    },
    {
      "cell_type": "code",
      "metadata": {
        "colab": {
          "base_uri": "https://localhost:8080/"
        },
        "id": "we6YVNKNoVos",
        "outputId": "e0656c6d-7e67-469c-ceda-da08ad7e6ce8"
      },
      "source": [
        "# Make the prophet model and fit on the data\n",
        "# changepoint_prior_scale is how sensitive the trend is to change\n",
        "\n",
        "prophet = fbprophet.Prophet()\n",
        "prophet.fit(df_case_count_pred)"
      ],
      "execution_count": 22,
      "outputs": [
        {
          "output_type": "stream",
          "name": "stderr",
          "text": [
            "INFO:fbprophet:Disabling yearly seasonality. Run prophet with yearly_seasonality=True to override this.\n",
            "INFO:fbprophet:Disabling daily seasonality. Run prophet with daily_seasonality=True to override this.\n"
          ]
        },
        {
          "output_type": "execute_result",
          "data": {
            "text/plain": [
              "<fbprophet.forecaster.Prophet at 0x7f046f5f0cd0>"
            ]
          },
          "metadata": {},
          "execution_count": 22
        }
      ]
    },
    {
      "cell_type": "code",
      "metadata": {
        "id": "yGUXK7ujog48"
      },
      "source": [
        "# Make a future dataframe from October 21, 2021 until December 31, 2021\n",
        "df_forecast = prophet.make_future_dataframe(periods=72, freq='D')\n",
        "# Make predictions\n",
        "df_forecast = prophet.predict(df_forecast)"
      ],
      "execution_count": 23,
      "outputs": []
    },
    {
      "cell_type": "markdown",
      "metadata": {
        "id": "TtNBanN8qk4g"
      },
      "source": [
        "Below is the plot of total number of positive case predicted until December, 31 2021. The black dot represents the real data, the blue region represents the confidence interval. The blue line represents predicted value."
      ]
    },
    {
      "cell_type": "code",
      "metadata": {
        "colab": {
          "base_uri": "https://localhost:8080/",
          "height": 457
        },
        "id": "4MbgKRxKo5gy",
        "outputId": "d992c0d9-c687-4a53-91d7-145fe3f394a7"
      },
      "source": [
        "prophet.plot(df_forecast, xlabel = 'Date', ylabel = 'Total Positive Cases')\n",
        "plt.title(\"Number of Positive Cases\");"
      ],
      "execution_count": 24,
      "outputs": [
        {
          "output_type": "display_data",
          "data": {
            "image/png": "[encoded data removed]",
            "text/plain": [
              "<Figure size 720x432 with 1 Axes>"
            ]
          },
          "metadata": {}
        }
      ]
    },
    {
      "cell_type": "markdown",
      "metadata": {
        "id": "T34mvBAjtdL1"
      },
      "source": [
        "Below is the table containing the predicted total number of cases from October 21, 2021 to December 31, 2021. To predict the number of positive cases, we used a confidence interval and sample from the confidence interval for each date using uniform distribution. We decided to use the lower blue region for the lower confidence interval and the blue line as the upper confidence confidence interval. We decided to not use the upper blue region as the upper limit of confidence interval because >95% of the students in Berkeley have already been vaccinated, so our prediction is that COVID in the future won't rise significantly."
      ]
    },
    {
      "cell_type": "code",
      "metadata": {
        "colab": {
          "base_uri": "https://localhost:8080/",
          "height": 419
        },
        "id": "YNye4YWPpAoW",
        "outputId": "4981a0cd-f79d-44e9-90c4-e4c06cc9fd1c"
      },
      "source": [
        "# Obtaining forecast dataframe\n",
        "df_case_forecast = df_forecast[['ds', 'yhat', 'yhat_lower', 'yhat_upper']]\n",
        "\n",
        "# Slicing total number of cases from October 21,2021 to December 31,2021\n",
        "df_case_forecast = df_case_forecast[df_case_forecast['ds'] > \"2021-10-20\"]\n",
        "\n",
        "# Replacing all negative numbers with zero\n",
        "num = df_case_forecast._get_numeric_data()\n",
        "num[num < 0] = 0\n",
        "\n",
        "# Start predicting total number of cases by using choosing uniformly from\n",
        "# lower bound and upper bound\n",
        "yhat_lower = df_case_forecast.reset_index()['yhat_lower'] # Lower bound\n",
        "yhat_upper = df_case_forecast.reset_index()['yhat'] # Upper bound\n",
        "yhat_list = []\n",
        "np.random.seed(88) # For reproducibility purposes\n",
        "\n",
        "for i in range(len(yhat_lower)):\n",
        "  yhat = np.random.uniform(low = yhat_lower[i], high = yhat_upper[i], size = 1).round()\n",
        "  yhat_list.append(yhat)\n",
        "\n",
        "df_case_forecast['Total'] = yhat_list\n",
        "df_case_forecast['Total'] = df_case_forecast['Total'].explode()\n",
        "df_case_forecast = df_case_forecast.reset_index()[['ds','Total']].rename(columns = {'ds': 'Result Date'})\n",
        "df_case_forecast"
      ],
      "execution_count": 25,
      "outputs": [
        {
          "output_type": "execute_result",
          "data": {
            "text/html": [
              "<div>\n",
              "<style scoped>\n",
              "    .dataframe tbody tr th:only-of-type {\n",
              "        vertical-align: middle;\n",
              "    }\n",
              "\n",
              "    .dataframe tbody tr th {\n",
              "        vertical-align: top;\n",
              "    }\n",
              "\n",
              "    .dataframe thead th {\n",
              "        text-align: right;\n",
              "    }\n",
              "</style>\n",
              "<table border=\"1\" class=\"dataframe\">\n",
              "  <thead>\n",
              "    <tr style=\"text-align: right;\">\n",
              "      <th></th>\n",
              "      <th>Result Date</th>\n",
              "      <th>Total</th>\n",
              "    </tr>\n",
              "  </thead>\n",
              "  <tbody>\n",
              "    <tr>\n",
              "      <th>0</th>\n",
              "      <td>2021-10-21</td>\n",
              "      <td>5</td>\n",
              "    </tr>\n",
              "    <tr>\n",
              "      <th>1</th>\n",
              "      <td>2021-10-22</td>\n",
              "      <td>4</td>\n",
              "    </tr>\n",
              "    <tr>\n",
              "      <th>2</th>\n",
              "      <td>2021-10-23</td>\n",
              "      <td>3</td>\n",
              "    </tr>\n",
              "    <tr>\n",
              "      <th>3</th>\n",
              "      <td>2021-10-24</td>\n",
              "      <td>3</td>\n",
              "    </tr>\n",
              "    <tr>\n",
              "      <th>4</th>\n",
              "      <td>2021-10-25</td>\n",
              "      <td>3</td>\n",
              "    </tr>\n",
              "    <tr>\n",
              "      <th>...</th>\n",
              "      <td>...</td>\n",
              "      <td>...</td>\n",
              "    </tr>\n",
              "    <tr>\n",
              "      <th>67</th>\n",
              "      <td>2021-12-27</td>\n",
              "      <td>1</td>\n",
              "    </tr>\n",
              "    <tr>\n",
              "      <th>68</th>\n",
              "      <td>2021-12-28</td>\n",
              "      <td>5</td>\n",
              "    </tr>\n",
              "    <tr>\n",
              "      <th>69</th>\n",
              "      <td>2021-12-29</td>\n",
              "      <td>4</td>\n",
              "    </tr>\n",
              "    <tr>\n",
              "      <th>70</th>\n",
              "      <td>2021-12-30</td>\n",
              "      <td>3</td>\n",
              "    </tr>\n",
              "    <tr>\n",
              "      <th>71</th>\n",
              "      <td>2021-12-31</td>\n",
              "      <td>9</td>\n",
              "    </tr>\n",
              "  </tbody>\n",
              "</table>\n",
              "<p>72 rows × 2 columns</p>\n",
              "</div>"
            ],
            "text/plain": [
              "   Result Date Total\n",
              "0   2021-10-21     5\n",
              "1   2021-10-22     4\n",
              "2   2021-10-23     3\n",
              "3   2021-10-24     3\n",
              "4   2021-10-25     3\n",
              "..         ...   ...\n",
              "67  2021-12-27     1\n",
              "68  2021-12-28     5\n",
              "69  2021-12-29     4\n",
              "70  2021-12-30     3\n",
              "71  2021-12-31     9\n",
              "\n",
              "[72 rows x 2 columns]"
            ]
          },
          "metadata": {},
          "execution_count": 25
        }
      ]
    },
    {
      "cell_type": "code",
      "metadata": {
        "id": "CCSkTN7g5Tll"
      },
      "source": [
        "# Accouting \"breakout\" in the positive COVID cases\n",
        "# Breakout is predicted to be December when Fall Semester ends\n",
        "\n",
        "np.random.seed(88) # For reproducibility purposes\n",
        "\n",
        "df_case_forecast.loc[62:64,'Total'] = np.random.randint(low = 20, high = 40, \n",
        "                                                             size = df_case_forecast.loc[62:64,'Total'].shape[0])\n",
        "df_case_forecast.loc[66:70,'Total']= np.random.randint(low = 20, high = 40,\n",
        "                                                            size = df_case_forecast.loc[66:70,'Total'].shape[0])"
      ],
      "execution_count": 26,
      "outputs": []
    },
    {
      "cell_type": "markdown",
      "metadata": {
        "id": "Y-hA1Sn5t24L"
      },
      "source": [
        "Now, we concatenate the original table with the forecast table."
      ]
    },
    {
      "cell_type": "code",
      "metadata": {
        "id": "lGuAnQDCrREP"
      },
      "source": [
        "# Previous table\n",
        "df_case_total = df_case_count[['Result Date','Total']]"
      ],
      "execution_count": 27,
      "outputs": []
    },
    {
      "cell_type": "code",
      "metadata": {
        "colab": {
          "base_uri": "https://localhost:8080/",
          "height": 419
        },
        "id": "MbHrpqRrus5a",
        "outputId": "3a795d23-f5e1-488e-a0aa-498d8ed28b9f"
      },
      "source": [
        "# Concatenate previous table with forecast table\n",
        "\n",
        "df_case_total_1year = pd.concat([df_case_total,df_case_forecast]).reset_index(drop = True)\n",
        "df_case_total_1year"
      ],
      "execution_count": 28,
      "outputs": [
        {
          "output_type": "execute_result",
          "data": {
            "text/html": [
              "<div>\n",
              "<style scoped>\n",
              "    .dataframe tbody tr th:only-of-type {\n",
              "        vertical-align: middle;\n",
              "    }\n",
              "\n",
              "    .dataframe tbody tr th {\n",
              "        vertical-align: top;\n",
              "    }\n",
              "\n",
              "    .dataframe thead th {\n",
              "        text-align: right;\n",
              "    }\n",
              "</style>\n",
              "<table border=\"1\" class=\"dataframe\">\n",
              "  <thead>\n",
              "    <tr style=\"text-align: right;\">\n",
              "      <th>Patient Type</th>\n",
              "      <th>Result Date</th>\n",
              "      <th>Total</th>\n",
              "    </tr>\n",
              "  </thead>\n",
              "  <tbody>\n",
              "    <tr>\n",
              "      <th>0</th>\n",
              "      <td>2021-01-05</td>\n",
              "      <td>1</td>\n",
              "    </tr>\n",
              "    <tr>\n",
              "      <th>1</th>\n",
              "      <td>2021-01-06</td>\n",
              "      <td>11</td>\n",
              "    </tr>\n",
              "    <tr>\n",
              "      <th>2</th>\n",
              "      <td>2021-01-07</td>\n",
              "      <td>13</td>\n",
              "    </tr>\n",
              "    <tr>\n",
              "      <th>3</th>\n",
              "      <td>2021-01-08</td>\n",
              "      <td>14</td>\n",
              "    </tr>\n",
              "    <tr>\n",
              "      <th>4</th>\n",
              "      <td>2021-01-09</td>\n",
              "      <td>7</td>\n",
              "    </tr>\n",
              "    <tr>\n",
              "      <th>...</th>\n",
              "      <td>...</td>\n",
              "      <td>...</td>\n",
              "    </tr>\n",
              "    <tr>\n",
              "      <th>338</th>\n",
              "      <td>2021-12-27</td>\n",
              "      <td>25</td>\n",
              "    </tr>\n",
              "    <tr>\n",
              "      <th>339</th>\n",
              "      <td>2021-12-28</td>\n",
              "      <td>21</td>\n",
              "    </tr>\n",
              "    <tr>\n",
              "      <th>340</th>\n",
              "      <td>2021-12-29</td>\n",
              "      <td>36</td>\n",
              "    </tr>\n",
              "    <tr>\n",
              "      <th>341</th>\n",
              "      <td>2021-12-30</td>\n",
              "      <td>25</td>\n",
              "    </tr>\n",
              "    <tr>\n",
              "      <th>342</th>\n",
              "      <td>2021-12-31</td>\n",
              "      <td>9</td>\n",
              "    </tr>\n",
              "  </tbody>\n",
              "</table>\n",
              "<p>343 rows × 2 columns</p>\n",
              "</div>"
            ],
            "text/plain": [
              "Patient Type Result Date Total\n",
              "0             2021-01-05     1\n",
              "1             2021-01-06    11\n",
              "2             2021-01-07    13\n",
              "3             2021-01-08    14\n",
              "4             2021-01-09     7\n",
              "..                   ...   ...\n",
              "338           2021-12-27    25\n",
              "339           2021-12-28    21\n",
              "340           2021-12-29    36\n",
              "341           2021-12-30    25\n",
              "342           2021-12-31     9\n",
              "\n",
              "[343 rows x 2 columns]"
            ]
          },
          "metadata": {},
          "execution_count": 28
        }
      ]
    },
    {
      "cell_type": "markdown",
      "metadata": {
        "id": "x68_94vrvzQT"
      },
      "source": [
        "Then, we plot the total number of cases again, now we include the forecasted value. You can hover your mouse into the graph to check the total number of cases for each date."
      ]
    },
    {
      "cell_type": "code",
      "metadata": {
        "colab": {
          "base_uri": "https://localhost:8080/",
          "height": 542
        },
        "id": "7SZpqLNZvM37",
        "outputId": "26fbfa7e-38f3-4dc3-cc45-137b2fb6cf23"
      },
      "source": [
        "fig_count_forecast = px.bar(df_case_total_1year, x= 'Result Date', y = 'Total', \\\n",
        "                   title = \"Total Positive Cases\")\n",
        "fig_count_forecast.show()"
      ],
      "execution_count": 29,
      "outputs": [
        {
          "output_type": "display_data",
          "data": {
            "text/html": [
              "<html>\n",
              "<head><meta charset=\"utf-8\" /></head>\n",
              "<body>\n",
              "    <div>\n",
              "            <script src=\"https://cdnjs.cloudflare.com/ajax/libs/mathjax/2.7.5/MathJax.js?config=TeX-AMS-MML_SVG\"></script><script type=\"text/javascript\">if (window.MathJax) {MathJax.Hub.Config({SVG: {font: \"STIX-Web\"}});}</script>\n",
              "                <script type=\"text/javascript\">window.PlotlyConfig = {MathJaxConfig: 'local'};</script>\n",
              "        <script src=\"https://cdn.plot.ly/plotly-latest.min.js\"></script>    \n",
              "            <div id=\"776bc830-c845-4d99-abd6-1f67ef0a8ae8\" class=\"plotly-graph-div\" style=\"height:525px; width:100%;\"></div>\n",
              "            <script type=\"text/javascript\">\n",
              "                \n",
              "                    window.PLOTLYENV=window.PLOTLYENV || {};\n",
              "                    \n",
              "                if (document.getElementById(\"776bc830-c845-4d99-abd6-1f67ef0a8ae8\")) {\n",
              "                    Plotly.newPlot(\n",
              "                        '776bc830-c845-4d99-abd6-1f67ef0a8ae8',\n",
              "                        [{\"alignmentgroup\": \"True\", \"hoverlabel\": {\"namelength\": 0}, \"hovertemplate\": \"Result Date=%{x}<br>Total=%{y}\", \"legendgroup\": \"\", \"marker\": {\"color\": \"#636efa\"}, \"name\": \"\", \"offsetgroup\": \"\", \"orientation\": \"v\", \"showlegend\": false, \"textposition\": \"auto\", \"type\": \"bar\", \"x\": [\"2021-01-05T00:00:00\", \"2021-01-06T00:00:00\", \"2021-01-07T00:00:00\", \"2021-01-08T00:00:00\", \"2021-01-09T00:00:00\", \"2021-01-10T00:00:00\", \"2021-01-11T00:00:00\", \"2021-01-12T00:00:00\", \"2021-01-13T00:00:00\", \"2021-01-14T00:00:00\", \"2021-01-15T00:00:00\", \"2021-01-16T00:00:00\", \"2021-01-17T00:00:00\", \"2021-01-19T00:00:00\", \"2021-01-20T00:00:00\", \"2021-01-21T00:00:00\", \"2021-01-22T00:00:00\", \"2021-01-23T00:00:00\", \"2021-01-24T00:00:00\", \"2021-01-25T00:00:00\", \"2021-01-26T00:00:00\", \"2021-01-27T00:00:00\", \"2021-01-28T00:00:00\", \"2021-01-29T00:00:00\", \"2021-01-30T00:00:00\", \"2021-01-31T00:00:00\", \"2021-02-01T00:00:00\", \"2021-02-02T00:00:00\", \"2021-02-03T00:00:00\", \"2021-02-04T00:00:00\", \"2021-02-05T00:00:00\", \"2021-02-06T00:00:00\", \"2021-02-07T00:00:00\", \"2021-02-08T00:00:00\", \"2021-02-09T00:00:00\", \"2021-02-10T00:00:00\", \"2021-02-11T00:00:00\", \"2021-02-12T00:00:00\", \"2021-02-13T00:00:00\", \"2021-02-14T00:00:00\", \"2021-02-15T00:00:00\", \"2021-02-16T00:00:00\", \"2021-02-17T00:00:00\", \"2021-02-18T00:00:00\", \"2021-02-19T00:00:00\", \"2021-02-20T00:00:00\", \"2021-02-21T00:00:00\", \"2021-02-22T00:00:00\", \"2021-02-23T00:00:00\", \"2021-02-24T00:00:00\", \"2021-02-25T00:00:00\", \"2021-02-26T00:00:00\", \"2021-02-27T00:00:00\", \"2021-02-28T00:00:00\", \"2021-03-01T00:00:00\", \"2021-03-02T00:00:00\", \"2021-03-03T00:00:00\", \"2021-03-04T00:00:00\", \"2021-03-05T00:00:00\", \"2021-03-06T00:00:00\", \"2021-03-07T00:00:00\", \"2021-03-08T00:00:00\", \"2021-03-09T00:00:00\", \"2021-03-10T00:00:00\", \"2021-03-11T00:00:00\", \"2021-03-12T00:00:00\", \"2021-03-13T00:00:00\", \"2021-03-14T00:00:00\", \"2021-03-15T00:00:00\", \"2021-03-16T00:00:00\", \"2021-03-17T00:00:00\", \"2021-03-18T00:00:00\", \"2021-03-19T00:00:00\", \"2021-03-20T00:00:00\", \"2021-03-21T00:00:00\", \"2021-03-22T00:00:00\", \"2021-03-23T00:00:00\", \"2021-03-24T00:00:00\", \"2021-03-25T00:00:00\", \"2021-03-26T00:00:00\", \"2021-03-27T00:00:00\", \"2021-03-28T00:00:00\", \"2021-03-29T00:00:00\", \"2021-03-30T00:00:00\", \"2021-03-31T00:00:00\", \"2021-04-01T00:00:00\", \"2021-04-02T00:00:00\", \"2021-04-03T00:00:00\", \"2021-04-04T00:00:00\", \"2021-04-05T00:00:00\", \"2021-04-06T00:00:00\", \"2021-04-07T00:00:00\", \"2021-04-08T00:00:00\", \"2021-04-09T00:00:00\", \"2021-04-10T00:00:00\", \"2021-04-11T00:00:00\", \"2021-04-12T00:00:00\", \"2021-04-13T00:00:00\", \"2021-04-14T00:00:00\", \"2021-04-15T00:00:00\", \"2021-04-16T00:00:00\", \"2021-04-17T00:00:00\", \"2021-04-18T00:00:00\", \"2021-04-19T00:00:00\", \"2021-04-20T00:00:00\", \"2021-04-21T00:00:00\", \"2021-04-22T00:00:00\", \"2021-04-23T00:00:00\", \"2021-04-24T00:00:00\", \"2021-04-25T00:00:00\", \"2021-04-26T00:00:00\", \"2021-04-27T00:00:00\", \"2021-04-28T00:00:00\", \"2021-04-29T00:00:00\", \"2021-04-30T00:00:00\", \"2021-05-01T00:00:00\", \"2021-05-03T00:00:00\", \"2021-05-04T00:00:00\", \"2021-05-05T00:00:00\", \"2021-05-06T00:00:00\", \"2021-05-07T00:00:00\", \"2021-05-08T00:00:00\", \"2021-05-09T00:00:00\", \"2021-05-10T00:00:00\", \"2021-05-11T00:00:00\", \"2021-05-12T00:00:00\", \"2021-05-13T00:00:00\", \"2021-05-14T00:00:00\", \"2021-05-15T00:00:00\", \"2021-05-17T00:00:00\", \"2021-05-18T00:00:00\", \"2021-05-19T00:00:00\", \"2021-05-20T00:00:00\", \"2021-05-21T00:00:00\", \"2021-05-22T00:00:00\", \"2021-05-24T00:00:00\", \"2021-05-25T00:00:00\", \"2021-05-26T00:00:00\", \"2021-05-27T00:00:00\", \"2021-05-28T00:00:00\", \"2021-05-29T00:00:00\", \"2021-06-01T00:00:00\", \"2021-06-02T00:00:00\", \"2021-06-03T00:00:00\", \"2021-06-04T00:00:00\", \"2021-06-05T00:00:00\", \"2021-06-07T00:00:00\", \"2021-06-08T00:00:00\", \"2021-06-09T00:00:00\", \"2021-06-10T00:00:00\", \"2021-06-11T00:00:00\", \"2021-06-12T00:00:00\", \"2021-06-14T00:00:00\", \"2021-06-15T00:00:00\", \"2021-06-16T00:00:00\", \"2021-06-17T00:00:00\", \"2021-06-18T00:00:00\", \"2021-06-19T00:00:00\", \"2021-06-21T00:00:00\", \"2021-06-22T00:00:00\", \"2021-06-23T00:00:00\", \"2021-06-24T00:00:00\", \"2021-06-25T00:00:00\", \"2021-06-26T00:00:00\", \"2021-06-29T00:00:00\", \"2021-06-30T00:00:00\", \"2021-07-01T00:00:00\", \"2021-07-02T00:00:00\", \"2021-07-03T00:00:00\", \"2021-07-06T00:00:00\", \"2021-07-07T00:00:00\", \"2021-07-08T00:00:00\", \"2021-07-09T00:00:00\", \"2021-07-10T00:00:00\", \"2021-07-12T00:00:00\", \"2021-07-13T00:00:00\", \"2021-07-14T00:00:00\", \"2021-07-15T00:00:00\", \"2021-07-16T00:00:00\", \"2021-07-17T00:00:00\", \"2021-07-19T00:00:00\", \"2021-07-20T00:00:00\", \"2021-07-21T00:00:00\", \"2021-07-22T00:00:00\", \"2021-07-23T00:00:00\", \"2021-07-24T00:00:00\", \"2021-07-26T00:00:00\", \"2021-07-27T00:00:00\", \"2021-07-28T00:00:00\", \"2021-07-29T00:00:00\", \"2021-07-30T00:00:00\", \"2021-07-31T00:00:00\", \"2021-08-02T00:00:00\", \"2021-08-03T00:00:00\", \"2021-08-04T00:00:00\", \"2021-08-05T00:00:00\", \"2021-08-06T00:00:00\", \"2021-08-07T00:00:00\", \"2021-08-08T00:00:00\", \"2021-08-09T00:00:00\", \"2021-08-10T00:00:00\", \"2021-08-11T00:00:00\", \"2021-08-12T00:00:00\", \"2021-08-13T00:00:00\", \"2021-08-14T00:00:00\", \"2021-08-15T00:00:00\", \"2021-08-16T00:00:00\", \"2021-08-17T00:00:00\", \"2021-08-18T00:00:00\", \"2021-08-19T00:00:00\", \"2021-08-20T00:00:00\", \"2021-08-21T00:00:00\", \"2021-08-22T00:00:00\", \"2021-08-23T00:00:00\", \"2021-08-24T00:00:00\", \"2021-08-25T00:00:00\", \"2021-08-26T00:00:00\", \"2021-08-27T00:00:00\", \"2021-08-28T00:00:00\", \"2021-08-29T00:00:00\", \"2021-08-30T00:00:00\", \"2021-08-31T00:00:00\", \"2021-09-01T00:00:00\", \"2021-09-02T00:00:00\", \"2021-09-03T00:00:00\", \"2021-09-04T00:00:00\", \"2021-09-05T00:00:00\", \"2021-09-07T00:00:00\", \"2021-09-08T00:00:00\", \"2021-09-09T00:00:00\", \"2021-09-10T00:00:00\", \"2021-09-11T00:00:00\", \"2021-09-12T00:00:00\", \"2021-09-13T00:00:00\", \"2021-09-14T00:00:00\", \"2021-09-15T00:00:00\", \"2021-09-16T00:00:00\", \"2021-09-17T00:00:00\", \"2021-09-18T00:00:00\", \"2021-09-19T00:00:00\", \"2021-09-20T00:00:00\", \"2021-09-21T00:00:00\", \"2021-09-22T00:00:00\", \"2021-09-23T00:00:00\", \"2021-09-24T00:00:00\", \"2021-09-25T00:00:00\", \"2021-09-26T00:00:00\", \"2021-09-27T00:00:00\", \"2021-09-28T00:00:00\", \"2021-09-29T00:00:00\", \"2021-09-30T00:00:00\", \"2021-10-01T00:00:00\", \"2021-10-02T00:00:00\", \"2021-10-03T00:00:00\", \"2021-10-04T00:00:00\", \"2021-10-05T00:00:00\", \"2021-10-06T00:00:00\", \"2021-10-07T00:00:00\", \"2021-10-08T00:00:00\", \"2021-10-09T00:00:00\", \"2021-10-10T00:00:00\", \"2021-10-11T00:00:00\", \"2021-10-12T00:00:00\", \"2021-10-13T00:00:00\", \"2021-10-14T00:00:00\", \"2021-10-15T00:00:00\", \"2021-10-16T00:00:00\", \"2021-10-17T00:00:00\", \"2021-10-18T00:00:00\", \"2021-10-19T00:00:00\", \"2021-10-20T00:00:00\", \"2021-10-21T00:00:00\", \"2021-10-22T00:00:00\", \"2021-10-23T00:00:00\", \"2021-10-24T00:00:00\", \"2021-10-25T00:00:00\", \"2021-10-26T00:00:00\", \"2021-10-27T00:00:00\", \"2021-10-28T00:00:00\", \"2021-10-29T00:00:00\", \"2021-10-30T00:00:00\", \"2021-10-31T00:00:00\", \"2021-11-01T00:00:00\", \"2021-11-02T00:00:00\", \"2021-11-03T00:00:00\", \"2021-11-04T00:00:00\", \"2021-11-05T00:00:00\", \"2021-11-06T00:00:00\", \"2021-11-07T00:00:00\", \"2021-11-08T00:00:00\", \"2021-11-09T00:00:00\", \"2021-11-10T00:00:00\", \"2021-11-11T00:00:00\", \"2021-11-12T00:00:00\", \"2021-11-13T00:00:00\", \"2021-11-14T00:00:00\", \"2021-11-15T00:00:00\", \"2021-11-16T00:00:00\", \"2021-11-17T00:00:00\", \"2021-11-18T00:00:00\", \"2021-11-19T00:00:00\", \"2021-11-20T00:00:00\", \"2021-11-21T00:00:00\", \"2021-11-22T00:00:00\", \"2021-11-23T00:00:00\", \"2021-11-24T00:00:00\", \"2021-11-25T00:00:00\", \"2021-11-26T00:00:00\", \"2021-11-27T00:00:00\", \"2021-11-28T00:00:00\", \"2021-11-29T00:00:00\", \"2021-11-30T00:00:00\", \"2021-12-01T00:00:00\", \"2021-12-02T00:00:00\", \"2021-12-03T00:00:00\", \"2021-12-04T00:00:00\", \"2021-12-05T00:00:00\", \"2021-12-06T00:00:00\", \"2021-12-07T00:00:00\", \"2021-12-08T00:00:00\", \"2021-12-09T00:00:00\", \"2021-12-10T00:00:00\", \"2021-12-11T00:00:00\", \"2021-12-12T00:00:00\", \"2021-12-13T00:00:00\", \"2021-12-14T00:00:00\", \"2021-12-15T00:00:00\", \"2021-12-16T00:00:00\", \"2021-12-17T00:00:00\", \"2021-12-18T00:00:00\", \"2021-12-19T00:00:00\", \"2021-12-20T00:00:00\", \"2021-12-21T00:00:00\", \"2021-12-22T00:00:00\", \"2021-12-23T00:00:00\", \"2021-12-24T00:00:00\", \"2021-12-25T00:00:00\", \"2021-12-26T00:00:00\", \"2021-12-27T00:00:00\", \"2021-12-28T00:00:00\", \"2021-12-29T00:00:00\", \"2021-12-30T00:00:00\", \"2021-12-31T00:00:00\"], \"xaxis\": \"x\", \"y\": [1.0, 11.0, 13.0, 14.0, 7.0, 0.0, 1.0, 2.0, 15.0, 10.0, 11.0, 4.0, 1.0, 1.0, 6.0, 11.0, 9.0, 9.0, 2.0, 0.0, 11.0, 18.0, 29.0, 43.0, 43.0, 32.0, 0.0, 40.0, 12.0, 33.0, 7.0, 40.0, 6.0, 13.0, 18.0, 27.0, 19.0, 7.0, 14.0, 6.0, 5.0, 4.0, 2.0, 2.0, 3.0, 4.0, 1.0, 1.0, 0.0, 2.0, 2.0, 0.0, 0.0, 0.0, 1.0, 3.0, 1.0, 1.0, 2.0, 8.0, 0.0, 4.0, 2.0, 0.0, 4.0, 6.0, 3.0, 0.0, 2.0, 1.0, 1.0, 4.0, 3.0, 0.0, 1.0, 3.0, 1.0, 1.0, 1.0, 1.0, 1.0, 0.0, 2.0, 4.0, 5.0, 8.0, 2.0, 1.0, 0.0, 1.0, 1.0, 1.0, 2.0, 2.0, 0.0, 2.0, 2.0, 1.0, 4.0, 3.0, 3.0, 0.0, 0.0, 0.0, 0.0, 2.0, 0.0, 0.0, 0.0, 1.0, 0.0, 0.0, 1.0, 0.0, 1.0, 0.0, 0.0, 0.0, 0.0, 1.0, 1.0, 0.0, 0.0, 0.0, 0.0, 1.0, 0.0, 0.0, 0.0, 0.0, 0.0, 0.0, 0.0, 0.0, 0.0, 0.0, 0.0, 0.0, 0.0, 0.0, 0.0, 0.0, 0.0, 0.0, 0.0, 0.0, 0.0, 0.0, 0.0, 0.0, 1.0, 0.0, 0.0, 0.0, 0.0, 1.0, 0.0, 0.0, 1.0, 0.0, 0.0, 0.0, 0.0, 0.0, 0.0, 2.0, 0.0, 1.0, 0.0, 1.0, 1.0, 3.0, 4.0, 0.0, 1.0, 7.0, 4.0, 3.0, 3.0, 0.0, 5.0, 5.0, 4.0, 4.0, 5.0, 1.0, 5.0, 5.0, 5.0, 9.0, 4.0, 4.0, 2.0, 6.0, 3.0, 4.0, 7.0, 0.0, 2.0, 6.0, 3.0, 5.0, 5.0, 6.0, 1.0, 2.0, 4.0, 5.0, 10.0, 9.0, 11.0, 7.0, 9.0, 4.0, 6.0, 9.0, 18.0, 13.0, 5.0, 3.0, 1.0, 0.0, 41.0, 10.0, 27.0, 2.0, 1.0, 9.0, 9.0, 11.0, 12.0, 2.0, 2.0, 33.0, 24.0, 13.0, 9.0, 6.0, 0.0, 1.0, 7.0, 5.0, 7.0, 7.0, 7.0, 0.0, 0.0, 1.0, 2.0, 6.0, 2.0, 3.0, 1.0, 1.0, 2.0, 1.0, 3.0, 0.0, 2.0, 0.0, 0.0, 1.0, 2.0, 2.0, 5.0, 4.0, 1.0, 0.0, 4.0, 8.0, 8.0, 5.0, 4.0, 3.0, 3.0, 3.0, 4.0, 5.0, 2.0, 1.0, 3.0, 3.0, 0.0, 1.0, 6.0, 4.0, 7.0, 2.0, 1.0, 3.0, 1.0, 6.0, 2.0, 5.0, 0.0, 1.0, 2.0, 1.0, 8.0, 7.0, 7.0, 0.0, 3.0, 5.0, 5.0, 2.0, 3.0, 8.0, 2.0, 3.0, 3.0, 3.0, 2.0, 8.0, 5.0, 1.0, 0.0, 3.0, 1.0, 7.0, 6.0, 8.0, 1.0, 0.0, 1.0, 3.0, 6.0, 2.0, 2.0, 2.0, 1.0, 1.0, 7.0, 20, 35, 37, 5.0, 30, 25, 21, 36, 25, 9.0], \"yaxis\": \"y\"}],\n",
              "                        {\"barmode\": \"relative\", \"legend\": {\"tracegroupgap\": 0}, \"template\": {\"data\": {\"bar\": [{\"error_x\": {\"color\": \"#2a3f5f\"}, \"error_y\": {\"color\": \"#2a3f5f\"}, \"marker\": {\"line\": {\"color\": \"#E5ECF6\", \"width\": 0.5}}, \"type\": \"bar\"}], \"barpolar\": [{\"marker\": {\"line\": {\"color\": \"#E5ECF6\", \"width\": 0.5}}, \"type\": \"barpolar\"}], \"carpet\": [{\"aaxis\": {\"endlinecolor\": \"#2a3f5f\", \"gridcolor\": \"white\", \"linecolor\": \"white\", \"minorgridcolor\": \"white\", \"startlinecolor\": \"#2a3f5f\"}, \"baxis\": {\"endlinecolor\": \"#2a3f5f\", \"gridcolor\": \"white\", \"linecolor\": \"white\", \"minorgridcolor\": \"white\", \"startlinecolor\": \"#2a3f5f\"}, \"type\": \"carpet\"}], \"choropleth\": [{\"colorbar\": {\"outlinewidth\": 0, \"ticks\": \"\"}, \"type\": \"choropleth\"}], \"contour\": [{\"colorbar\": {\"outlinewidth\": 0, \"ticks\": \"\"}, \"colorscale\": [[0.0, \"#0d0887\"], [0.1111111111111111, \"#46039f\"], [0.2222222222222222, \"#7201a8\"], [0.3333333333333333, \"#9c179e\"], [0.4444444444444444, \"#bd3786\"], [0.5555555555555556, \"#d8576b\"], [0.6666666666666666, \"#ed7953\"], [0.7777777777777778, \"#fb9f3a\"], [0.8888888888888888, \"#fdca26\"], [1.0, \"#f0f921\"]], \"type\": \"contour\"}], \"contourcarpet\": [{\"colorbar\": {\"outlinewidth\": 0, \"ticks\": \"\"}, \"type\": \"contourcarpet\"}], \"heatmap\": [{\"colorbar\": {\"outlinewidth\": 0, \"ticks\": \"\"}, \"colorscale\": [[0.0, \"#0d0887\"], [0.1111111111111111, \"#46039f\"], [0.2222222222222222, \"#7201a8\"], [0.3333333333333333, \"#9c179e\"], [0.4444444444444444, \"#bd3786\"], [0.5555555555555556, \"#d8576b\"], [0.6666666666666666, \"#ed7953\"], [0.7777777777777778, \"#fb9f3a\"], [0.8888888888888888, \"#fdca26\"], [1.0, \"#f0f921\"]], \"type\": \"heatmap\"}], \"heatmapgl\": [{\"colorbar\": {\"outlinewidth\": 0, \"ticks\": \"\"}, \"colorscale\": [[0.0, \"#0d0887\"], [0.1111111111111111, \"#46039f\"], [0.2222222222222222, \"#7201a8\"], [0.3333333333333333, \"#9c179e\"], [0.4444444444444444, \"#bd3786\"], [0.5555555555555556, \"#d8576b\"], [0.6666666666666666, \"#ed7953\"], [0.7777777777777778, \"#fb9f3a\"], [0.8888888888888888, \"#fdca26\"], [1.0, \"#f0f921\"]], \"type\": \"heatmapgl\"}], \"histogram\": [{\"marker\": {\"colorbar\": {\"outlinewidth\": 0, \"ticks\": \"\"}}, \"type\": \"histogram\"}], \"histogram2d\": [{\"colorbar\": {\"outlinewidth\": 0, \"ticks\": \"\"}, \"colorscale\": [[0.0, \"#0d0887\"], [0.1111111111111111, \"#46039f\"], [0.2222222222222222, \"#7201a8\"], [0.3333333333333333, \"#9c179e\"], [0.4444444444444444, \"#bd3786\"], [0.5555555555555556, \"#d8576b\"], [0.6666666666666666, \"#ed7953\"], [0.7777777777777778, \"#fb9f3a\"], [0.8888888888888888, \"#fdca26\"], [1.0, \"#f0f921\"]], \"type\": \"histogram2d\"}], \"histogram2dcontour\": [{\"colorbar\": {\"outlinewidth\": 0, \"ticks\": \"\"}, \"colorscale\": [[0.0, \"#0d0887\"], [0.1111111111111111, \"#46039f\"], [0.2222222222222222, \"#7201a8\"], [0.3333333333333333, \"#9c179e\"], [0.4444444444444444, \"#bd3786\"], [0.5555555555555556, \"#d8576b\"], [0.6666666666666666, \"#ed7953\"], [0.7777777777777778, \"#fb9f3a\"], [0.8888888888888888, \"#fdca26\"], [1.0, \"#f0f921\"]], \"type\": \"histogram2dcontour\"}], \"mesh3d\": [{\"colorbar\": {\"outlinewidth\": 0, \"ticks\": \"\"}, \"type\": \"mesh3d\"}], \"parcoords\": [{\"line\": {\"colorbar\": {\"outlinewidth\": 0, \"ticks\": \"\"}}, \"type\": \"parcoords\"}], \"pie\": [{\"automargin\": true, \"type\": \"pie\"}], \"scatter\": [{\"marker\": {\"colorbar\": {\"outlinewidth\": 0, \"ticks\": \"\"}}, \"type\": \"scatter\"}], \"scatter3d\": [{\"line\": {\"colorbar\": {\"outlinewidth\": 0, \"ticks\": \"\"}}, \"marker\": {\"colorbar\": {\"outlinewidth\": 0, \"ticks\": \"\"}}, \"type\": \"scatter3d\"}], \"scattercarpet\": [{\"marker\": {\"colorbar\": {\"outlinewidth\": 0, \"ticks\": \"\"}}, \"type\": \"scattercarpet\"}], \"scattergeo\": [{\"marker\": {\"colorbar\": {\"outlinewidth\": 0, \"ticks\": \"\"}}, \"type\": \"scattergeo\"}], \"scattergl\": [{\"marker\": {\"colorbar\": {\"outlinewidth\": 0, \"ticks\": \"\"}}, \"type\": \"scattergl\"}], \"scattermapbox\": [{\"marker\": {\"colorbar\": {\"outlinewidth\": 0, \"ticks\": \"\"}}, \"type\": \"scattermapbox\"}], \"scatterpolar\": [{\"marker\": {\"colorbar\": {\"outlinewidth\": 0, \"ticks\": \"\"}}, \"type\": \"scatterpolar\"}], \"scatterpolargl\": [{\"marker\": {\"colorbar\": {\"outlinewidth\": 0, \"ticks\": \"\"}}, \"type\": \"scatterpolargl\"}], \"scatterternary\": [{\"marker\": {\"colorbar\": {\"outlinewidth\": 0, \"ticks\": \"\"}}, \"type\": \"scatterternary\"}], \"surface\": [{\"colorbar\": {\"outlinewidth\": 0, \"ticks\": \"\"}, \"colorscale\": [[0.0, \"#0d0887\"], [0.1111111111111111, \"#46039f\"], [0.2222222222222222, \"#7201a8\"], [0.3333333333333333, \"#9c179e\"], [0.4444444444444444, \"#bd3786\"], [0.5555555555555556, \"#d8576b\"], [0.6666666666666666, \"#ed7953\"], [0.7777777777777778, \"#fb9f3a\"], [0.8888888888888888, \"#fdca26\"], [1.0, \"#f0f921\"]], \"type\": \"surface\"}], \"table\": [{\"cells\": {\"fill\": {\"color\": \"#EBF0F8\"}, \"line\": {\"color\": \"white\"}}, \"header\": {\"fill\": {\"color\": \"#C8D4E3\"}, \"line\": {\"color\": \"white\"}}, \"type\": \"table\"}]}, \"layout\": {\"annotationdefaults\": {\"arrowcolor\": \"#2a3f5f\", \"arrowhead\": 0, \"arrowwidth\": 1}, \"coloraxis\": {\"colorbar\": {\"outlinewidth\": 0, \"ticks\": \"\"}}, \"colorscale\": {\"diverging\": [[0, \"#8e0152\"], [0.1, \"#c51b7d\"], [0.2, \"#de77ae\"], [0.3, \"#f1b6da\"], [0.4, \"#fde0ef\"], [0.5, \"#f7f7f7\"], [0.6, \"#e6f5d0\"], [0.7, \"#b8e186\"], [0.8, \"#7fbc41\"], [0.9, \"#4d9221\"], [1, \"#276419\"]], \"sequential\": [[0.0, \"#0d0887\"], [0.1111111111111111, \"#46039f\"], [0.2222222222222222, \"#7201a8\"], [0.3333333333333333, \"#9c179e\"], [0.4444444444444444, \"#bd3786\"], [0.5555555555555556, \"#d8576b\"], [0.6666666666666666, \"#ed7953\"], [0.7777777777777778, \"#fb9f3a\"], [0.8888888888888888, \"#fdca26\"], [1.0, \"#f0f921\"]], \"sequentialminus\": [[0.0, \"#0d0887\"], [0.1111111111111111, \"#46039f\"], [0.2222222222222222, \"#7201a8\"], [0.3333333333333333, \"#9c179e\"], [0.4444444444444444, \"#bd3786\"], [0.5555555555555556, \"#d8576b\"], [0.6666666666666666, \"#ed7953\"], [0.7777777777777778, \"#fb9f3a\"], [0.8888888888888888, \"#fdca26\"], [1.0, \"#f0f921\"]]}, \"colorway\": [\"#636efa\", \"#EF553B\", \"#00cc96\", \"#ab63fa\", \"#FFA15A\", \"#19d3f3\", \"#FF6692\", \"#B6E880\", \"#FF97FF\", \"#FECB52\"], \"font\": {\"color\": \"#2a3f5f\"}, \"geo\": {\"bgcolor\": \"white\", \"lakecolor\": \"white\", \"landcolor\": \"#E5ECF6\", \"showlakes\": true, \"showland\": true, \"subunitcolor\": \"white\"}, \"hoverlabel\": {\"align\": \"left\"}, \"hovermode\": \"closest\", \"mapbox\": {\"style\": \"light\"}, \"paper_bgcolor\": \"white\", \"plot_bgcolor\": \"#E5ECF6\", \"polar\": {\"angularaxis\": {\"gridcolor\": \"white\", \"linecolor\": \"white\", \"ticks\": \"\"}, \"bgcolor\": \"#E5ECF6\", \"radialaxis\": {\"gridcolor\": \"white\", \"linecolor\": \"white\", \"ticks\": \"\"}}, \"scene\": {\"xaxis\": {\"backgroundcolor\": \"#E5ECF6\", \"gridcolor\": \"white\", \"gridwidth\": 2, \"linecolor\": \"white\", \"showbackground\": true, \"ticks\": \"\", \"zerolinecolor\": \"white\"}, \"yaxis\": {\"backgroundcolor\": \"#E5ECF6\", \"gridcolor\": \"white\", \"gridwidth\": 2, \"linecolor\": \"white\", \"showbackground\": true, \"ticks\": \"\", \"zerolinecolor\": \"white\"}, \"zaxis\": {\"backgroundcolor\": \"#E5ECF6\", \"gridcolor\": \"white\", \"gridwidth\": 2, \"linecolor\": \"white\", \"showbackground\": true, \"ticks\": \"\", \"zerolinecolor\": \"white\"}}, \"shapedefaults\": {\"line\": {\"color\": \"#2a3f5f\"}}, \"ternary\": {\"aaxis\": {\"gridcolor\": \"white\", \"linecolor\": \"white\", \"ticks\": \"\"}, \"baxis\": {\"gridcolor\": \"white\", \"linecolor\": \"white\", \"ticks\": \"\"}, \"bgcolor\": \"#E5ECF6\", \"caxis\": {\"gridcolor\": \"white\", \"linecolor\": \"white\", \"ticks\": \"\"}}, \"title\": {\"x\": 0.05}, \"xaxis\": {\"automargin\": true, \"gridcolor\": \"white\", \"linecolor\": \"white\", \"ticks\": \"\", \"title\": {\"standoff\": 15}, \"zerolinecolor\": \"white\", \"zerolinewidth\": 2}, \"yaxis\": {\"automargin\": true, \"gridcolor\": \"white\", \"linecolor\": \"white\", \"ticks\": \"\", \"title\": {\"standoff\": 15}, \"zerolinecolor\": \"white\", \"zerolinewidth\": 2}}}, \"title\": {\"text\": \"Total Positive Cases\"}, \"xaxis\": {\"anchor\": \"y\", \"domain\": [0.0, 1.0], \"title\": {\"text\": \"Result Date\"}}, \"yaxis\": {\"anchor\": \"x\", \"domain\": [0.0, 1.0], \"title\": {\"text\": \"Total\"}}},\n",
              "                        {\"responsive\": true}\n",
              "                    ).then(function(){\n",
              "                            \n",
              "var gd = document.getElementById('776bc830-c845-4d99-abd6-1f67ef0a8ae8');\n",
              "var x = new MutationObserver(function (mutations, observer) {{\n",
              "        var display = window.getComputedStyle(gd).display;\n",
              "        if (!display || display === 'none') {{\n",
              "            console.log([gd, 'removed!']);\n",
              "            Plotly.purge(gd);\n",
              "            observer.disconnect();\n",
              "        }}\n",
              "}});\n",
              "\n",
              "// Listen for the removal of the full notebook cells\n",
              "var notebookContainer = gd.closest('#notebook-container');\n",
              "if (notebookContainer) {{\n",
              "    x.observe(notebookContainer, {childList: true});\n",
              "}}\n",
              "\n",
              "// Listen for the clearing of the current output cell\n",
              "var outputEl = gd.closest('.output');\n",
              "if (outputEl) {{\n",
              "    x.observe(outputEl, {childList: true});\n",
              "}}\n",
              "\n",
              "                        })\n",
              "                };\n",
              "                \n",
              "            </script>\n",
              "        </div>\n",
              "</body>\n",
              "</html>"
            ]
          },
          "metadata": {}
        }
      ]
    },
    {
      "cell_type": "code",
      "metadata": {
        "colab": {
          "base_uri": "https://localhost:8080/",
          "height": 625
        },
        "id": "IsPGfAHtvbCF",
        "outputId": "37dee3d3-1851-4cd1-b2ed-d9d667dbe329"
      },
      "source": [
        "df_case_total_1year['month'] = [d.strftime('%b') for d in df_case_total_1year['Result Date']]\n",
        "\n",
        "fig, axes = plt.subplots(1, figsize=(20,9), dpi= 80)\n",
        "sns.boxplot(x='month', y='Total', data=df_case_total_1year, ax = axes)\n",
        "plt.title(\"Month-Wise Box Plot of Positive Cases\")\n",
        "plt.xlabel(\"Month\")\n",
        "plt.ylabel(\"Total Positive Cases\");"
      ],
      "execution_count": 30,
      "outputs": [
        {
          "output_type": "display_data",
          "data": {
            "image/png": "[encoded data removed]",
            "text/plain": [
              "<Figure size 1600x720 with 1 Axes>"
            ]
          },
          "metadata": {
            "needs_background": "light"
          }
        }
      ]
    },
    {
      "cell_type": "markdown",
      "metadata": {
        "id": "-KCc2H4cFpmX"
      },
      "source": [
        "# **Predicting Number of Test Collected**"
      ]
    },
    {
      "cell_type": "markdown",
      "metadata": {
        "id": "v8sNDHYO1ca8"
      },
      "source": [
        "In this section, We want to determine the percentage of people who will go to surveillance, symptoms, and exposure using only the data after fall semester class begin. This is because we want to model the future (October 21,2021 until December 31,2021) using only present data. Present data and past data are different because:\n",
        "- For past data, Berkeley conducted the class remote. Hence, we assume that only few Berkeley students are in Berkeley area. \n",
        "- The way they collected data from the past compared to the present is different (The way that they conduct the test on Saturday and Sunday after the fall semester class begin is different compared to the before fall semester class begin.)."
      ]
    },
    {
      "cell_type": "markdown",
      "metadata": {
        "id": "QOkhriJIbOgE"
      },
      "source": [
        "We divided the process into two cases: percentages for weekdays and percentages for weekend. This is because on Saturday and Sunday (weekdays), there is no surveillance test (some of the earlier month has, but assume that there is no surveillance test on Saturday and Sunday). We need to investigate what proportion of people goes through symptoms and exposure test. We can find the proportion by constructing a statistic table for only day Saturday and Sunday, then we can estimate the proportion using the statistic table."
      ]
    },
    {
      "cell_type": "code",
      "metadata": {
        "colab": {
          "base_uri": "https://localhost:8080/",
          "height": 419
        },
        "id": "T2kbW0e55FAe",
        "outputId": "83e0b21e-0bad-41e1-c325-d791617f5f96"
      },
      "source": [
        "# Combine all three datas\n",
        "df_collect = pd.concat([df_collect_exp,df_collect_surv,df_collect_sym],axis = 1)\n",
        "\n",
        "# Remove duplicate column name and some data cleaning\n",
        "df_collect = df_collect.iloc[:,~df_collect.columns.duplicated()]\n",
        "df_collect = df_collect[df_collect['Patient Type'] == 'Total']\n",
        "df_collect = df_collect[['Collection Date','Count Collected Exposure',\n",
        "                         'Count Collected Surveillance','Count Collected Symptoms']]\n",
        "df_collect = df_collect[df_collect['Collection Date'] >= \"2021-08-18\"] # From fall semester class begin\n",
        "df_collect = df_collect.reset_index().drop(columns = ['index'])\n",
        "\n",
        "# Computing the total of people tested in all locations\n",
        "df_collect['Count Total'] = df_collect['Count Collected Exposure'] + \\\n",
        "df_collect['Count Collected Surveillance'] + df_collect['Count Collected Symptoms']\n",
        "\n",
        "# Concat df_collect with df_case_total\n",
        "df_collect = df_collect.merge(df_case_total, how = \"inner\",left_on = \"Collection Date\", right_on = \"Result Date\")\\\n",
        ".rename(columns= {'Total':'Positive Total'})\n",
        "df_collect = df_collect.drop(columns = ['Result Date'])\n",
        "\n",
        "# Calculate positive rate\n",
        "df_collect['Positive Rate (%)'] = df_collect['Positive Total']/df_collect['Count Total'] * 100\n",
        "\n",
        "df_collect"
      ],
      "execution_count": 31,
      "outputs": [
        {
          "output_type": "execute_result",
          "data": {
            "text/html": [
              "<div>\n",
              "<style scoped>\n",
              "    .dataframe tbody tr th:only-of-type {\n",
              "        vertical-align: middle;\n",
              "    }\n",
              "\n",
              "    .dataframe tbody tr th {\n",
              "        vertical-align: top;\n",
              "    }\n",
              "\n",
              "    .dataframe thead th {\n",
              "        text-align: right;\n",
              "    }\n",
              "</style>\n",
              "<table border=\"1\" class=\"dataframe\">\n",
              "  <thead>\n",
              "    <tr style=\"text-align: right;\">\n",
              "      <th></th>\n",
              "      <th>Collection Date</th>\n",
              "      <th>Count Collected Exposure</th>\n",
              "      <th>Count Collected Surveillance</th>\n",
              "      <th>Count Collected Symptoms</th>\n",
              "      <th>Count Total</th>\n",
              "      <th>Positive Total</th>\n",
              "      <th>Positive Rate (%)</th>\n",
              "    </tr>\n",
              "  </thead>\n",
              "  <tbody>\n",
              "    <tr>\n",
              "      <th>0</th>\n",
              "      <td>2021-08-18</td>\n",
              "      <td>31.0</td>\n",
              "      <td>3733.0</td>\n",
              "      <td>47.0</td>\n",
              "      <td>3811.0</td>\n",
              "      <td>10.0</td>\n",
              "      <td>0.262398</td>\n",
              "    </tr>\n",
              "    <tr>\n",
              "      <th>1</th>\n",
              "      <td>2021-08-19</td>\n",
              "      <td>19.0</td>\n",
              "      <td>1661.0</td>\n",
              "      <td>40.0</td>\n",
              "      <td>1720.0</td>\n",
              "      <td>9.0</td>\n",
              "      <td>0.523256</td>\n",
              "    </tr>\n",
              "    <tr>\n",
              "      <th>2</th>\n",
              "      <td>2021-08-20</td>\n",
              "      <td>40.0</td>\n",
              "      <td>1796.0</td>\n",
              "      <td>49.0</td>\n",
              "      <td>1885.0</td>\n",
              "      <td>11.0</td>\n",
              "      <td>0.583554</td>\n",
              "    </tr>\n",
              "    <tr>\n",
              "      <th>3</th>\n",
              "      <td>2021-08-21</td>\n",
              "      <td>2.0</td>\n",
              "      <td>640.0</td>\n",
              "      <td>22.0</td>\n",
              "      <td>664.0</td>\n",
              "      <td>7.0</td>\n",
              "      <td>1.054217</td>\n",
              "    </tr>\n",
              "    <tr>\n",
              "      <th>4</th>\n",
              "      <td>2021-08-22</td>\n",
              "      <td>5.0</td>\n",
              "      <td>1407.0</td>\n",
              "      <td>41.0</td>\n",
              "      <td>1453.0</td>\n",
              "      <td>9.0</td>\n",
              "      <td>0.619408</td>\n",
              "    </tr>\n",
              "    <tr>\n",
              "      <th>...</th>\n",
              "      <td>...</td>\n",
              "      <td>...</td>\n",
              "      <td>...</td>\n",
              "      <td>...</td>\n",
              "      <td>...</td>\n",
              "      <td>...</td>\n",
              "      <td>...</td>\n",
              "    </tr>\n",
              "    <tr>\n",
              "      <th>58</th>\n",
              "      <td>2021-10-16</td>\n",
              "      <td>12.0</td>\n",
              "      <td>0.0</td>\n",
              "      <td>30.0</td>\n",
              "      <td>42.0</td>\n",
              "      <td>1.0</td>\n",
              "      <td>2.380952</td>\n",
              "    </tr>\n",
              "    <tr>\n",
              "      <th>59</th>\n",
              "      <td>2021-10-17</td>\n",
              "      <td>15.0</td>\n",
              "      <td>0.0</td>\n",
              "      <td>32.0</td>\n",
              "      <td>47.0</td>\n",
              "      <td>0.0</td>\n",
              "      <td>0.000000</td>\n",
              "    </tr>\n",
              "    <tr>\n",
              "      <th>60</th>\n",
              "      <td>2021-10-18</td>\n",
              "      <td>19.0</td>\n",
              "      <td>1858.0</td>\n",
              "      <td>114.0</td>\n",
              "      <td>1991.0</td>\n",
              "      <td>4.0</td>\n",
              "      <td>0.200904</td>\n",
              "    </tr>\n",
              "    <tr>\n",
              "      <th>61</th>\n",
              "      <td>2021-10-19</td>\n",
              "      <td>35.0</td>\n",
              "      <td>1561.0</td>\n",
              "      <td>119.0</td>\n",
              "      <td>1715.0</td>\n",
              "      <td>8.0</td>\n",
              "      <td>0.466472</td>\n",
              "    </tr>\n",
              "    <tr>\n",
              "      <th>62</th>\n",
              "      <td>2021-10-20</td>\n",
              "      <td>0.0</td>\n",
              "      <td>0.0</td>\n",
              "      <td>24.0</td>\n",
              "      <td>24.0</td>\n",
              "      <td>8.0</td>\n",
              "      <td>33.333333</td>\n",
              "    </tr>\n",
              "  </tbody>\n",
              "</table>\n",
              "<p>63 rows × 7 columns</p>\n",
              "</div>"
            ],
            "text/plain": [
              "   Collection Date  Count Collected Exposure  ...  Positive Total  Positive Rate (%)\n",
              "0       2021-08-18                      31.0  ...            10.0           0.262398\n",
              "1       2021-08-19                      19.0  ...             9.0           0.523256\n",
              "2       2021-08-20                      40.0  ...            11.0           0.583554\n",
              "3       2021-08-21                       2.0  ...             7.0           1.054217\n",
              "4       2021-08-22                       5.0  ...             9.0           0.619408\n",
              "..             ...                       ...  ...             ...                ...\n",
              "58      2021-10-16                      12.0  ...             1.0           2.380952\n",
              "59      2021-10-17                      15.0  ...             0.0           0.000000\n",
              "60      2021-10-18                      19.0  ...             4.0           0.200904\n",
              "61      2021-10-19                      35.0  ...             8.0           0.466472\n",
              "62      2021-10-20                       0.0  ...             8.0          33.333333\n",
              "\n",
              "[63 rows x 7 columns]"
            ]
          },
          "metadata": {},
          "execution_count": 31
        }
      ]
    },
    {
      "cell_type": "markdown",
      "metadata": {
        "id": "6XnBDgnZTJ-K"
      },
      "source": [
        "Now let us add the percentage of:\n",
        "- Percentage of people who has exposure test\n",
        "- Percentage of people who has symptoms test\n",
        "- Percentage of people who has surveillance test \\\\\n",
        "\n",
        "These percentages are calculated with respect to the total.\n"
      ]
    },
    {
      "cell_type": "code",
      "metadata": {
        "colab": {
          "base_uri": "https://localhost:8080/",
          "height": 221
        },
        "id": "TReL-BQ7Q-TG",
        "outputId": "628bd2e0-f3b8-4724-c3cb-3360437d4786"
      },
      "source": [
        "df_collect['Percentage Exposure'] = df_collect['Count Collected Exposure']/df_collect['Count Total'] * 100\n",
        "df_collect['Percentage Surveillance'] = df_collect['Count Collected Surveillance']/df_collect['Count Total'] * 100\n",
        "df_collect['Percentage Symptoms'] = df_collect['Count Collected Symptoms']/df_collect['Count Total'] * 100\n",
        "df_collect.head()"
      ],
      "execution_count": 32,
      "outputs": [
        {
          "output_type": "execute_result",
          "data": {
            "text/html": [
              "<div>\n",
              "<style scoped>\n",
              "    .dataframe tbody tr th:only-of-type {\n",
              "        vertical-align: middle;\n",
              "    }\n",
              "\n",
              "    .dataframe tbody tr th {\n",
              "        vertical-align: top;\n",
              "    }\n",
              "\n",
              "    .dataframe thead th {\n",
              "        text-align: right;\n",
              "    }\n",
              "</style>\n",
              "<table border=\"1\" class=\"dataframe\">\n",
              "  <thead>\n",
              "    <tr style=\"text-align: right;\">\n",
              "      <th></th>\n",
              "      <th>Collection Date</th>\n",
              "      <th>Count Collected Exposure</th>\n",
              "      <th>Count Collected Surveillance</th>\n",
              "      <th>Count Collected Symptoms</th>\n",
              "      <th>Count Total</th>\n",
              "      <th>Positive Total</th>\n",
              "      <th>Positive Rate (%)</th>\n",
              "      <th>Percentage Exposure</th>\n",
              "      <th>Percentage Surveillance</th>\n",
              "      <th>Percentage Symptoms</th>\n",
              "    </tr>\n",
              "  </thead>\n",
              "  <tbody>\n",
              "    <tr>\n",
              "      <th>0</th>\n",
              "      <td>2021-08-18</td>\n",
              "      <td>31.0</td>\n",
              "      <td>3733.0</td>\n",
              "      <td>47.0</td>\n",
              "      <td>3811.0</td>\n",
              "      <td>10.0</td>\n",
              "      <td>0.262398</td>\n",
              "      <td>0.813435</td>\n",
              "      <td>97.953293</td>\n",
              "      <td>1.233272</td>\n",
              "    </tr>\n",
              "    <tr>\n",
              "      <th>1</th>\n",
              "      <td>2021-08-19</td>\n",
              "      <td>19.0</td>\n",
              "      <td>1661.0</td>\n",
              "      <td>40.0</td>\n",
              "      <td>1720.0</td>\n",
              "      <td>9.0</td>\n",
              "      <td>0.523256</td>\n",
              "      <td>1.104651</td>\n",
              "      <td>96.569767</td>\n",
              "      <td>2.325581</td>\n",
              "    </tr>\n",
              "    <tr>\n",
              "      <th>2</th>\n",
              "      <td>2021-08-20</td>\n",
              "      <td>40.0</td>\n",
              "      <td>1796.0</td>\n",
              "      <td>49.0</td>\n",
              "      <td>1885.0</td>\n",
              "      <td>11.0</td>\n",
              "      <td>0.583554</td>\n",
              "      <td>2.122016</td>\n",
              "      <td>95.278515</td>\n",
              "      <td>2.599469</td>\n",
              "    </tr>\n",
              "    <tr>\n",
              "      <th>3</th>\n",
              "      <td>2021-08-21</td>\n",
              "      <td>2.0</td>\n",
              "      <td>640.0</td>\n",
              "      <td>22.0</td>\n",
              "      <td>664.0</td>\n",
              "      <td>7.0</td>\n",
              "      <td>1.054217</td>\n",
              "      <td>0.301205</td>\n",
              "      <td>96.385542</td>\n",
              "      <td>3.313253</td>\n",
              "    </tr>\n",
              "    <tr>\n",
              "      <th>4</th>\n",
              "      <td>2021-08-22</td>\n",
              "      <td>5.0</td>\n",
              "      <td>1407.0</td>\n",
              "      <td>41.0</td>\n",
              "      <td>1453.0</td>\n",
              "      <td>9.0</td>\n",
              "      <td>0.619408</td>\n",
              "      <td>0.344116</td>\n",
              "      <td>96.834136</td>\n",
              "      <td>2.821748</td>\n",
              "    </tr>\n",
              "  </tbody>\n",
              "</table>\n",
              "</div>"
            ],
            "text/plain": [
              "  Collection Date  ...  Percentage Symptoms\n",
              "0      2021-08-18  ...             1.233272\n",
              "1      2021-08-19  ...             2.325581\n",
              "2      2021-08-20  ...             2.599469\n",
              "3      2021-08-21  ...             3.313253\n",
              "4      2021-08-22  ...             2.821748\n",
              "\n",
              "[5 rows x 10 columns]"
            ]
          },
          "metadata": {},
          "execution_count": 32
        }
      ]
    },
    {
      "cell_type": "markdown",
      "metadata": {
        "id": "ptlHdK81UrkM"
      },
      "source": [
        "Given all these data, let us plot the total number of people that is getting tested. Hover your mouse to the plot for data."
      ]
    },
    {
      "cell_type": "code",
      "metadata": {
        "colab": {
          "base_uri": "https://localhost:8080/",
          "height": 542
        },
        "id": "RT4mCeFUUq38",
        "outputId": "db83c680-1349-405c-f4bc-a695783cd03f"
      },
      "source": [
        "fig_case = px.bar(df_collect, x= 'Collection Date', y = 'Count Total', \\\n",
        "                   title = \"Total Testing\", \n",
        "                  hover_data = df_collect.columns[1:])\n",
        "fig_case.show()"
      ],
      "execution_count": 33,
      "outputs": [
        {
          "output_type": "display_data",
          "data": {
            "text/html": [
              "<html>\n",
              "<head><meta charset=\"utf-8\" /></head>\n",
              "<body>\n",
              "    <div>\n",
              "            <script src=\"https://cdnjs.cloudflare.com/ajax/libs/mathjax/2.7.5/MathJax.js?config=TeX-AMS-MML_SVG\"></script><script type=\"text/javascript\">if (window.MathJax) {MathJax.Hub.Config({SVG: {font: \"STIX-Web\"}});}</script>\n",
              "                <script type=\"text/javascript\">window.PlotlyConfig = {MathJaxConfig: 'local'};</script>\n",
              "        <script src=\"https://cdn.plot.ly/plotly-latest.min.js\"></script>    \n",
              "            <div id=\"c00683d3-c60a-440b-85f5-0584e5270bd7\" class=\"plotly-graph-div\" style=\"height:525px; width:100%;\"></div>\n",
              "            <script type=\"text/javascript\">\n",
              "                \n",
              "                    window.PLOTLYENV=window.PLOTLYENV || {};\n",
              "                    \n",
              "                if (document.getElementById(\"c00683d3-c60a-440b-85f5-0584e5270bd7\")) {\n",
              "                    Plotly.newPlot(\n",
              "                        'c00683d3-c60a-440b-85f5-0584e5270bd7',\n",
              "                        [{\"alignmentgroup\": \"True\", \"customdata\": [[31.0, 3733.0, 47.0, 3811.0, 10.0, 0.26239832065074786, 0.8134347940173182, 97.95329309892416, 1.2332721070585149], [19.0, 1661.0, 40.0, 1720.0, 9.0, 0.5232558139534884, 1.1046511627906976, 96.56976744186046, 2.3255813953488373], [40.0, 1796.0, 49.0, 1885.0, 11.0, 0.583554376657825, 2.122015915119363, 95.27851458885942, 2.59946949602122], [2.0, 640.0, 22.0, 664.0, 7.0, 1.0542168674698795, 0.30120481927710846, 96.3855421686747, 3.313253012048193], [5.0, 1407.0, 41.0, 1453.0, 9.0, 0.6194081211286993, 0.3441156228492774, 96.83413626978665, 2.821748107364074], [71.0, 3697.0, 66.0, 3834.0, 4.0, 0.10432968179447052, 1.8518518518518516, 96.42670839853939, 1.7214397496087637], [29.0, 2621.0, 81.0, 2731.0, 6.0, 0.21969974368363238, 1.0618820944708898, 95.97217136580008, 2.965946539729037], [28.0, 1879.0, 72.0, 1979.0, 9.0, 0.4547751389590703, 1.414855987872663, 94.94694290045477, 3.6382011116725623], [75.0, 1434.0, 94.0, 1603.0, 18.0, 1.122894572676232, 4.678727386150967, 89.45726762320648, 5.864004990642545], [17.0, 1320.0, 120.0, 1457.0, 13.0, 0.8922443376801648, 1.1667810569663692, 90.5971173644475, 8.236101578586135], [88.0, 0.0, 95.0, 183.0, 5.0, 2.73224043715847, 48.08743169398907, 0.0, 51.91256830601093], [25.0, 0.0, 98.0, 123.0, 3.0, 2.4390243902439024, 20.32520325203252, 0.0, 79.67479674796748], [81.0, 2156.0, 151.0, 2388.0, 1.0, 0.04187604690117253, 3.391959798994975, 90.28475711892797, 6.323283082077053], [77.0, 1702.0, 175.0, 1954.0, 0.0, 0.0, 3.940634595701126, 87.1033776867963, 8.955987717502559], [75.0, 1579.0, 205.0, 1859.0, 41.0, 2.205486820871436, 4.034427111350189, 84.93813878429263, 11.02743410435718], [133.0, 1392.0, 193.0, 1718.0, 10.0, 0.5820721769499418, 7.741559953434225, 81.0244470314319, 11.233993015133876], [140.0, 1543.0, 185.0, 1868.0, 27.0, 1.4453961456102784, 7.494646680942184, 82.6017130620985, 9.903640256959315], [76.0, 0.0, 87.0, 163.0, 2.0, 1.2269938650306749, 46.62576687116564, 0.0, 53.37423312883436], [63.0, 0.0, 77.0, 140.0, 1.0, 0.7142857142857143, 45.0, 0.0, 55.00000000000001], [124.0, 2702.0, 197.0, 3023.0, 9.0, 0.29771749917300694, 4.101885544161429, 89.38140919616275, 6.516705259675819], [122.0, 2585.0, 239.0, 2946.0, 9.0, 0.30549898167006106, 4.141208418194162, 87.74609640190089, 8.112695179904957], [84.0, 2075.0, 190.0, 2349.0, 11.0, 0.4682843763303533, 3.5759897828863343, 88.3354618986803, 8.088548318433377], [119.0, 1875.0, 156.0, 2150.0, 12.0, 0.5581395348837209, 5.534883720930233, 87.20930232558139, 7.255813953488372], [55.0, 0.0, 69.0, 124.0, 2.0, 1.6129032258064515, 44.354838709677416, 0.0, 55.64516129032258], [66.0, 0.0, 68.0, 134.0, 2.0, 1.4925373134328357, 49.25373134328358, 0.0, 50.74626865671642], [157.0, 2293.0, 246.0, 2696.0, 33.0, 1.2240356083086052, 5.8234421364985165, 85.05192878338279, 9.124629080118694], [132.0, 2229.0, 211.0, 2572.0, 24.0, 0.9331259720062209, 5.132192846034215, 86.66407465007777, 8.203732503888025], [134.0, 1975.0, 194.0, 2303.0, 13.0, 0.5644811115935736, 5.818497611810682, 85.75770733825445, 8.423795049934867], [143.0, 1751.0, 192.0, 2086.0, 9.0, 0.4314477468839885, 6.85522531160115, 83.9405560882071, 9.204218600191755], [124.0, 1651.0, 177.0, 1952.0, 6.0, 0.3073770491803279, 6.352459016393443, 84.57991803278688, 9.067622950819672], [35.0, 0.0, 81.0, 116.0, 0.0, 0.0, 30.17241379310345, 0.0, 69.82758620689656], [27.0, 0.0, 73.0, 100.0, 1.0, 1.0, 27.0, 0.0, 73.0], [60.0, 2243.0, 180.0, 2483.0, 7.0, 0.2819170358437374, 2.4164317358034633, 90.33427305678615, 7.24929520741039], [76.0, 1924.0, 189.0, 2189.0, 5.0, 0.22841480127912286, 3.4719049794426677, 87.89401553220648, 8.634079488350844], [60.0, 1767.0, 175.0, 2002.0, 7.0, 0.34965034965034963, 2.997002997002997, 88.26173826173826, 8.741258741258742], [77.0, 1536.0, 130.0, 1743.0, 7.0, 0.4016064257028112, 4.417670682730924, 88.12392426850259, 7.458405048766495], [104.0, 1247.0, 117.0, 1468.0, 7.0, 0.4768392370572207, 7.084468664850137, 84.94550408719346, 7.970027247956403], [10.0, 0.0, 31.0, 41.0, 0.0, 0.0, 24.390243902439025, 0.0, 75.60975609756098], [12.0, 0.0, 31.0, 43.0, 0.0, 0.0, 27.906976744186046, 0.0, 72.09302325581395], [42.0, 1832.0, 159.0, 2033.0, 1.0, 0.04918839153959665, 2.0659124446630592, 90.11313330054107, 7.820954254795868], [33.0, 1491.0, 136.0, 1660.0, 2.0, 0.12048192771084339, 1.9879518072289155, 89.81927710843374, 8.19277108433735], [47.0, 1590.0, 129.0, 1766.0, 6.0, 0.33975084937712347, 2.6613816534541335, 90.03397508493771, 7.304643261608154], [62.0, 1283.0, 122.0, 1467.0, 2.0, 0.136332651670075, 4.226312201772324, 87.4573960463531, 8.316291751874575], [39.0, 1112.0, 81.0, 1232.0, 3.0, 0.2435064935064935, 3.1655844155844153, 90.25974025974025, 6.574675324675325], [8.0, 0.0, 35.0, 43.0, 1.0, 2.3255813953488373, 18.6046511627907, 0.0, 81.3953488372093], [16.0, 0.0, 45.0, 61.0, 1.0, 1.639344262295082, 26.229508196721312, 0.0, 73.77049180327869], [42.0, 1980.0, 123.0, 2145.0, 2.0, 0.09324009324009325, 1.9580419580419581, 92.3076923076923, 5.734265734265734], [36.0, 1885.0, 155.0, 2076.0, 1.0, 0.04816955684007707, 1.7341040462427744, 90.79961464354528, 7.466281310211946], [22.0, 1664.0, 119.0, 1805.0, 3.0, 0.16620498614958448, 1.218836565096953, 92.18836565096953, 6.592797783933518], [20.0, 1305.0, 101.0, 1426.0, 0.0, 0.0, 1.402524544179523, 91.51472650771389, 7.082748948106592], [25.0, 1331.0, 72.0, 1428.0, 2.0, 0.1400560224089636, 1.7507002801120448, 93.20728291316527, 5.042016806722689], [7.0, 0.0, 28.0, 35.0, 0.0, 0.0, 20.0, 0.0, 80.0], [4.0, 0.0, 21.0, 25.0, 0.0, 0.0, 16.0, 0.0, 84.0], [12.0, 2023.0, 99.0, 2134.0, 1.0, 0.046860356138706656, 0.5623242736644799, 94.79850046860356, 4.639175257731959], [16.0, 1802.0, 141.0, 1959.0, 2.0, 0.10209290454313426, 0.8167432363450741, 91.98570699336396, 7.197549770290965], [17.0, 1553.0, 118.0, 1688.0, 2.0, 0.11848341232227488, 1.0071090047393365, 92.00236966824644, 6.990521327014218], [19.0, 1344.0, 88.0, 1451.0, 5.0, 0.34458993797381116, 1.3094417643004823, 92.62577532736044, 6.064782908339077], [45.0, 1227.0, 77.0, 1349.0, 4.0, 0.2965159377316531, 3.3358042994810972, 90.95626389918459, 5.707931801334322], [12.0, 0.0, 30.0, 42.0, 1.0, 2.380952380952381, 28.57142857142857, 0.0, 71.42857142857143], [15.0, 0.0, 32.0, 47.0, 0.0, 0.0, 31.914893617021278, 0.0, 68.08510638297872], [19.0, 1858.0, 114.0, 1991.0, 4.0, 0.20090406830738325, 0.9542943244600702, 93.31993972877952, 5.725765946760422], [35.0, 1561.0, 119.0, 1715.0, 8.0, 0.46647230320699706, 2.0408163265306123, 91.02040816326532, 6.938775510204081], [0.0, 0.0, 24.0, 24.0, 8.0, 33.33333333333333, 0.0, 0.0, 100.0]], \"hoverlabel\": {\"namelength\": 0}, \"hovertemplate\": \"Collection Date=%{x}<br>Count Total=%{customdata[3]}<br>Count Collected Exposure=%{customdata[0]}<br>Count Collected Surveillance=%{customdata[1]}<br>Count Collected Symptoms=%{customdata[2]}<br>Positive Total=%{customdata[4]}<br>Positive Rate (%)=%{customdata[5]}<br>Percentage Exposure=%{customdata[6]}<br>Percentage Surveillance=%{customdata[7]}<br>Percentage Symptoms=%{customdata[8]}\", \"legendgroup\": \"\", \"marker\": {\"color\": \"#636efa\"}, \"name\": \"\", \"offsetgroup\": \"\", \"orientation\": \"v\", \"showlegend\": false, \"textposition\": \"auto\", \"type\": \"bar\", \"x\": [\"2021-08-18T00:00:00\", \"2021-08-19T00:00:00\", \"2021-08-20T00:00:00\", \"2021-08-21T00:00:00\", \"2021-08-22T00:00:00\", \"2021-08-23T00:00:00\", \"2021-08-24T00:00:00\", \"2021-08-25T00:00:00\", \"2021-08-26T00:00:00\", \"2021-08-27T00:00:00\", \"2021-08-28T00:00:00\", \"2021-08-29T00:00:00\", \"2021-08-30T00:00:00\", \"2021-08-31T00:00:00\", \"2021-09-01T00:00:00\", \"2021-09-02T00:00:00\", \"2021-09-03T00:00:00\", \"2021-09-04T00:00:00\", \"2021-09-05T00:00:00\", \"2021-09-07T00:00:00\", \"2021-09-08T00:00:00\", \"2021-09-09T00:00:00\", \"2021-09-10T00:00:00\", \"2021-09-11T00:00:00\", \"2021-09-12T00:00:00\", \"2021-09-13T00:00:00\", \"2021-09-14T00:00:00\", \"2021-09-15T00:00:00\", \"2021-09-16T00:00:00\", \"2021-09-17T00:00:00\", \"2021-09-18T00:00:00\", \"2021-09-19T00:00:00\", \"2021-09-20T00:00:00\", \"2021-09-21T00:00:00\", \"2021-09-22T00:00:00\", \"2021-09-23T00:00:00\", \"2021-09-24T00:00:00\", \"2021-09-25T00:00:00\", \"2021-09-26T00:00:00\", \"2021-09-27T00:00:00\", \"2021-09-28T00:00:00\", \"2021-09-29T00:00:00\", \"2021-09-30T00:00:00\", \"2021-10-01T00:00:00\", \"2021-10-02T00:00:00\", \"2021-10-03T00:00:00\", \"2021-10-04T00:00:00\", \"2021-10-05T00:00:00\", \"2021-10-06T00:00:00\", \"2021-10-07T00:00:00\", \"2021-10-08T00:00:00\", \"2021-10-09T00:00:00\", \"2021-10-10T00:00:00\", \"2021-10-11T00:00:00\", \"2021-10-12T00:00:00\", \"2021-10-13T00:00:00\", \"2021-10-14T00:00:00\", \"2021-10-15T00:00:00\", \"2021-10-16T00:00:00\", \"2021-10-17T00:00:00\", \"2021-10-18T00:00:00\", \"2021-10-19T00:00:00\", \"2021-10-20T00:00:00\"], \"xaxis\": \"x\", \"y\": [3811.0, 1720.0, 1885.0, 664.0, 1453.0, 3834.0, 2731.0, 1979.0, 1603.0, 1457.0, 183.0, 123.0, 2388.0, 1954.0, 1859.0, 1718.0, 1868.0, 163.0, 140.0, 3023.0, 2946.0, 2349.0, 2150.0, 124.0, 134.0, 2696.0, 2572.0, 2303.0, 2086.0, 1952.0, 116.0, 100.0, 2483.0, 2189.0, 2002.0, 1743.0, 1468.0, 41.0, 43.0, 2033.0, 1660.0, 1766.0, 1467.0, 1232.0, 43.0, 61.0, 2145.0, 2076.0, 1805.0, 1426.0, 1428.0, 35.0, 25.0, 2134.0, 1959.0, 1688.0, 1451.0, 1349.0, 42.0, 47.0, 1991.0, 1715.0, 24.0], \"yaxis\": \"y\"}],\n",
              "                        {\"barmode\": \"relative\", \"legend\": {\"tracegroupgap\": 0}, \"template\": {\"data\": {\"bar\": [{\"error_x\": {\"color\": \"#2a3f5f\"}, \"error_y\": {\"color\": \"#2a3f5f\"}, \"marker\": {\"line\": {\"color\": \"#E5ECF6\", \"width\": 0.5}}, \"type\": \"bar\"}], \"barpolar\": [{\"marker\": {\"line\": {\"color\": \"#E5ECF6\", \"width\": 0.5}}, \"type\": \"barpolar\"}], \"carpet\": [{\"aaxis\": {\"endlinecolor\": \"#2a3f5f\", \"gridcolor\": \"white\", \"linecolor\": \"white\", \"minorgridcolor\": \"white\", \"startlinecolor\": \"#2a3f5f\"}, \"baxis\": {\"endlinecolor\": \"#2a3f5f\", \"gridcolor\": \"white\", \"linecolor\": \"white\", \"minorgridcolor\": \"white\", \"startlinecolor\": \"#2a3f5f\"}, \"type\": \"carpet\"}], \"choropleth\": [{\"colorbar\": {\"outlinewidth\": 0, \"ticks\": \"\"}, \"type\": \"choropleth\"}], \"contour\": [{\"colorbar\": {\"outlinewidth\": 0, \"ticks\": \"\"}, \"colorscale\": [[0.0, \"#0d0887\"], [0.1111111111111111, \"#46039f\"], [0.2222222222222222, \"#7201a8\"], [0.3333333333333333, \"#9c179e\"], [0.4444444444444444, \"#bd3786\"], [0.5555555555555556, \"#d8576b\"], [0.6666666666666666, \"#ed7953\"], [0.7777777777777778, \"#fb9f3a\"], [0.8888888888888888, \"#fdca26\"], [1.0, \"#f0f921\"]], \"type\": \"contour\"}], \"contourcarpet\": [{\"colorbar\": {\"outlinewidth\": 0, \"ticks\": \"\"}, \"type\": \"contourcarpet\"}], \"heatmap\": [{\"colorbar\": {\"outlinewidth\": 0, \"ticks\": \"\"}, \"colorscale\": [[0.0, \"#0d0887\"], [0.1111111111111111, \"#46039f\"], [0.2222222222222222, \"#7201a8\"], [0.3333333333333333, \"#9c179e\"], [0.4444444444444444, \"#bd3786\"], [0.5555555555555556, \"#d8576b\"], [0.6666666666666666, \"#ed7953\"], [0.7777777777777778, \"#fb9f3a\"], [0.8888888888888888, \"#fdca26\"], [1.0, \"#f0f921\"]], \"type\": \"heatmap\"}], \"heatmapgl\": [{\"colorbar\": {\"outlinewidth\": 0, \"ticks\": \"\"}, \"colorscale\": [[0.0, \"#0d0887\"], [0.1111111111111111, \"#46039f\"], [0.2222222222222222, \"#7201a8\"], [0.3333333333333333, \"#9c179e\"], [0.4444444444444444, \"#bd3786\"], [0.5555555555555556, \"#d8576b\"], [0.6666666666666666, \"#ed7953\"], [0.7777777777777778, \"#fb9f3a\"], [0.8888888888888888, \"#fdca26\"], [1.0, \"#f0f921\"]], \"type\": \"heatmapgl\"}], \"histogram\": [{\"marker\": {\"colorbar\": {\"outlinewidth\": 0, \"ticks\": \"\"}}, \"type\": \"histogram\"}], \"histogram2d\": [{\"colorbar\": {\"outlinewidth\": 0, \"ticks\": \"\"}, \"colorscale\": [[0.0, \"#0d0887\"], [0.1111111111111111, \"#46039f\"], [0.2222222222222222, \"#7201a8\"], [0.3333333333333333, \"#9c179e\"], [0.4444444444444444, \"#bd3786\"], [0.5555555555555556, \"#d8576b\"], [0.6666666666666666, \"#ed7953\"], [0.7777777777777778, \"#fb9f3a\"], [0.8888888888888888, \"#fdca26\"], [1.0, \"#f0f921\"]], \"type\": \"histogram2d\"}], \"histogram2dcontour\": [{\"colorbar\": {\"outlinewidth\": 0, \"ticks\": \"\"}, \"colorscale\": [[0.0, \"#0d0887\"], [0.1111111111111111, \"#46039f\"], [0.2222222222222222, \"#7201a8\"], [0.3333333333333333, \"#9c179e\"], [0.4444444444444444, \"#bd3786\"], [0.5555555555555556, \"#d8576b\"], [0.6666666666666666, \"#ed7953\"], [0.7777777777777778, \"#fb9f3a\"], [0.8888888888888888, \"#fdca26\"], [1.0, \"#f0f921\"]], \"type\": \"histogram2dcontour\"}], \"mesh3d\": [{\"colorbar\": {\"outlinewidth\": 0, \"ticks\": \"\"}, \"type\": \"mesh3d\"}], \"parcoords\": [{\"line\": {\"colorbar\": {\"outlinewidth\": 0, \"ticks\": \"\"}}, \"type\": \"parcoords\"}], \"pie\": [{\"automargin\": true, \"type\": \"pie\"}], \"scatter\": [{\"marker\": {\"colorbar\": {\"outlinewidth\": 0, \"ticks\": \"\"}}, \"type\": \"scatter\"}], \"scatter3d\": [{\"line\": {\"colorbar\": {\"outlinewidth\": 0, \"ticks\": \"\"}}, \"marker\": {\"colorbar\": {\"outlinewidth\": 0, \"ticks\": \"\"}}, \"type\": \"scatter3d\"}], \"scattercarpet\": [{\"marker\": {\"colorbar\": {\"outlinewidth\": 0, \"ticks\": \"\"}}, \"type\": \"scattercarpet\"}], \"scattergeo\": [{\"marker\": {\"colorbar\": {\"outlinewidth\": 0, \"ticks\": \"\"}}, \"type\": \"scattergeo\"}], \"scattergl\": [{\"marker\": {\"colorbar\": {\"outlinewidth\": 0, \"ticks\": \"\"}}, \"type\": \"scattergl\"}], \"scattermapbox\": [{\"marker\": {\"colorbar\": {\"outlinewidth\": 0, \"ticks\": \"\"}}, \"type\": \"scattermapbox\"}], \"scatterpolar\": [{\"marker\": {\"colorbar\": {\"outlinewidth\": 0, \"ticks\": \"\"}}, \"type\": \"scatterpolar\"}], \"scatterpolargl\": [{\"marker\": {\"colorbar\": {\"outlinewidth\": 0, \"ticks\": \"\"}}, \"type\": \"scatterpolargl\"}], \"scatterternary\": [{\"marker\": {\"colorbar\": {\"outlinewidth\": 0, \"ticks\": \"\"}}, \"type\": \"scatterternary\"}], \"surface\": [{\"colorbar\": {\"outlinewidth\": 0, \"ticks\": \"\"}, \"colorscale\": [[0.0, \"#0d0887\"], [0.1111111111111111, \"#46039f\"], [0.2222222222222222, \"#7201a8\"], [0.3333333333333333, \"#9c179e\"], [0.4444444444444444, \"#bd3786\"], [0.5555555555555556, \"#d8576b\"], [0.6666666666666666, \"#ed7953\"], [0.7777777777777778, \"#fb9f3a\"], [0.8888888888888888, \"#fdca26\"], [1.0, \"#f0f921\"]], \"type\": \"surface\"}], \"table\": [{\"cells\": {\"fill\": {\"color\": \"#EBF0F8\"}, \"line\": {\"color\": \"white\"}}, \"header\": {\"fill\": {\"color\": \"#C8D4E3\"}, \"line\": {\"color\": \"white\"}}, \"type\": \"table\"}]}, \"layout\": {\"annotationdefaults\": {\"arrowcolor\": \"#2a3f5f\", \"arrowhead\": 0, \"arrowwidth\": 1}, \"coloraxis\": {\"colorbar\": {\"outlinewidth\": 0, \"ticks\": \"\"}}, \"colorscale\": {\"diverging\": [[0, \"#8e0152\"], [0.1, \"#c51b7d\"], [0.2, \"#de77ae\"], [0.3, \"#f1b6da\"], [0.4, \"#fde0ef\"], [0.5, \"#f7f7f7\"], [0.6, \"#e6f5d0\"], [0.7, \"#b8e186\"], [0.8, \"#7fbc41\"], [0.9, \"#4d9221\"], [1, \"#276419\"]], \"sequential\": [[0.0, \"#0d0887\"], [0.1111111111111111, \"#46039f\"], [0.2222222222222222, \"#7201a8\"], [0.3333333333333333, \"#9c179e\"], [0.4444444444444444, \"#bd3786\"], [0.5555555555555556, \"#d8576b\"], [0.6666666666666666, \"#ed7953\"], [0.7777777777777778, \"#fb9f3a\"], [0.8888888888888888, \"#fdca26\"], [1.0, \"#f0f921\"]], \"sequentialminus\": [[0.0, \"#0d0887\"], [0.1111111111111111, \"#46039f\"], [0.2222222222222222, \"#7201a8\"], [0.3333333333333333, \"#9c179e\"], [0.4444444444444444, \"#bd3786\"], [0.5555555555555556, \"#d8576b\"], [0.6666666666666666, \"#ed7953\"], [0.7777777777777778, \"#fb9f3a\"], [0.8888888888888888, \"#fdca26\"], [1.0, \"#f0f921\"]]}, \"colorway\": [\"#636efa\", \"#EF553B\", \"#00cc96\", \"#ab63fa\", \"#FFA15A\", \"#19d3f3\", \"#FF6692\", \"#B6E880\", \"#FF97FF\", \"#FECB52\"], \"font\": {\"color\": \"#2a3f5f\"}, \"geo\": {\"bgcolor\": \"white\", \"lakecolor\": \"white\", \"landcolor\": \"#E5ECF6\", \"showlakes\": true, \"showland\": true, \"subunitcolor\": \"white\"}, \"hoverlabel\": {\"align\": \"left\"}, \"hovermode\": \"closest\", \"mapbox\": {\"style\": \"light\"}, \"paper_bgcolor\": \"white\", \"plot_bgcolor\": \"#E5ECF6\", \"polar\": {\"angularaxis\": {\"gridcolor\": \"white\", \"linecolor\": \"white\", \"ticks\": \"\"}, \"bgcolor\": \"#E5ECF6\", \"radialaxis\": {\"gridcolor\": \"white\", \"linecolor\": \"white\", \"ticks\": \"\"}}, \"scene\": {\"xaxis\": {\"backgroundcolor\": \"#E5ECF6\", \"gridcolor\": \"white\", \"gridwidth\": 2, \"linecolor\": \"white\", \"showbackground\": true, \"ticks\": \"\", \"zerolinecolor\": \"white\"}, \"yaxis\": {\"backgroundcolor\": \"#E5ECF6\", \"gridcolor\": \"white\", \"gridwidth\": 2, \"linecolor\": \"white\", \"showbackground\": true, \"ticks\": \"\", \"zerolinecolor\": \"white\"}, \"zaxis\": {\"backgroundcolor\": \"#E5ECF6\", \"gridcolor\": \"white\", \"gridwidth\": 2, \"linecolor\": \"white\", \"showbackground\": true, \"ticks\": \"\", \"zerolinecolor\": \"white\"}}, \"shapedefaults\": {\"line\": {\"color\": \"#2a3f5f\"}}, \"ternary\": {\"aaxis\": {\"gridcolor\": \"white\", \"linecolor\": \"white\", \"ticks\": \"\"}, \"baxis\": {\"gridcolor\": \"white\", \"linecolor\": \"white\", \"ticks\": \"\"}, \"bgcolor\": \"#E5ECF6\", \"caxis\": {\"gridcolor\": \"white\", \"linecolor\": \"white\", \"ticks\": \"\"}}, \"title\": {\"x\": 0.05}, \"xaxis\": {\"automargin\": true, \"gridcolor\": \"white\", \"linecolor\": \"white\", \"ticks\": \"\", \"title\": {\"standoff\": 15}, \"zerolinecolor\": \"white\", \"zerolinewidth\": 2}, \"yaxis\": {\"automargin\": true, \"gridcolor\": \"white\", \"linecolor\": \"white\", \"ticks\": \"\", \"title\": {\"standoff\": 15}, \"zerolinecolor\": \"white\", \"zerolinewidth\": 2}}}, \"title\": {\"text\": \"Total Testing\"}, \"xaxis\": {\"anchor\": \"y\", \"domain\": [0.0, 1.0], \"title\": {\"text\": \"Collection Date\"}}, \"yaxis\": {\"anchor\": \"x\", \"domain\": [0.0, 1.0], \"title\": {\"text\": \"Count Total\"}}},\n",
              "                        {\"responsive\": true}\n",
              "                    ).then(function(){\n",
              "                            \n",
              "var gd = document.getElementById('c00683d3-c60a-440b-85f5-0584e5270bd7');\n",
              "var x = new MutationObserver(function (mutations, observer) {{\n",
              "        var display = window.getComputedStyle(gd).display;\n",
              "        if (!display || display === 'none') {{\n",
              "            console.log([gd, 'removed!']);\n",
              "            Plotly.purge(gd);\n",
              "            observer.disconnect();\n",
              "        }}\n",
              "}});\n",
              "\n",
              "// Listen for the removal of the full notebook cells\n",
              "var notebookContainer = gd.closest('#notebook-container');\n",
              "if (notebookContainer) {{\n",
              "    x.observe(notebookContainer, {childList: true});\n",
              "}}\n",
              "\n",
              "// Listen for the clearing of the current output cell\n",
              "var outputEl = gd.closest('.output');\n",
              "if (outputEl) {{\n",
              "    x.observe(outputEl, {childList: true});\n",
              "}}\n",
              "\n",
              "                        })\n",
              "                };\n",
              "                \n",
              "            </script>\n",
              "        </div>\n",
              "</body>\n",
              "</html>"
            ]
          },
          "metadata": {}
        }
      ]
    },
    {
      "cell_type": "markdown",
      "metadata": {
        "id": "VeCM_WVQ_Y-M"
      },
      "source": [
        "Now, we split the dataset into `df_collect_weekdays` (only for weekdays) and `df_collect_weekend` (only for weekend)."
      ]
    },
    {
      "cell_type": "code",
      "metadata": {
        "colab": {
          "base_uri": "https://localhost:8080/",
          "height": 314
        },
        "id": "XYaUxPi_nbpA",
        "outputId": "73adf411-2df3-421d-d0b8-d2da04db44ff"
      },
      "source": [
        "# Extracting days\n",
        "df_collect['days'] = df_collect['Collection Date'].dt.day_name()\n",
        "\n",
        "# Filtering data only for weekdays\n",
        "weekdays = ['Thursday', 'Friday', 'Monday', 'Tuesday', 'Wednesday']\n",
        "df_collect_weekdays = df_collect[df_collect[\"days\"].isin(weekdays)].reset_index(drop = True)\n",
        "\n",
        "# Removing outliers\n",
        "df_collect_weekdays = df_collect_weekdays[df_collect_weekdays['Positive Rate (%)'] < 33]\n",
        "\n",
        "# Display statistic table\n",
        "df_collect_weekdays.describe()"
      ],
      "execution_count": 34,
      "outputs": [
        {
          "output_type": "execute_result",
          "data": {
            "text/html": [
              "<div>\n",
              "<style scoped>\n",
              "    .dataframe tbody tr th:only-of-type {\n",
              "        vertical-align: middle;\n",
              "    }\n",
              "\n",
              "    .dataframe tbody tr th {\n",
              "        vertical-align: top;\n",
              "    }\n",
              "\n",
              "    .dataframe thead th {\n",
              "        text-align: right;\n",
              "    }\n",
              "</style>\n",
              "<table border=\"1\" class=\"dataframe\">\n",
              "  <thead>\n",
              "    <tr style=\"text-align: right;\">\n",
              "      <th></th>\n",
              "      <th>Count Collected Exposure</th>\n",
              "      <th>Count Collected Surveillance</th>\n",
              "      <th>Count Collected Symptoms</th>\n",
              "      <th>Count Total</th>\n",
              "      <th>Positive Total</th>\n",
              "      <th>Positive Rate (%)</th>\n",
              "      <th>Percentage Exposure</th>\n",
              "      <th>Percentage Surveillance</th>\n",
              "      <th>Percentage Symptoms</th>\n",
              "    </tr>\n",
              "  </thead>\n",
              "  <tbody>\n",
              "    <tr>\n",
              "      <th>count</th>\n",
              "      <td>44.000000</td>\n",
              "      <td>44.000000</td>\n",
              "      <td>44.000000</td>\n",
              "      <td>44.000000</td>\n",
              "      <td>44.000000</td>\n",
              "      <td>44.000000</td>\n",
              "      <td>44.000000</td>\n",
              "      <td>44.000000</td>\n",
              "      <td>44.000000</td>\n",
              "    </tr>\n",
              "    <tr>\n",
              "      <th>mean</th>\n",
              "      <td>65.068182</td>\n",
              "      <td>1845.613636</td>\n",
              "      <td>136.909091</td>\n",
              "      <td>2047.590909</td>\n",
              "      <td>8.318182</td>\n",
              "      <td>0.413167</td>\n",
              "      <td>3.198604</td>\n",
              "      <td>89.904325</td>\n",
              "      <td>6.897071</td>\n",
              "    </tr>\n",
              "    <tr>\n",
              "      <th>std</th>\n",
              "      <td>43.488784</td>\n",
              "      <td>558.625232</td>\n",
              "      <td>52.672228</td>\n",
              "      <td>574.643886</td>\n",
              "      <td>8.620615</td>\n",
              "      <td>0.427875</td>\n",
              "      <td>2.030771</td>\n",
              "      <td>3.913255</td>\n",
              "      <td>2.290511</td>\n",
              "    </tr>\n",
              "    <tr>\n",
              "      <th>min</th>\n",
              "      <td>12.000000</td>\n",
              "      <td>1112.000000</td>\n",
              "      <td>40.000000</td>\n",
              "      <td>1232.000000</td>\n",
              "      <td>0.000000</td>\n",
              "      <td>0.000000</td>\n",
              "      <td>0.562324</td>\n",
              "      <td>81.024447</td>\n",
              "      <td>1.233272</td>\n",
              "    </tr>\n",
              "    <tr>\n",
              "      <th>25%</th>\n",
              "      <td>28.750000</td>\n",
              "      <td>1524.750000</td>\n",
              "      <td>97.750000</td>\n",
              "      <td>1708.250000</td>\n",
              "      <td>2.000000</td>\n",
              "      <td>0.132370</td>\n",
              "      <td>1.411773</td>\n",
              "      <td>87.395373</td>\n",
              "      <td>5.831570</td>\n",
              "    </tr>\n",
              "    <tr>\n",
              "      <th>50%</th>\n",
              "      <td>53.500000</td>\n",
              "      <td>1759.000000</td>\n",
              "      <td>129.500000</td>\n",
              "      <td>1956.500000</td>\n",
              "      <td>6.500000</td>\n",
              "      <td>0.301608</td>\n",
              "      <td>2.829192</td>\n",
              "      <td>90.186437</td>\n",
              "      <td>7.252555</td>\n",
              "    </tr>\n",
              "    <tr>\n",
              "      <th>75%</th>\n",
              "      <td>89.000000</td>\n",
              "      <td>1990.750000</td>\n",
              "      <td>181.250000</td>\n",
              "      <td>2217.500000</td>\n",
              "      <td>10.000000</td>\n",
              "      <td>0.488443</td>\n",
              "      <td>4.274152</td>\n",
              "      <td>92.218197</td>\n",
              "      <td>8.256149</td>\n",
              "    </tr>\n",
              "    <tr>\n",
              "      <th>max</th>\n",
              "      <td>157.000000</td>\n",
              "      <td>3733.000000</td>\n",
              "      <td>246.000000</td>\n",
              "      <td>3834.000000</td>\n",
              "      <td>41.000000</td>\n",
              "      <td>2.205487</td>\n",
              "      <td>7.741560</td>\n",
              "      <td>97.953293</td>\n",
              "      <td>11.233993</td>\n",
              "    </tr>\n",
              "  </tbody>\n",
              "</table>\n",
              "</div>"
            ],
            "text/plain": [
              "       Count Collected Exposure  ...  Percentage Symptoms\n",
              "count                 44.000000  ...            44.000000\n",
              "mean                  65.068182  ...             6.897071\n",
              "std                   43.488784  ...             2.290511\n",
              "min                   12.000000  ...             1.233272\n",
              "25%                   28.750000  ...             5.831570\n",
              "50%                   53.500000  ...             7.252555\n",
              "75%                   89.000000  ...             8.256149\n",
              "max                  157.000000  ...            11.233993\n",
              "\n",
              "[8 rows x 9 columns]"
            ]
          },
          "metadata": {},
          "execution_count": 34
        }
      ]
    },
    {
      "cell_type": "code",
      "metadata": {
        "colab": {
          "base_uri": "https://localhost:8080/",
          "height": 314
        },
        "id": "jCWg6WezOJdq",
        "outputId": "8d5049c1-fcbc-4f06-9247-d52aa6901344"
      },
      "source": [
        "# Filtering data only for Saturday and Sunday\n",
        "df_collect_weekend = df_collect[(df_collect['days'] == 'Saturday')|(df_collect['days'] == 'Sunday')]\\\n",
        ".reset_index(drop = True)\n",
        "\n",
        "# Filtering data only for date after fall semester class began\n",
        "df_collect_weekend = df_collect_weekend.tail(16)\n",
        "\n",
        "# Display statistic table\n",
        "df_collect_weekend.describe()"
      ],
      "execution_count": 35,
      "outputs": [
        {
          "output_type": "execute_result",
          "data": {
            "text/html": [
              "<div>\n",
              "<style scoped>\n",
              "    .dataframe tbody tr th:only-of-type {\n",
              "        vertical-align: middle;\n",
              "    }\n",
              "\n",
              "    .dataframe tbody tr th {\n",
              "        vertical-align: top;\n",
              "    }\n",
              "\n",
              "    .dataframe thead th {\n",
              "        text-align: right;\n",
              "    }\n",
              "</style>\n",
              "<table border=\"1\" class=\"dataframe\">\n",
              "  <thead>\n",
              "    <tr style=\"text-align: right;\">\n",
              "      <th></th>\n",
              "      <th>Count Collected Exposure</th>\n",
              "      <th>Count Collected Surveillance</th>\n",
              "      <th>Count Collected Symptoms</th>\n",
              "      <th>Count Total</th>\n",
              "      <th>Positive Total</th>\n",
              "      <th>Positive Rate (%)</th>\n",
              "      <th>Percentage Exposure</th>\n",
              "      <th>Percentage Surveillance</th>\n",
              "      <th>Percentage Symptoms</th>\n",
              "    </tr>\n",
              "  </thead>\n",
              "  <tbody>\n",
              "    <tr>\n",
              "      <th>count</th>\n",
              "      <td>16.000000</td>\n",
              "      <td>16.0</td>\n",
              "      <td>16.000000</td>\n",
              "      <td>16.000000</td>\n",
              "      <td>16.000000</td>\n",
              "      <td>16.000000</td>\n",
              "      <td>16.000000</td>\n",
              "      <td>16.0</td>\n",
              "      <td>16.000000</td>\n",
              "    </tr>\n",
              "    <tr>\n",
              "      <th>mean</th>\n",
              "      <td>32.437500</td>\n",
              "      <td>0.0</td>\n",
              "      <td>56.312500</td>\n",
              "      <td>88.750000</td>\n",
              "      <td>1.187500</td>\n",
              "      <td>1.097741</td>\n",
              "      <td>31.527318</td>\n",
              "      <td>0.0</td>\n",
              "      <td>68.472682</td>\n",
              "    </tr>\n",
              "    <tr>\n",
              "      <th>std</th>\n",
              "      <td>27.823177</td>\n",
              "      <td>0.0</td>\n",
              "      <td>27.062197</td>\n",
              "      <td>51.944201</td>\n",
              "      <td>1.376893</td>\n",
              "      <td>1.024466</td>\n",
              "      <td>11.408405</td>\n",
              "      <td>0.0</td>\n",
              "      <td>11.408405</td>\n",
              "    </tr>\n",
              "    <tr>\n",
              "      <th>min</th>\n",
              "      <td>4.000000</td>\n",
              "      <td>0.0</td>\n",
              "      <td>21.000000</td>\n",
              "      <td>25.000000</td>\n",
              "      <td>0.000000</td>\n",
              "      <td>0.000000</td>\n",
              "      <td>16.000000</td>\n",
              "      <td>0.0</td>\n",
              "      <td>50.746269</td>\n",
              "    </tr>\n",
              "    <tr>\n",
              "      <th>25%</th>\n",
              "      <td>11.500000</td>\n",
              "      <td>0.0</td>\n",
              "      <td>31.000000</td>\n",
              "      <td>42.750000</td>\n",
              "      <td>0.000000</td>\n",
              "      <td>0.000000</td>\n",
              "      <td>23.373984</td>\n",
              "      <td>0.0</td>\n",
              "      <td>55.483871</td>\n",
              "    </tr>\n",
              "    <tr>\n",
              "      <th>50%</th>\n",
              "      <td>20.500000</td>\n",
              "      <td>0.0</td>\n",
              "      <td>56.500000</td>\n",
              "      <td>80.500000</td>\n",
              "      <td>1.000000</td>\n",
              "      <td>1.113497</td>\n",
              "      <td>28.239203</td>\n",
              "      <td>0.0</td>\n",
              "      <td>71.760797</td>\n",
              "    </tr>\n",
              "    <tr>\n",
              "      <th>75%</th>\n",
              "      <td>57.000000</td>\n",
              "      <td>0.0</td>\n",
              "      <td>78.000000</td>\n",
              "      <td>126.500000</td>\n",
              "      <td>2.000000</td>\n",
              "      <td>1.810904</td>\n",
              "      <td>44.516129</td>\n",
              "      <td>0.0</td>\n",
              "      <td>76.626016</td>\n",
              "    </tr>\n",
              "    <tr>\n",
              "      <th>max</th>\n",
              "      <td>88.000000</td>\n",
              "      <td>0.0</td>\n",
              "      <td>98.000000</td>\n",
              "      <td>183.000000</td>\n",
              "      <td>5.000000</td>\n",
              "      <td>2.732240</td>\n",
              "      <td>49.253731</td>\n",
              "      <td>0.0</td>\n",
              "      <td>84.000000</td>\n",
              "    </tr>\n",
              "  </tbody>\n",
              "</table>\n",
              "</div>"
            ],
            "text/plain": [
              "       Count Collected Exposure  ...  Percentage Symptoms\n",
              "count                 16.000000  ...            16.000000\n",
              "mean                  32.437500  ...            68.472682\n",
              "std                   27.823177  ...            11.408405\n",
              "min                    4.000000  ...            50.746269\n",
              "25%                   11.500000  ...            55.483871\n",
              "50%                   20.500000  ...            71.760797\n",
              "75%                   57.000000  ...            76.626016\n",
              "max                   88.000000  ...            84.000000\n",
              "\n",
              "[8 rows x 9 columns]"
            ]
          },
          "metadata": {},
          "execution_count": 35
        }
      ]
    },
    {
      "cell_type": "markdown",
      "metadata": {
        "id": "_LUjpLC3CpN-"
      },
      "source": [
        "## **Modelling distribution of Positive Rate**"
      ]
    },
    {
      "cell_type": "markdown",
      "metadata": {
        "id": "Fx9-QT8UM_at"
      },
      "source": [
        "In this section, we want to predict the distribution of Positive rate using Q-Q plot for weekdays and weekend. The distribution of Positive Rate then will be used in the next section."
      ]
    },
    {
      "cell_type": "code",
      "metadata": {
        "id": "mJgR_9jvC0F9"
      },
      "source": [
        "from scipy.stats import norm\n",
        "from scipy.stats import expon\n",
        "import pdb\n",
        "def predict_weekdays_distribution(df,series):\n",
        "  '''\n",
        "  Predict weekdays distribution of df series\n",
        "  '''\n",
        "    \n",
        "  # Extract column only for that series\n",
        "  #pdb.set_trace()\n",
        "  df = df.loc[:,series]\n",
        "\n",
        "  # Sort the df_arr\n",
        "  sample_quantities = np.sort(df)\n",
        "\n",
        "\n",
        "  # Extract the mean of the series\n",
        "  mean = df.describe()[1]\n",
        "  std = df.describe()[2]\n",
        "\n",
        "  # Computing ppf expon with extracted mean\n",
        "  # ppf_fun = lambda x: norm.ppf(x, loc = mean, scale = std)\n",
        "  ppf_fun = lambda x: expon.ppf(x, loc = mean-0.5, scale = std+0.05)\n",
        "\n",
        "  # Computing percent\n",
        "  n = len(sample_quantities)\n",
        "  percent = np.array([i / (n+1) for i in range(1,n+1)])\n",
        "\n",
        "  # Computing theoritical quantiles\n",
        "  theoretical_quantiles = ppf_fun(percent)\n",
        "\n",
        "  return theoretical_quantiles, sample_quantities\n",
        "\n",
        "from scipy.stats import norm\n",
        "\n",
        "def predict_weekend_distribution(df,series):\n",
        "  '''\n",
        "  Predict distribution of df series\n",
        "  '''\n",
        "  # Extract column only for that hour\n",
        "  df = df.loc[:,series]\n",
        "\n",
        "  # Sort the df_arr\n",
        "  sample_quantities = np.sort(df)\n",
        "\n",
        "  # Extract the mean of the series\n",
        "  mean = df.describe()[1]\n",
        "  std = df.describe()[2]\n",
        "\n",
        "  # Computing ppf normal with extracted mean and std\n",
        "  ppf_fun = lambda x: norm.ppf(x, loc = mean, scale = std)\n",
        "  #ppf_fun = lambda x: expon.ppf(x, loc = mean-0.5, scale = std+0.05)\n",
        "\n",
        "  # Computing percent\n",
        "  n = len(sample_quantities)\n",
        "  percent = np.array([i / (n+1) for i in range(1,n+1)])\n",
        "\n",
        "  # Computing theoritical quantiles\n",
        "  theoretical_quantiles = ppf_fun(percent)\n",
        "  \n",
        "  return theoretical_quantiles, sample_quantities"
      ],
      "execution_count": 36,
      "outputs": []
    },
    {
      "cell_type": "code",
      "metadata": {
        "id": "qYZr7ZwSD0_t"
      },
      "source": [
        "# Predict distribution weekdays\n",
        "\n",
        "theoretical_quantiles_1, sample_quantiles_1  = predict_weekdays_distribution(df_collect_weekdays,'Positive Rate (%)')"
      ],
      "execution_count": 37,
      "outputs": []
    },
    {
      "cell_type": "code",
      "metadata": {
        "colab": {
          "base_uri": "https://localhost:8080/",
          "height": 295
        },
        "id": "z2dMCXQ8FW9N",
        "outputId": "9a45a89e-9fe4-4aac-d88e-d07876065d23"
      },
      "source": [
        "# Plotting Q-Q plot for Positive Rate (%)\n",
        "\n",
        "plt.scatter(theoretical_quantiles_1,sample_quantiles_1, s= 5)\n",
        "min_value = min(np.min(theoretical_quantiles_1), np.min(sample_quantiles_1))\n",
        "max_value = max(np.max(theoretical_quantiles_1), np.max(sample_quantiles_1))\n",
        "plt.xlim(min_value, max_value)\n",
        "plt.ylim(min_value, max_value)\n",
        "plt.plot([min_value, max_value], [min_value, max_value], c='k', alpha=0.5)\n",
        "plt.title('Q-Q plot for Positive Rate (%)')\n",
        "\n",
        "# Labelling x-axis and y-axis\n",
        "\n",
        "plt.xlabel('theoretical quantiles')\n",
        "plt.ylabel('sample_quantiles');"
      ],
      "execution_count": 38,
      "outputs": [
        {
          "output_type": "display_data",
          "data": {
            "image/png": "[encoded data removed]",
            "text/plain": [
              "<Figure size 432x288 with 1 Axes>"
            ]
          },
          "metadata": {
            "needs_background": "light"
          }
        }
      ]
    },
    {
      "cell_type": "markdown",
      "metadata": {
        "id": "-7TXjRlR5QYx"
      },
      "source": [
        "Distribution weekdays:\n",
        "- Positive Rate (%): expon.ppf(x, loc = mean-0.5, scale = std+0.05)\n"
      ]
    },
    {
      "cell_type": "code",
      "metadata": {
        "id": "5Dq-FwQ8H-d0"
      },
      "source": [
        "# Predict distribution weekend\n",
        "\n",
        "theoretical_quantiles_1, sample_quantiles_1  = predict_weekend_distribution(df_collect_weekend,'Positive Rate (%)')"
      ],
      "execution_count": 39,
      "outputs": []
    },
    {
      "cell_type": "code",
      "metadata": {
        "colab": {
          "base_uri": "https://localhost:8080/",
          "height": 295
        },
        "id": "Yo0YLV-7IHbM",
        "outputId": "cb3f2f1e-8229-4bf2-94ef-c59dbdf742c0"
      },
      "source": [
        "# Plotting Q-Q plot for Positive Rate (%)\n",
        "\n",
        "plt.scatter(theoretical_quantiles_1,sample_quantiles_1, s= 5)\n",
        "min_value = min(np.min(theoretical_quantiles_1), np.min(sample_quantiles_1))\n",
        "max_value = max(np.max(theoretical_quantiles_1), np.max(sample_quantiles_1))\n",
        "plt.xlim(min_value, max_value)\n",
        "plt.ylim(min_value, max_value)\n",
        "plt.plot([min_value, max_value], [min_value, max_value], c='k', alpha=0.5)\n",
        "plt.title('Q-Q plot for Positive Rate (%)')\n",
        "\n",
        "# Labelling x-axis and y-axis\n",
        "\n",
        "plt.xlabel('theoretical quantiles')\n",
        "plt.ylabel('sample_quantiles');"
      ],
      "execution_count": 40,
      "outputs": [
        {
          "output_type": "display_data",
          "data": {
            "image/png": "[encoded data removed]",
            "text/plain": [
              "<Figure size 432x288 with 1 Axes>"
            ]
          },
          "metadata": {
            "needs_background": "light"
          }
        }
      ]
    },
    {
      "cell_type": "markdown",
      "metadata": {
        "id": "8FP6ZrsB5rxl"
      },
      "source": [
        "Distribution of weekdays:\n",
        "- Assume Posiive Rate have normal distribution with mean and std. Not enough data to deduce much from the Q-Q plot. "
      ]
    },
    {
      "cell_type": "markdown",
      "metadata": {
        "id": "E3fvER6wCvES"
      },
      "source": [
        "## **Predict using posterior distribution**"
      ]
    },
    {
      "cell_type": "markdown",
      "metadata": {
        "id": "Uq7JpkAAXDr5"
      },
      "source": [
        "Now, to predict the number of people who will get tested, we will use the positive rate and the number of people in the future who are tested positive. In other words,\n",
        "$$\\textrm{# Tested Positive} = \\textrm{# Number of test} \\cdot \\textrm{Positive Rate (%)}$$\n",
        "\\\n",
        "$$\\textrm{# Number of test Future} =  \\frac{\\textrm{# Tested Positive Future}}{\\textrm{Positive Rate Future(%)}} $$\n"
      ]
    },
    {
      "cell_type": "markdown",
      "metadata": {
        "id": "zVD_hJiyCaAO"
      },
      "source": [
        "In the code below, we apply the distribution of the Positive Rate (%) from the previous section."
      ]
    },
    {
      "cell_type": "code",
      "metadata": {
        "id": "bF79_0MDUdBJ",
        "colab": {
          "base_uri": "https://localhost:8080/"
        },
        "outputId": "8a0e7ab2-47a2-4627-92b9-b912154552a5"
      },
      "source": [
        "np.random.seed(seed = 88) # For reproducibility purposes\n",
        "\n",
        "# Predicting percentage number of people who are tested positive\n",
        "# Until December 31,2021\n",
        "mean_weekday = df_collect_weekdays['Positive Rate (%)'].describe()[1]\n",
        "std_weekday = df_collect_weekdays['Positive Rate (%)'].describe()[2]\n",
        "mean_weekend = df_collect_weekend['Positive Rate (%)'].describe()[1]\n",
        "std_weekend = df_collect_weekend['Positive Rate (%)'].describe()[2]\n",
        "\n",
        "# Initiating list \n",
        "df_case_forecast['days'] = df_case_forecast['Result Date'].dt.day_name()\n",
        "weekdays = ['Thursday', 'Friday', 'Monday', 'Tuesday', 'Wednesday']\n",
        "weekend = ['Saturday','Sunday']\n",
        "future_percentage_positive = []\n",
        "\n",
        "# Sample positive rate using uniform distribution according to day\n",
        "for day in df_case_forecast['days']:\n",
        "  # Max is the maximum number from statistic table\n",
        "  if day in weekdays:\n",
        "    f_percent = min(max(expon.rvs(loc = mean_weekday, scale = std_weekday),0),2.205487)\n",
        "    future_percentage_positive.append(f_percent)\n",
        "  if day in weekend:\n",
        "    f_percent = min(max(np.random.normal(loc = mean_weekend, scale = std_weekend),0),2.732240)\n",
        "    future_percentage_positive.append(f_percent)    \n",
        "\n",
        "# Predicting number of people tested \n",
        "count_total_list = []\n",
        "i = 0\n",
        "for day in df_case_forecast['days']:\n",
        "  if day in weekdays:\n",
        "    count_total = df_case_forecast['Total'][i]/future_percentage_positive[i] * 100\n",
        "    count_total = np.round(count_total)\n",
        "    count_total_list.append(count_total)\n",
        "    i += 1\n",
        "    continue\n",
        "  # Restricting count_total_list to only 25 min and 180 max for Saturday and Sunday\n",
        "  if day in weekend:\n",
        "    count_total = df_case_forecast['Total'][i]/future_percentage_positive[i] * 100\n",
        "    count_total = np.round(count_total)\n",
        "    count_total_list.append(count_total)\n",
        "    i += 1\n",
        "    continue\n",
        "  \n",
        "# Replace nan and inf with zero\n",
        "\n",
        "count_total_list = np.nan_to_num(count_total_list, posinf = 0)\n",
        "count_total_list = np.where(count_total_list > 10000,750,count_total_list)"
      ],
      "execution_count": 41,
      "outputs": [
        {
          "output_type": "stream",
          "name": "stderr",
          "text": [
            "/usr/local/lib/python3.7/dist-packages/ipykernel_launcher.py:38: RuntimeWarning:\n",
            "\n",
            "divide by zero encountered in double_scalars\n",
            "\n",
            "/usr/local/lib/python3.7/dist-packages/ipykernel_launcher.py:38: RuntimeWarning:\n",
            "\n",
            "invalid value encountered in double_scalars\n",
            "\n"
          ]
        }
      ]
    },
    {
      "cell_type": "markdown",
      "metadata": {
        "id": "BlAcoypirc7b"
      },
      "source": [
        "Now, let us compute the number of people for each test for each day using the percentages that we already define."
      ]
    },
    {
      "cell_type": "code",
      "metadata": {
        "colab": {
          "base_uri": "https://localhost:8080/"
        },
        "id": "RAZRktFsYPz3",
        "outputId": "b6cee262-2d8c-4e06-cb03-9aa828d09251"
      },
      "source": [
        "# Defining parameters\n",
        "percent_surv_weekdays = 90 / 100\n",
        "percent_sym_weekdays = 7 / 100\n",
        "percent_exp_weekdays = 3 / 100\n",
        "percent_surv_weekend = 0\n",
        "percent_sym_weekend = 72 / 100\n",
        "percent_exp_weekend = 28 /100\n",
        "\n",
        "# Initiating list\n",
        "count_surv_list = []\n",
        "count_exp_list = []\n",
        "count_sym_list = []\n",
        "d = 0\n",
        "\n",
        "# Computing number of people for each test for each day\n",
        "for day in df_case_forecast['days']:\n",
        "  if day in weekend: # in weekend\n",
        "    # Surveillance\n",
        "    count_surv = count_total_list[d] * percent_surv_weekend\n",
        "    count_surv_list.append(count_surv)\n",
        "    # Symptoms\n",
        "    count_sym = count_total_list[d] * percent_sym_weekend\n",
        "    count_sym_list.append(count_sym)\n",
        "    # Exposure\n",
        "    count_exp = count_total_list[d] * percent_exp_weekend\n",
        "    count_exp_list.append(count_exp)\n",
        "    # Next day\n",
        "    d += 1\n",
        "    continue\n",
        "  if day in weekdays: # in weekdays\n",
        "    # Surveillance\n",
        "    count_surv = count_total_list[d] * percent_surv_weekdays\n",
        "    count_surv_list.append(count_surv)\n",
        "    # Symptoms\n",
        "    count_sym = count_total_list[d] * percent_sym_weekdays\n",
        "    count_sym_list.append(count_sym)\n",
        "    # Exposure\n",
        "    count_exp = count_total_list[d] * percent_exp_weekdays\n",
        "    count_exp_list.append(count_exp)\n",
        "    # Next day\n",
        "    d += 1\n",
        "    continue\n",
        "\n",
        "#-----------\n",
        "# Finish loop\n",
        "#-----------\n",
        "\n",
        "# Round result\n",
        "count_surv_list = np.round(count_surv_list)\n",
        "count_sym_list = np.round(count_sym_list)\n",
        "count_exp_list = np.round(count_exp_list)\n",
        "\n",
        "# After rounding, making the data consistent by adding or substracting count_surv_list\n",
        "for i in range(len(count_total_list)):\n",
        "  if count_total_list[i] == count_surv_list[i] + count_sym_list[i] + count_exp_list[i]:\n",
        "    continue\n",
        "  if count_total_list[i] < count_surv_list[i] + count_sym_list[i] + count_exp_list[i]:\n",
        "    while count_total_list[i] < count_surv_list[i] + count_sym_list[i] + count_exp_list[i]:\n",
        "      count_surv_list[i] = count_surv_list[i] - 1\n",
        "  if count_total_list[i] > count_surv_list[i] + count_sym_list[i] + count_exp_list[i]:\n",
        "    while count_total_list[i] > count_surv_list[i] + count_sym_list[i] + count_exp_list[i]:\n",
        "      count_surv_list[i] = count_surv_list[i] + 1\n",
        "\n",
        "# Check if each value after rounding match with the total\n",
        "print(\"Round Match: \", all(count_total_list == count_surv_list + count_sym_list + count_exp_list))"
      ],
      "execution_count": 42,
      "outputs": [
        {
          "output_type": "stream",
          "name": "stdout",
          "text": [
            "Round Match:  True\n"
          ]
        }
      ]
    },
    {
      "cell_type": "markdown",
      "metadata": {
        "id": "qbwj7G6Qo8SJ"
      },
      "source": [
        "We make a forecast Dataframe, then we concatenate the real DataFrame with forecast DataFrame."
      ]
    },
    {
      "cell_type": "code",
      "metadata": {
        "colab": {
          "base_uri": "https://localhost:8080/",
          "height": 425
        },
        "id": "cPe9c_xDh1Lr",
        "outputId": "f1042e30-0414-4182-c55d-f51bab58cc7b"
      },
      "source": [
        "# Make a forecast DataFrame\n",
        "\n",
        "positive_rate_list = future_percentage_positive\n",
        "percent_exp_list = np.multiply(count_exp_list/count_total_list , 100)\n",
        "percent_surv_list = np.multiply(count_surv_list/count_total_list , 100)\n",
        "percent_sym_list = np.multiply(count_sym_list/count_total_list , 100)\n",
        "\n",
        "d_forecast = {'Collection Date':df_case_forecast['Result Date'],\n",
        "              'Count Collected Exposure':count_exp_list,\n",
        "              'Count Collected Surveillance':count_surv_list,\n",
        "              'Count Collected Symptoms':count_sym_list,\n",
        "              'Count Total':count_total_list,\n",
        "              'Positive Total':df_case_forecast['Total'],\n",
        "              'Positive Rate (%)':positive_rate_list,\n",
        "              'Percentage Exposure':percent_exp_list,\n",
        "              'Percentage Surveillance':percent_surv_list,\n",
        "              'Percentage Symptoms': percent_sym_list\n",
        "              }\n",
        "\n",
        "df_collect_forecast = pd.DataFrame(data = d_forecast )\n",
        "df_collect_forecast.head()"
      ],
      "execution_count": 43,
      "outputs": [
        {
          "output_type": "stream",
          "name": "stderr",
          "text": [
            "/usr/local/lib/python3.7/dist-packages/ipykernel_launcher.py:4: RuntimeWarning:\n",
            "\n",
            "invalid value encountered in true_divide\n",
            "\n",
            "/usr/local/lib/python3.7/dist-packages/ipykernel_launcher.py:5: RuntimeWarning:\n",
            "\n",
            "invalid value encountered in true_divide\n",
            "\n",
            "/usr/local/lib/python3.7/dist-packages/ipykernel_launcher.py:6: RuntimeWarning:\n",
            "\n",
            "invalid value encountered in true_divide\n",
            "\n"
          ]
        },
        {
          "output_type": "execute_result",
          "data": {
            "text/html": [
              "<div>\n",
              "<style scoped>\n",
              "    .dataframe tbody tr th:only-of-type {\n",
              "        vertical-align: middle;\n",
              "    }\n",
              "\n",
              "    .dataframe tbody tr th {\n",
              "        vertical-align: top;\n",
              "    }\n",
              "\n",
              "    .dataframe thead th {\n",
              "        text-align: right;\n",
              "    }\n",
              "</style>\n",
              "<table border=\"1\" class=\"dataframe\">\n",
              "  <thead>\n",
              "    <tr style=\"text-align: right;\">\n",
              "      <th></th>\n",
              "      <th>Collection Date</th>\n",
              "      <th>Count Collected Exposure</th>\n",
              "      <th>Count Collected Surveillance</th>\n",
              "      <th>Count Collected Symptoms</th>\n",
              "      <th>Count Total</th>\n",
              "      <th>Positive Total</th>\n",
              "      <th>Positive Rate (%)</th>\n",
              "      <th>Percentage Exposure</th>\n",
              "      <th>Percentage Surveillance</th>\n",
              "      <th>Percentage Symptoms</th>\n",
              "    </tr>\n",
              "  </thead>\n",
              "  <tbody>\n",
              "    <tr>\n",
              "      <th>0</th>\n",
              "      <td>2021-10-21</td>\n",
              "      <td>17.0</td>\n",
              "      <td>524.0</td>\n",
              "      <td>41.0</td>\n",
              "      <td>582.0</td>\n",
              "      <td>5</td>\n",
              "      <td>0.859377</td>\n",
              "      <td>2.920962</td>\n",
              "      <td>90.034364</td>\n",
              "      <td>7.044674</td>\n",
              "    </tr>\n",
              "    <tr>\n",
              "      <th>1</th>\n",
              "      <td>2021-10-22</td>\n",
              "      <td>17.0</td>\n",
              "      <td>503.0</td>\n",
              "      <td>39.0</td>\n",
              "      <td>559.0</td>\n",
              "      <td>4</td>\n",
              "      <td>0.715910</td>\n",
              "      <td>3.041145</td>\n",
              "      <td>89.982111</td>\n",
              "      <td>6.976744</td>\n",
              "    </tr>\n",
              "    <tr>\n",
              "      <th>2</th>\n",
              "      <td>2021-10-23</td>\n",
              "      <td>40.0</td>\n",
              "      <td>0.0</td>\n",
              "      <td>104.0</td>\n",
              "      <td>144.0</td>\n",
              "      <td>3</td>\n",
              "      <td>2.077707</td>\n",
              "      <td>27.777778</td>\n",
              "      <td>0.000000</td>\n",
              "      <td>72.222222</td>\n",
              "    </tr>\n",
              "    <tr>\n",
              "      <th>3</th>\n",
              "      <td>2021-10-24</td>\n",
              "      <td>72.0</td>\n",
              "      <td>0.0</td>\n",
              "      <td>185.0</td>\n",
              "      <td>257.0</td>\n",
              "      <td>3</td>\n",
              "      <td>1.167826</td>\n",
              "      <td>28.015564</td>\n",
              "      <td>0.000000</td>\n",
              "      <td>71.984436</td>\n",
              "    </tr>\n",
              "    <tr>\n",
              "      <th>4</th>\n",
              "      <td>2021-10-25</td>\n",
              "      <td>10.0</td>\n",
              "      <td>290.0</td>\n",
              "      <td>23.0</td>\n",
              "      <td>323.0</td>\n",
              "      <td>3</td>\n",
              "      <td>0.928305</td>\n",
              "      <td>3.095975</td>\n",
              "      <td>89.783282</td>\n",
              "      <td>7.120743</td>\n",
              "    </tr>\n",
              "  </tbody>\n",
              "</table>\n",
              "</div>"
            ],
            "text/plain": [
              "  Collection Date  ...  Percentage Symptoms\n",
              "0      2021-10-21  ...             7.044674\n",
              "1      2021-10-22  ...             6.976744\n",
              "2      2021-10-23  ...            72.222222\n",
              "3      2021-10-24  ...            71.984436\n",
              "4      2021-10-25  ...             7.120743\n",
              "\n",
              "[5 rows x 10 columns]"
            ]
          },
          "metadata": {},
          "execution_count": 43
        }
      ]
    },
    {
      "cell_type": "code",
      "metadata": {
        "colab": {
          "base_uri": "https://localhost:8080/",
          "height": 221
        },
        "id": "lAnnNtdUl6QY",
        "outputId": "0180eab8-23d6-4268-f9d4-081982019493"
      },
      "source": [
        "# Concat real dataframe with forecast dataframe\n",
        "\n",
        "df_collect_fall = pd.concat([df_collect,df_collect_forecast]).reset_index(drop=True)\n",
        "df_collect_fall['days'] = df_collect_fall['Collection Date'].dt.day_name()\n",
        "df_collect_fall.head()"
      ],
      "execution_count": 44,
      "outputs": [
        {
          "output_type": "execute_result",
          "data": {
            "text/html": [
              "<div>\n",
              "<style scoped>\n",
              "    .dataframe tbody tr th:only-of-type {\n",
              "        vertical-align: middle;\n",
              "    }\n",
              "\n",
              "    .dataframe tbody tr th {\n",
              "        vertical-align: top;\n",
              "    }\n",
              "\n",
              "    .dataframe thead th {\n",
              "        text-align: right;\n",
              "    }\n",
              "</style>\n",
              "<table border=\"1\" class=\"dataframe\">\n",
              "  <thead>\n",
              "    <tr style=\"text-align: right;\">\n",
              "      <th></th>\n",
              "      <th>Collection Date</th>\n",
              "      <th>Count Collected Exposure</th>\n",
              "      <th>Count Collected Surveillance</th>\n",
              "      <th>Count Collected Symptoms</th>\n",
              "      <th>Count Total</th>\n",
              "      <th>Positive Total</th>\n",
              "      <th>Positive Rate (%)</th>\n",
              "      <th>Percentage Exposure</th>\n",
              "      <th>Percentage Surveillance</th>\n",
              "      <th>Percentage Symptoms</th>\n",
              "      <th>days</th>\n",
              "    </tr>\n",
              "  </thead>\n",
              "  <tbody>\n",
              "    <tr>\n",
              "      <th>0</th>\n",
              "      <td>2021-08-18</td>\n",
              "      <td>31.0</td>\n",
              "      <td>3733.0</td>\n",
              "      <td>47.0</td>\n",
              "      <td>3811.0</td>\n",
              "      <td>10</td>\n",
              "      <td>0.262398</td>\n",
              "      <td>0.813435</td>\n",
              "      <td>97.953293</td>\n",
              "      <td>1.233272</td>\n",
              "      <td>Wednesday</td>\n",
              "    </tr>\n",
              "    <tr>\n",
              "      <th>1</th>\n",
              "      <td>2021-08-19</td>\n",
              "      <td>19.0</td>\n",
              "      <td>1661.0</td>\n",
              "      <td>40.0</td>\n",
              "      <td>1720.0</td>\n",
              "      <td>9</td>\n",
              "      <td>0.523256</td>\n",
              "      <td>1.104651</td>\n",
              "      <td>96.569767</td>\n",
              "      <td>2.325581</td>\n",
              "      <td>Thursday</td>\n",
              "    </tr>\n",
              "    <tr>\n",
              "      <th>2</th>\n",
              "      <td>2021-08-20</td>\n",
              "      <td>40.0</td>\n",
              "      <td>1796.0</td>\n",
              "      <td>49.0</td>\n",
              "      <td>1885.0</td>\n",
              "      <td>11</td>\n",
              "      <td>0.583554</td>\n",
              "      <td>2.122016</td>\n",
              "      <td>95.278515</td>\n",
              "      <td>2.599469</td>\n",
              "      <td>Friday</td>\n",
              "    </tr>\n",
              "    <tr>\n",
              "      <th>3</th>\n",
              "      <td>2021-08-21</td>\n",
              "      <td>2.0</td>\n",
              "      <td>640.0</td>\n",
              "      <td>22.0</td>\n",
              "      <td>664.0</td>\n",
              "      <td>7</td>\n",
              "      <td>1.054217</td>\n",
              "      <td>0.301205</td>\n",
              "      <td>96.385542</td>\n",
              "      <td>3.313253</td>\n",
              "      <td>Saturday</td>\n",
              "    </tr>\n",
              "    <tr>\n",
              "      <th>4</th>\n",
              "      <td>2021-08-22</td>\n",
              "      <td>5.0</td>\n",
              "      <td>1407.0</td>\n",
              "      <td>41.0</td>\n",
              "      <td>1453.0</td>\n",
              "      <td>9</td>\n",
              "      <td>0.619408</td>\n",
              "      <td>0.344116</td>\n",
              "      <td>96.834136</td>\n",
              "      <td>2.821748</td>\n",
              "      <td>Sunday</td>\n",
              "    </tr>\n",
              "  </tbody>\n",
              "</table>\n",
              "</div>"
            ],
            "text/plain": [
              "  Collection Date  Count Collected Exposure  ...  Percentage Symptoms       days\n",
              "0      2021-08-18                      31.0  ...             1.233272  Wednesday\n",
              "1      2021-08-19                      19.0  ...             2.325581   Thursday\n",
              "2      2021-08-20                      40.0  ...             2.599469     Friday\n",
              "3      2021-08-21                       2.0  ...             3.313253   Saturday\n",
              "4      2021-08-22                       5.0  ...             2.821748     Sunday\n",
              "\n",
              "[5 rows x 11 columns]"
            ]
          },
          "metadata": {},
          "execution_count": 44
        }
      ]
    },
    {
      "cell_type": "markdown",
      "metadata": {
        "id": "qYluMAaq9Kxs"
      },
      "source": [
        "Now, we want to concatenate the data for after the fall class semester begin with the remaining data."
      ]
    },
    {
      "cell_type": "code",
      "metadata": {
        "colab": {
          "base_uri": "https://localhost:8080/",
          "height": 436
        },
        "id": "Bvr1qKjO9T6a",
        "outputId": "85a498d0-b88a-4e39-83f6-86ec53962cf0"
      },
      "source": [
        "# Combine all three datas\n",
        "df_collect = pd.concat([df_collect_exp,df_collect_surv,df_collect_sym],axis = 1)\n",
        "\n",
        "# Remove duplicate column name and some data cleaning\n",
        "df_collect = df_collect.iloc[:,~df_collect.columns.duplicated()]\n",
        "df_collect = df_collect[df_collect['Patient Type'] == 'Total']\n",
        "df_collect = df_collect[['Collection Date','Count Collected Exposure',\n",
        "                         'Count Collected Surveillance','Count Collected Symptoms']]\n",
        "df_collect = df_collect[(df_collect['Collection Date'] >= \"2021-01-05\") & (df_collect['Collection Date'] < \"2021-08-18\")] \n",
        "df_collect = df_collect.reset_index().drop(columns = ['index'])\n",
        "\n",
        "# Computing the total of people tested in all locations\n",
        "df_collect['Count Total'] = df_collect['Count Collected Exposure'] + \\\n",
        "df_collect['Count Collected Surveillance'] + df_collect['Count Collected Symptoms']\n",
        "\n",
        "# Concat df_collect with df_case_total\n",
        "df_collect = df_collect.merge(df_case_total, how = \"inner\",left_on = \"Collection Date\", right_on = \"Result Date\")\\\n",
        ".rename(columns= {'Total':'Positive Total'})\n",
        "df_collect = df_collect.drop(columns = ['Result Date'])\n",
        "\n",
        "# Calculate percentages\n",
        "df_collect['Positive Rate (%)'] = df_collect['Positive Total']/df_collect['Count Total'] * 100\n",
        "df_collect['Percentage Exposure'] = df_collect['Count Collected Exposure']/df_collect['Count Total'] * 100\n",
        "df_collect['Percentage Surveillance'] = df_collect['Count Collected Surveillance']/df_collect['Count Total'] * 100\n",
        "df_collect['Percentage Symptoms'] = df_collect['Count Collected Symptoms']/df_collect['Count Total'] * 100\n",
        "\n",
        "# day name \n",
        "df_collect['days'] = df_collect['Collection Date'].dt.day_name()\n",
        "\n",
        "# Concatenate data to form 1 year data\n",
        "df_collect_total_1year = pd.concat([df_collect,df_collect_fall]).reset_index(drop=True)\n",
        "df_collect_total_1year"
      ],
      "execution_count": 45,
      "outputs": [
        {
          "output_type": "execute_result",
          "data": {
            "text/html": [
              "<div>\n",
              "<style scoped>\n",
              "    .dataframe tbody tr th:only-of-type {\n",
              "        vertical-align: middle;\n",
              "    }\n",
              "\n",
              "    .dataframe tbody tr th {\n",
              "        vertical-align: top;\n",
              "    }\n",
              "\n",
              "    .dataframe thead th {\n",
              "        text-align: right;\n",
              "    }\n",
              "</style>\n",
              "<table border=\"1\" class=\"dataframe\">\n",
              "  <thead>\n",
              "    <tr style=\"text-align: right;\">\n",
              "      <th></th>\n",
              "      <th>Collection Date</th>\n",
              "      <th>Count Collected Exposure</th>\n",
              "      <th>Count Collected Surveillance</th>\n",
              "      <th>Count Collected Symptoms</th>\n",
              "      <th>Count Total</th>\n",
              "      <th>Positive Total</th>\n",
              "      <th>Positive Rate (%)</th>\n",
              "      <th>Percentage Exposure</th>\n",
              "      <th>Percentage Surveillance</th>\n",
              "      <th>Percentage Symptoms</th>\n",
              "      <th>days</th>\n",
              "    </tr>\n",
              "  </thead>\n",
              "  <tbody>\n",
              "    <tr>\n",
              "      <th>0</th>\n",
              "      <td>2021-01-05</td>\n",
              "      <td>25.0</td>\n",
              "      <td>1588.0</td>\n",
              "      <td>79.0</td>\n",
              "      <td>1692.0</td>\n",
              "      <td>1</td>\n",
              "      <td>0.059102</td>\n",
              "      <td>1.477541</td>\n",
              "      <td>93.853428</td>\n",
              "      <td>4.669031</td>\n",
              "      <td>Tuesday</td>\n",
              "    </tr>\n",
              "    <tr>\n",
              "      <th>1</th>\n",
              "      <td>2021-01-06</td>\n",
              "      <td>5.0</td>\n",
              "      <td>728.0</td>\n",
              "      <td>38.0</td>\n",
              "      <td>771.0</td>\n",
              "      <td>11</td>\n",
              "      <td>1.426719</td>\n",
              "      <td>0.648508</td>\n",
              "      <td>94.422827</td>\n",
              "      <td>4.928664</td>\n",
              "      <td>Wednesday</td>\n",
              "    </tr>\n",
              "    <tr>\n",
              "      <th>2</th>\n",
              "      <td>2021-01-07</td>\n",
              "      <td>7.0</td>\n",
              "      <td>580.0</td>\n",
              "      <td>29.0</td>\n",
              "      <td>616.0</td>\n",
              "      <td>13</td>\n",
              "      <td>2.110390</td>\n",
              "      <td>1.136364</td>\n",
              "      <td>94.155844</td>\n",
              "      <td>4.707792</td>\n",
              "      <td>Thursday</td>\n",
              "    </tr>\n",
              "    <tr>\n",
              "      <th>3</th>\n",
              "      <td>2021-01-08</td>\n",
              "      <td>22.0</td>\n",
              "      <td>718.0</td>\n",
              "      <td>26.0</td>\n",
              "      <td>766.0</td>\n",
              "      <td>14</td>\n",
              "      <td>1.827676</td>\n",
              "      <td>2.872063</td>\n",
              "      <td>93.733681</td>\n",
              "      <td>3.394256</td>\n",
              "      <td>Friday</td>\n",
              "    </tr>\n",
              "    <tr>\n",
              "      <th>4</th>\n",
              "      <td>2021-01-11</td>\n",
              "      <td>33.0</td>\n",
              "      <td>1411.0</td>\n",
              "      <td>54.0</td>\n",
              "      <td>1498.0</td>\n",
              "      <td>1</td>\n",
              "      <td>0.066756</td>\n",
              "      <td>2.202937</td>\n",
              "      <td>94.192256</td>\n",
              "      <td>3.604806</td>\n",
              "      <td>Monday</td>\n",
              "    </tr>\n",
              "    <tr>\n",
              "      <th>...</th>\n",
              "      <td>...</td>\n",
              "      <td>...</td>\n",
              "      <td>...</td>\n",
              "      <td>...</td>\n",
              "      <td>...</td>\n",
              "      <td>...</td>\n",
              "      <td>...</td>\n",
              "      <td>...</td>\n",
              "      <td>...</td>\n",
              "      <td>...</td>\n",
              "      <td>...</td>\n",
              "    </tr>\n",
              "    <tr>\n",
              "      <th>314</th>\n",
              "      <td>2021-12-27</td>\n",
              "      <td>175.0</td>\n",
              "      <td>5248.0</td>\n",
              "      <td>408.0</td>\n",
              "      <td>5831.0</td>\n",
              "      <td>25</td>\n",
              "      <td>0.428715</td>\n",
              "      <td>3.001200</td>\n",
              "      <td>90.001715</td>\n",
              "      <td>6.997085</td>\n",
              "      <td>Monday</td>\n",
              "    </tr>\n",
              "    <tr>\n",
              "      <th>315</th>\n",
              "      <td>2021-12-28</td>\n",
              "      <td>133.0</td>\n",
              "      <td>3978.0</td>\n",
              "      <td>309.0</td>\n",
              "      <td>4420.0</td>\n",
              "      <td>21</td>\n",
              "      <td>0.475063</td>\n",
              "      <td>3.009050</td>\n",
              "      <td>90.000000</td>\n",
              "      <td>6.990950</td>\n",
              "      <td>Tuesday</td>\n",
              "    </tr>\n",
              "    <tr>\n",
              "      <th>316</th>\n",
              "      <td>2021-12-29</td>\n",
              "      <td>128.0</td>\n",
              "      <td>3838.0</td>\n",
              "      <td>299.0</td>\n",
              "      <td>4265.0</td>\n",
              "      <td>36</td>\n",
              "      <td>0.844141</td>\n",
              "      <td>3.001172</td>\n",
              "      <td>89.988277</td>\n",
              "      <td>7.010551</td>\n",
              "      <td>Wednesday</td>\n",
              "    </tr>\n",
              "    <tr>\n",
              "      <th>317</th>\n",
              "      <td>2021-12-30</td>\n",
              "      <td>48.0</td>\n",
              "      <td>1447.0</td>\n",
              "      <td>113.0</td>\n",
              "      <td>1608.0</td>\n",
              "      <td>25</td>\n",
              "      <td>1.554380</td>\n",
              "      <td>2.985075</td>\n",
              "      <td>89.987562</td>\n",
              "      <td>7.027363</td>\n",
              "      <td>Thursday</td>\n",
              "    </tr>\n",
              "    <tr>\n",
              "      <th>318</th>\n",
              "      <td>2021-12-31</td>\n",
              "      <td>16.0</td>\n",
              "      <td>477.0</td>\n",
              "      <td>37.0</td>\n",
              "      <td>530.0</td>\n",
              "      <td>9</td>\n",
              "      <td>1.698598</td>\n",
              "      <td>3.018868</td>\n",
              "      <td>90.000000</td>\n",
              "      <td>6.981132</td>\n",
              "      <td>Friday</td>\n",
              "    </tr>\n",
              "  </tbody>\n",
              "</table>\n",
              "<p>319 rows × 11 columns</p>\n",
              "</div>"
            ],
            "text/plain": [
              "    Collection Date  Count Collected Exposure  ...  Percentage Symptoms       days\n",
              "0        2021-01-05                      25.0  ...             4.669031    Tuesday\n",
              "1        2021-01-06                       5.0  ...             4.928664  Wednesday\n",
              "2        2021-01-07                       7.0  ...             4.707792   Thursday\n",
              "3        2021-01-08                      22.0  ...             3.394256     Friday\n",
              "4        2021-01-11                      33.0  ...             3.604806     Monday\n",
              "..              ...                       ...  ...                  ...        ...\n",
              "314      2021-12-27                     175.0  ...             6.997085     Monday\n",
              "315      2021-12-28                     133.0  ...             6.990950    Tuesday\n",
              "316      2021-12-29                     128.0  ...             7.010551  Wednesday\n",
              "317      2021-12-30                      48.0  ...             7.027363   Thursday\n",
              "318      2021-12-31                      16.0  ...             6.981132     Friday\n",
              "\n",
              "[319 rows x 11 columns]"
            ]
          },
          "metadata": {},
          "execution_count": 45
        }
      ]
    },
    {
      "cell_type": "markdown",
      "metadata": {
        "id": "od2neC7npE4F"
      },
      "source": [
        "We plot the data for 1 year, starting from January 1,2021 to December, 31 2021. Hover your mouse to the plot for data."
      ]
    },
    {
      "cell_type": "code",
      "metadata": {
        "colab": {
          "base_uri": "https://localhost:8080/",
          "height": 542
        },
        "id": "4I4Dd9u6oC1e",
        "outputId": "4524623a-464d-4771-e32e-830b67fe285c"
      },
      "source": [
        "fig_case_1year = px.bar(df_collect_total_1year, x= 'Collection Date', y = 'Count Total', \\\n",
        "                   title = \"Total Testing\", \n",
        "                  hover_data = df_collect_total_1year.columns[1:])\n",
        "fig_case_1year.show()"
      ],
      "execution_count": 46,
      "outputs": [
        {
          "output_type": "display_data",
          "data": {
            "text/html": [
              "<html>\n",
              "<head><meta charset=\"utf-8\" /></head>\n",
              "<body>\n",
              "    <div>\n",
              "            <script src=\"https://cdnjs.cloudflare.com/ajax/libs/mathjax/2.7.5/MathJax.js?config=TeX-AMS-MML_SVG\"></script><script type=\"text/javascript\">if (window.MathJax) {MathJax.Hub.Config({SVG: {font: \"STIX-Web\"}});}</script>\n",
              "                <script type=\"text/javascript\">window.PlotlyConfig = {MathJaxConfig: 'local'};</script>\n",
              "        <script src=\"https://cdn.plot.ly/plotly-latest.min.js\"></script>    \n",
              "            <div id=\"570b8639-3874-415c-ab24-c8cd16f7e8fc\" class=\"plotly-graph-div\" style=\"height:525px; width:100%;\"></div>\n",
              "            <script type=\"text/javascript\">\n",
              "                \n",
              "                    window.PLOTLYENV=window.PLOTLYENV || {};\n",
              "                    \n",
              "                if (document.getElementById(\"570b8639-3874-415c-ab24-c8cd16f7e8fc\")) {\n",
              "                    Plotly.newPlot(\n",
              "                        '570b8639-3874-415c-ab24-c8cd16f7e8fc',\n",
              "                        [{\"alignmentgroup\": \"True\", \"customdata\": [[25.0, 1588.0, 79.0, 1692.0, 1.0, 0.0591016548463357, 1.4775413711583925, 93.85342789598108, 4.66903073286052, \"Tuesday\"], [5.0, 728.0, 38.0, 771.0, 11.0, 1.4267185473411155, 0.648508430609598, 94.42282749675745, 4.9286640726329445, \"Wednesday\"], [7.0, 580.0, 29.0, 616.0, 13.0, 2.1103896103896105, 1.1363636363636365, 94.15584415584416, 4.707792207792208, \"Thursday\"], [22.0, 718.0, 26.0, 766.0, 14.0, 1.8276762402088773, 2.8720626631853787, 93.73368146214099, 3.3942558746736298, \"Friday\"], [33.0, 1411.0, 54.0, 1498.0, 1.0, 0.06675567423230974, 2.202937249666222, 94.19225634178905, 3.6048064085447264, \"Monday\"], [20.0, 1322.0, 36.0, 1378.0, 2.0, 0.14513788098693758, 1.4513788098693758, 95.93613933236574, 2.6124818577648767, \"Tuesday\"], [10.0, 1257.0, 22.0, 1289.0, 15.0, 1.1636927851047323, 0.7757951900698216, 97.51745539177658, 1.7067494181536074, \"Wednesday\"], [23.0, 1477.0, 32.0, 1532.0, 10.0, 0.6527415143603132, 1.5013054830287207, 96.40992167101827, 2.088772845953003, \"Thursday\"], [24.0, 1585.0, 29.0, 1638.0, 11.0, 0.6715506715506716, 1.465201465201465, 96.76434676434677, 1.7704517704517704, \"Friday\"], [0.0, 0.0, 1.0, 1.0, 1.0, 100.0, 0.0, 0.0, 100.0, \"Sunday\"], [57.0, 3879.0, 89.0, 4025.0, 1.0, 0.02484472049689441, 1.4161490683229814, 96.37267080745342, 2.211180124223602, \"Tuesday\"], [21.0, 3001.0, 55.0, 3077.0, 6.0, 0.19499512512187195, 0.6824829379265518, 97.53006174845629, 1.7874553136171596, \"Wednesday\"], [17.0, 1943.0, 33.0, 1993.0, 11.0, 0.5519317611640743, 0.8529854490717512, 97.49121926743602, 1.655795283492223, \"Thursday\"], [31.0, 3004.0, 35.0, 3070.0, 9.0, 0.2931596091205212, 1.009771986970684, 97.85016286644951, 1.1400651465798046, \"Friday\"], [0.0, 0.0, 3.0, 3.0, 9.0, 300.0, 0.0, 0.0, 100.0, \"Saturday\"], [0.0, 0.0, 1.0, 1.0, 2.0, 200.0, 0.0, 0.0, 100.0, \"Sunday\"], [47.0, 3366.0, 56.0, 3469.0, 0.0, 0.0, 1.3548573075814356, 97.03084462381089, 1.614298068607668, \"Monday\"], [32.0, 3363.0, 41.0, 3436.0, 11.0, 0.32013969732246794, 0.9313154831199069, 97.8754365541327, 1.1932479627473807, \"Tuesday\"], [30.0, 2230.0, 52.0, 2312.0, 18.0, 0.7785467128027681, 1.2975778546712802, 96.45328719723183, 2.249134948096886, \"Wednesday\"], [34.0, 2438.0, 40.0, 2512.0, 29.0, 1.1544585987261147, 1.3535031847133758, 97.05414012738854, 1.5923566878980893, \"Thursday\"], [97.0, 3030.0, 49.0, 3176.0, 43.0, 1.353904282115869, 3.054156171284635, 95.40302267002518, 1.5428211586901763, \"Friday\"], [0.0, 0.0, 1.0, 1.0, 43.0, 4300.0, 0.0, 0.0, 100.0, \"Saturday\"], [0.0, 0.0, 1.0, 1.0, 32.0, 3200.0, 0.0, 0.0, 100.0, \"Sunday\"], [187.0, 3840.0, 79.0, 4106.0, 0.0, 0.0, 4.554310764734535, 93.52167559668777, 1.9240136385776911, \"Monday\"], [118.0, 3334.0, 62.0, 3514.0, 40.0, 1.1383039271485487, 3.3579965850882187, 94.87763232783153, 1.7643710870802503, \"Tuesday\"], [71.0, 2290.0, 41.0, 2402.0, 12.0, 0.4995836802664446, 2.955870108243131, 95.33721898417986, 1.706910907577019, \"Wednesday\"], [90.0, 2532.0, 46.0, 2668.0, 33.0, 1.23688155922039, 3.373313343328336, 94.90254872563717, 1.7241379310344827, \"Thursday\"], [105.0, 2919.0, 96.0, 3120.0, 7.0, 0.22435897435897434, 3.3653846153846154, 93.5576923076923, 3.076923076923077, \"Friday\"], [0.0, 0.0, 2.0, 2.0, 40.0, 2000.0, 0.0, 0.0, 100.0, \"Saturday\"], [0.0, 0.0, 1.0, 1.0, 6.0, 600.0, 0.0, 0.0, 100.0, \"Sunday\"], [142.0, 3557.0, 62.0, 3761.0, 13.0, 0.3456527519276788, 3.775591597979261, 94.57591066205796, 1.6484977399627758, \"Monday\"], [66.0, 3444.0, 100.0, 3610.0, 18.0, 0.4986149584487534, 1.8282548476454294, 95.40166204986149, 2.7700831024930745, \"Tuesday\"], [63.0, 2279.0, 40.0, 2382.0, 27.0, 1.1335012594458438, 2.644836272040302, 95.67590260285475, 1.6792611251049538, \"Wednesday\"], [59.0, 2442.0, 30.0, 2531.0, 19.0, 0.75069142631371, 2.3310944290794153, 96.4836033188463, 1.1853022520742789, \"Thursday\"], [65.0, 2846.0, 54.0, 2965.0, 7.0, 0.2360876897133221, 2.1922428330522767, 95.98650927487353, 1.821247892074199, \"Friday\"], [0.0, 104.0, 0.0, 104.0, 5.0, 4.807692307692308, 0.0, 100.0, 0.0, \"Monday\"], [49.0, 4935.0, 106.0, 5090.0, 4.0, 0.07858546168958742, 0.9626719056974461, 96.95481335952849, 2.0825147347740667, \"Tuesday\"], [10.0, 2735.0, 32.0, 2777.0, 2.0, 0.07202016564638099, 0.3601008282319049, 98.487576521426, 1.1523226503420958, \"Wednesday\"], [23.0, 2142.0, 27.0, 2192.0, 2.0, 0.09124087591240876, 1.0492700729927007, 97.71897810218978, 1.2317518248175183, \"Thursday\"], [29.0, 3189.0, 54.0, 3272.0, 3.0, 0.09168704156479218, 0.8863080684596576, 97.46332518337408, 1.6503667481662592, \"Friday\"], [0.0, 0.0, 3.0, 3.0, 4.0, 133.33333333333331, 0.0, 0.0, 100.0, \"Saturday\"], [0.0, 0.0, 1.0, 1.0, 1.0, 100.0, 0.0, 0.0, 100.0, \"Sunday\"], [27.0, 3142.0, 38.0, 3207.0, 1.0, 0.031181789834736514, 0.841908325537886, 97.97318366074212, 1.1849080137199874, \"Monday\"], [16.0, 3404.0, 57.0, 3477.0, 0.0, 0.0, 0.46016681046879493, 97.90048892723611, 1.639344262295082, \"Tuesday\"], [20.0, 2372.0, 39.0, 2431.0, 2.0, 0.08227067050596462, 0.8227067050596462, 97.57301522007404, 1.6042780748663104, \"Wednesday\"], [8.0, 2133.0, 23.0, 2164.0, 2.0, 0.09242144177449169, 0.36968576709796674, 98.56746765249538, 1.0628465804066543, \"Thursday\"], [18.0, 2926.0, 24.0, 2968.0, 0.0, 0.0, 0.6064690026954178, 98.58490566037736, 0.8086253369272237, \"Friday\"], [0.0, 0.0, 7.0, 7.0, 0.0, 0.0, 0.0, 0.0, 100.0, \"Saturday\"], [0.0, 0.0, 1.0, 1.0, 0.0, 0.0, 0.0, 0.0, 100.0, \"Sunday\"], [11.0, 3183.0, 36.0, 3230.0, 1.0, 0.030959752321981428, 0.3405572755417957, 98.54489164086687, 1.1145510835913313, \"Monday\"], [18.0, 3337.0, 26.0, 3381.0, 3.0, 0.08873114463176575, 0.5323868677905945, 98.6986098787341, 0.7690032534753032, \"Tuesday\"], [17.0, 2224.0, 34.0, 2275.0, 1.0, 0.04395604395604395, 0.7472527472527473, 97.75824175824177, 1.4945054945054945, \"Wednesday\"], [10.0, 2411.0, 22.0, 2443.0, 1.0, 0.04093327875562833, 0.4093327875562832, 98.6901350798199, 0.9005321326238231, \"Thursday\"], [20.0, 2880.0, 25.0, 2925.0, 2.0, 0.06837606837606838, 0.6837606837606838, 98.46153846153847, 0.8547008547008548, \"Friday\"], [1.0, 24.0, 2.0, 27.0, 8.0, 29.629629629629626, 3.7037037037037033, 88.88888888888889, 7.4074074074074066, \"Saturday\"], [0.0, 1.0, 1.0, 2.0, 0.0, 0.0, 0.0, 50.0, 50.0, \"Sunday\"], [23.0, 3024.0, 32.0, 3079.0, 4.0, 0.12991230919129587, 0.7469957778499512, 98.21370574861969, 1.039298473530367, \"Monday\"], [26.0, 3359.0, 38.0, 3423.0, 2.0, 0.05842827928717499, 0.7595676307332748, 98.1302950628104, 1.110137306456325, \"Tuesday\"], [23.0, 2216.0, 19.0, 2258.0, 0.0, 0.0, 1.0186005314437556, 98.13994685562444, 0.8414526129317981, \"Wednesday\"], [29.0, 2293.0, 20.0, 2342.0, 4.0, 0.1707941929974381, 1.2382578992314262, 97.90777113578139, 0.8539709649871904, \"Thursday\"], [17.0, 2919.0, 13.0, 2949.0, 6.0, 0.20345879959308238, 0.5764665988470667, 98.98270600203459, 0.44082739911834523, \"Friday\"], [21.0, 0.0, 12.0, 33.0, 3.0, 9.090909090909092, 63.63636363636363, 0.0, 36.36363636363637, \"Saturday\"], [0.0, 0.0, 1.0, 1.0, 0.0, 0.0, 0.0, 0.0, 100.0, \"Sunday\"], [17.0, 3034.0, 30.0, 3081.0, 2.0, 0.06491398896462187, 0.551768906199286, 98.47452125933138, 0.9737098344693282, \"Monday\"], [16.0, 3433.0, 20.0, 3469.0, 1.0, 0.028826751225136928, 0.46122801960219084, 98.96223695589507, 0.5765350245027385, \"Tuesday\"], [8.0, 2254.0, 22.0, 2284.0, 1.0, 0.043782837127845885, 0.3502626970227671, 98.68651488616462, 0.9632224168126094, \"Wednesday\"], [8.0, 2122.0, 29.0, 2159.0, 4.0, 0.18527095877721167, 0.37054191755442334, 98.28624363131078, 1.3432144511347845, \"Thursday\"], [13.0, 2538.0, 20.0, 2571.0, 3.0, 0.11668611435239205, 0.5056398288603656, 98.71645274212368, 0.7779074290159471, \"Friday\"], [5.0, 0.0, 1.0, 6.0, 0.0, 0.0, 83.33333333333334, 0.0, 16.666666666666664, \"Saturday\"], [11.0, 1648.0, 16.0, 1675.0, 3.0, 0.1791044776119403, 0.6567164179104478, 98.38805970149254, 0.9552238805970149, \"Monday\"], [5.0, 1619.0, 20.0, 1644.0, 1.0, 0.06082725060827251, 0.30413625304136255, 98.47931873479318, 1.2165450121654502, \"Tuesday\"], [3.0, 1316.0, 10.0, 1329.0, 1.0, 0.07524454477050413, 0.2257336343115124, 99.02182091798345, 0.7524454477050414, \"Wednesday\"], [4.0, 1527.0, 6.0, 1537.0, 1.0, 0.06506180871828238, 0.2602472348731295, 99.34938191281718, 0.3903708523096942, \"Thursday\"], [0.0, 185.0, 12.0, 197.0, 1.0, 0.5076142131979695, 0.0, 93.90862944162437, 6.091370558375635, \"Friday\"], [0.0, 3705.0, 43.0, 3748.0, 2.0, 0.05336179295624333, 0.0, 98.85272145144077, 1.1472785485592316, \"Monday\"], [0.0, 2615.0, 31.0, 2646.0, 4.0, 0.15117157974300832, 0.0, 98.82842025699169, 1.1715797430083144, \"Tuesday\"], [0.0, 1820.0, 32.0, 1852.0, 5.0, 0.26997840172786175, 0.0, 98.27213822894169, 1.7278617710583155, \"Wednesday\"], [0.0, 1979.0, 23.0, 2002.0, 8.0, 0.3996003996003996, 0.0, 98.85114885114885, 1.1488511488511488, \"Thursday\"], [0.0, 2149.0, 20.0, 2169.0, 2.0, 0.09220839096357768, 0.0, 99.07791609036423, 0.9220839096357769, \"Friday\"], [0.0, 0.0, 4.0, 4.0, 1.0, 25.0, 0.0, 0.0, 100.0, \"Saturday\"], [0.0, 0.0, 1.0, 1.0, 0.0, 0.0, 0.0, 0.0, 100.0, \"Sunday\"], [0.0, 2677.0, 34.0, 2711.0, 1.0, 0.03688675765400221, 0.0, 98.74585023976393, 1.2541497602360752, \"Monday\"], [0.0, 2436.0, 39.0, 2475.0, 1.0, 0.0404040404040404, 0.0, 98.42424242424242, 1.575757575757576, \"Tuesday\"], [0.0, 1456.0, 19.0, 1475.0, 1.0, 0.06779661016949153, 0.0, 98.71186440677965, 1.2881355932203389, \"Wednesday\"], [0.0, 1599.0, 14.0, 1613.0, 2.0, 0.12399256044637322, 0.0, 99.13205207687538, 0.8679479231246126, \"Thursday\"], [0.0, 1907.0, 22.0, 1929.0, 2.0, 0.10368066355624676, 0.0, 98.85951270088128, 1.1404872991187145, \"Friday\"], [0.0, 0.0, 3.0, 3.0, 0.0, 0.0, 0.0, 0.0, 100.0, \"Saturday\"], [0.0, 2401.0, 57.0, 2458.0, 2.0, 0.08136696501220504, 0.0, 97.68104149715215, 2.3189585028478437, \"Monday\"], [0.0, 2095.0, 41.0, 2136.0, 1.0, 0.04681647940074907, 0.0, 98.08052434456928, 1.9194756554307115, \"Tuesday\"], [0.0, 1364.0, 21.0, 1385.0, 4.0, 0.2888086642599278, 0.0, 98.48375451263539, 1.516245487364621, \"Wednesday\"], [0.0, 1472.0, 41.0, 1513.0, 3.0, 0.19828155981493722, 0.0, 97.29015201586253, 2.7098479841374754, \"Thursday\"], [0.0, 1741.0, 50.0, 1791.0, 3.0, 0.16750418760469013, 0.0, 97.20826353992183, 2.7917364600781687, \"Friday\"], [0.0, 0.0, 2.0, 2.0, 0.0, 0.0, 0.0, 0.0, 100.0, \"Saturday\"], [0.0, 0.0, 1.0, 1.0, 0.0, 0.0, 0.0, 0.0, 100.0, \"Sunday\"], [0.0, 2145.0, 33.0, 2178.0, 0.0, 0.0, 0.0, 98.48484848484848, 1.5151515151515151, \"Monday\"], [0.0, 1836.0, 46.0, 1882.0, 0.0, 0.0, 0.0, 97.55579171094581, 2.4442082890541976, \"Tuesday\"], [0.0, 1238.0, 22.0, 1260.0, 2.0, 0.15873015873015872, 0.0, 98.25396825396825, 1.746031746031746, \"Wednesday\"], [0.0, 1399.0, 31.0, 1430.0, 0.0, 0.0, 0.0, 97.83216783216783, 2.1678321678321675, \"Thursday\"], [0.0, 1675.0, 29.0, 1704.0, 0.0, 0.0, 0.0, 98.2981220657277, 1.7018779342723005, \"Friday\"], [0.0, 0.0, 7.0, 7.0, 0.0, 0.0, 0.0, 0.0, 100.0, \"Saturday\"], [0.0, 0.0, 1.0, 1.0, 1.0, 100.0, 0.0, 0.0, 100.0, \"Sunday\"], [0.0, 1986.0, 40.0, 2026.0, 0.0, 0.0, 0.0, 98.02566633761106, 1.9743336623889436, \"Monday\"], [0.0, 1770.0, 18.0, 1788.0, 0.0, 0.0, 0.0, 98.99328859060402, 1.006711409395973, \"Tuesday\"], [0.0, 1106.0, 21.0, 1127.0, 1.0, 0.08873114463176575, 0.0, 98.13664596273291, 1.8633540372670807, \"Wednesday\"], [0.0, 1135.0, 27.0, 1162.0, 0.0, 0.0, 0.0, 97.67641996557659, 2.323580034423408, \"Thursday\"], [0.0, 1458.0, 12.0, 1470.0, 1.0, 0.06802721088435373, 0.0, 99.18367346938776, 0.8163265306122449, \"Friday\"], [0.0, 0.0, 1.0, 1.0, 0.0, 0.0, 0.0, 0.0, 100.0, \"Saturday\"], [0.0, 1361.0, 38.0, 1399.0, 0.0, 0.0, 0.0, 97.28377412437456, 2.7162258756254465, \"Monday\"], [0.0, 1420.0, 19.0, 1439.0, 0.0, 0.0, 0.0, 98.67963863794301, 1.320361362056984, \"Tuesday\"], [0.0, 860.0, 30.0, 890.0, 0.0, 0.0, 0.0, 96.62921348314607, 3.3707865168539324, \"Wednesday\"], [0.0, 876.0, 25.0, 901.0, 1.0, 0.11098779134295228, 0.0, 97.2253052164262, 2.774694783573807, \"Thursday\"], [0.0, 1365.0, 22.0, 1387.0, 1.0, 0.07209805335255948, 0.0, 98.4138428262437, 1.5861571737563085, \"Friday\"], [0.0, 0.0, 6.0, 6.0, 0.0, 0.0, 0.0, 0.0, 100.0, \"Saturday\"], [0.0, 0.0, 4.0, 4.0, 0.0, 0.0, 0.0, 0.0, 100.0, \"Sunday\"], [0.0, 1197.0, 33.0, 1230.0, 0.0, 0.0, 0.0, 97.3170731707317, 2.682926829268293, \"Monday\"], [0.0, 1120.0, 15.0, 1135.0, 0.0, 0.0, 0.0, 98.6784140969163, 1.3215859030837005, \"Tuesday\"], [0.0, 912.0, 19.0, 931.0, 1.0, 0.10741138560687433, 0.0, 97.95918367346938, 2.0408163265306123, \"Wednesday\"], [0.0, 990.0, 17.0, 1007.0, 0.0, 0.0, 0.0, 98.31181727904668, 1.6881827209533267, \"Thursday\"], [0.0, 998.0, 8.0, 1006.0, 0.0, 0.0, 0.0, 99.20477137176938, 0.7952286282306162, \"Friday\"], [0.0, 951.0, 23.0, 974.0, 0.0, 0.0, 0.0, 97.63860369609856, 2.3613963039014374, \"Monday\"], [0.0, 712.0, 22.0, 734.0, 0.0, 0.0, 0.0, 97.00272479564033, 2.997275204359673, \"Tuesday\"], [0.0, 526.0, 16.0, 542.0, 0.0, 0.0, 0.0, 97.04797047970479, 2.952029520295203, \"Wednesday\"], [0.0, 470.0, 21.0, 491.0, 0.0, 0.0, 0.0, 95.72301425661914, 4.276985743380855, \"Thursday\"], [0.0, 320.0, 4.0, 324.0, 0.0, 0.0, 0.0, 98.76543209876543, 1.2345679012345678, \"Friday\"], [0.0, 1.0, 0.0, 1.0, 0.0, 0.0, 0.0, 100.0, 0.0, \"Saturday\"], [0.0, 525.0, 22.0, 547.0, 0.0, 0.0, 0.0, 95.97806215722122, 4.021937842778794, \"Monday\"], [0.0, 309.0, 10.0, 319.0, 0.0, 0.0, 0.0, 96.86520376175548, 3.1347962382445136, \"Tuesday\"], [0.0, 292.0, 9.0, 301.0, 0.0, 0.0, 0.0, 97.00996677740864, 2.990033222591362, \"Wednesday\"], [0.0, 263.0, 11.0, 274.0, 0.0, 0.0, 0.0, 95.98540145985402, 4.014598540145985, \"Thursday\"], [0.0, 243.0, 4.0, 247.0, 0.0, 0.0, 0.0, 98.38056680161942, 1.6194331983805668, \"Friday\"], [0.0, 461.0, 10.0, 471.0, 0.0, 0.0, 0.0, 97.87685774946921, 2.1231422505307855, \"Tuesday\"], [0.0, 325.0, 10.0, 335.0, 0.0, 0.0, 0.0, 97.01492537313433, 2.9850746268656714, \"Wednesday\"], [0.0, 249.0, 7.0, 256.0, 0.0, 0.0, 0.0, 97.265625, 2.734375, \"Thursday\"], [0.0, 230.0, 4.0, 234.0, 0.0, 0.0, 0.0, 98.29059829059828, 1.7094017094017095, \"Friday\"], [0.0, 409.0, 8.0, 417.0, 0.0, 0.0, 0.0, 98.08153477218225, 1.9184652278177456, \"Monday\"], [0.0, 210.0, 10.0, 220.0, 0.0, 0.0, 0.0, 95.45454545454545, 4.545454545454546, \"Tuesday\"], [0.0, 249.0, 7.0, 256.0, 0.0, 0.0, 0.0, 97.265625, 2.734375, \"Wednesday\"], [0.0, 216.0, 8.0, 224.0, 0.0, 0.0, 0.0, 96.42857142857143, 3.571428571428571, \"Thursday\"], [0.0, 221.0, 9.0, 230.0, 1.0, 0.43478260869565216, 0.0, 96.08695652173913, 3.91304347826087, \"Friday\"], [0.0, 414.0, 8.0, 422.0, 0.0, 0.0, 0.0, 98.10426540284361, 1.8957345971563981, \"Monday\"], [0.0, 225.0, 6.0, 231.0, 0.0, 0.0, 0.0, 97.40259740259741, 2.5974025974025974, \"Tuesday\"], [0.0, 350.0, 9.0, 359.0, 0.0, 0.0, 0.0, 97.49303621169916, 2.5069637883008355, \"Wednesday\"], [0.0, 245.0, 8.0, 253.0, 1.0, 0.3952569169960474, 0.0, 96.83794466403161, 3.1620553359683794, \"Thursday\"], [0.0, 203.0, 8.0, 211.0, 0.0, 0.0, 0.0, 96.2085308056872, 3.7914691943127963, \"Friday\"], [0.0, 325.0, 9.0, 334.0, 1.0, 0.29940119760479045, 0.0, 97.30538922155688, 2.694610778443114, \"Monday\"], [0.0, 224.0, 12.0, 236.0, 0.0, 0.0, 0.0, 94.91525423728814, 5.084745762711865, \"Tuesday\"], [0.0, 272.0, 7.0, 279.0, 0.0, 0.0, 0.0, 97.4910394265233, 2.5089605734767026, \"Wednesday\"], [0.0, 208.0, 6.0, 214.0, 0.0, 0.0, 0.0, 97.19626168224299, 2.803738317757009, \"Thursday\"], [0.0, 169.0, 7.0, 176.0, 0.0, 0.0, 0.0, 96.02272727272727, 3.977272727272727, \"Friday\"], [0.0, 326.0, 17.0, 343.0, 0.0, 0.0, 0.0, 95.04373177842565, 4.956268221574344, \"Tuesday\"], [0.0, 332.0, 29.0, 361.0, 2.0, 0.554016620498615, 0.0, 91.96675900277008, 8.033240997229916, \"Wednesday\"], [0.0, 233.0, 16.0, 249.0, 0.0, 0.0, 0.0, 93.57429718875501, 6.425702811244979, \"Thursday\"], [0.0, 186.0, 22.0, 208.0, 1.0, 0.4807692307692308, 0.0, 89.42307692307693, 10.576923076923077, \"Friday\"], [0.0, 323.0, 25.0, 348.0, 1.0, 0.28735632183908044, 0.0, 92.81609195402298, 7.183908045977011, \"Tuesday\"], [0.0, 345.0, 29.0, 374.0, 1.0, 0.267379679144385, 0.0, 92.24598930481284, 7.754010695187167, \"Wednesday\"], [0.0, 286.0, 22.0, 308.0, 3.0, 0.974025974025974, 0.0, 92.85714285714286, 7.142857142857142, \"Thursday\"], [0.0, 223.0, 23.0, 246.0, 4.0, 1.6260162601626018, 0.0, 90.65040650406505, 9.34959349593496, \"Friday\"], [0.0, 437.0, 43.0, 480.0, 1.0, 0.20833333333333334, 0.0, 91.04166666666667, 8.958333333333334, \"Monday\"], [0.0, 300.0, 35.0, 335.0, 7.0, 2.0895522388059704, 0.0, 89.55223880597015, 10.44776119402985, \"Tuesday\"], [0.0, 400.0, 45.0, 445.0, 4.0, 0.8988764044943821, 0.0, 89.8876404494382, 10.112359550561797, \"Wednesday\"], [0.0, 362.0, 48.0, 410.0, 3.0, 0.7317073170731708, 0.0, 88.29268292682927, 11.707317073170733, \"Thursday\"], [0.0, 293.0, 44.0, 337.0, 3.0, 0.8902077151335311, 0.0, 86.94362017804154, 13.056379821958458, \"Friday\"], [0.0, 503.0, 89.0, 592.0, 5.0, 0.8445945945945946, 0.0, 84.96621621621621, 15.033783783783782, \"Monday\"], [0.0, 325.0, 71.0, 396.0, 5.0, 1.2626262626262625, 0.0, 82.07070707070707, 17.929292929292927, \"Tuesday\"], [0.0, 424.0, 56.0, 480.0, 4.0, 0.8333333333333334, 0.0, 88.33333333333333, 11.666666666666666, \"Wednesday\"], [0.0, 363.0, 53.0, 416.0, 4.0, 0.9615384615384616, 0.0, 87.25961538461539, 12.740384615384615, \"Thursday\"], [0.0, 353.0, 55.0, 408.0, 5.0, 1.2254901960784315, 0.0, 86.51960784313727, 13.480392156862745, \"Friday\"], [0.0, 532.0, 80.0, 612.0, 5.0, 0.8169934640522877, 0.0, 86.9281045751634, 13.071895424836603, \"Monday\"], [0.0, 360.0, 59.0, 419.0, 5.0, 1.1933174224343674, 0.0, 85.91885441527445, 14.081145584725538, \"Tuesday\"], [0.0, 557.0, 52.0, 609.0, 5.0, 0.8210180623973727, 0.0, 91.46141215106732, 8.538587848932677, \"Wednesday\"], [0.0, 438.0, 71.0, 509.0, 9.0, 1.768172888015717, 0.0, 86.05108055009823, 13.948919449901767, \"Thursday\"], [0.0, 430.0, 75.0, 505.0, 4.0, 0.7920792079207921, 0.0, 85.14851485148515, 14.85148514851485, \"Friday\"], [46.0, 786.0, 71.0, 903.0, 2.0, 0.22148394241417496, 5.094130675526024, 87.04318936877077, 7.862679955703211, \"Monday\"], [36.0, 533.0, 45.0, 614.0, 6.0, 0.9771986970684038, 5.863192182410423, 86.80781758957656, 7.32899022801303, \"Tuesday\"], [25.0, 656.0, 32.0, 713.0, 3.0, 0.42075736325385693, 3.506311360448808, 92.00561009817672, 4.488078541374474, \"Wednesday\"], [30.0, 706.0, 26.0, 762.0, 4.0, 0.5249343832020997, 3.937007874015748, 92.6509186351706, 3.4120734908136483, \"Thursday\"], [32.0, 718.0, 46.0, 796.0, 7.0, 0.8793969849246231, 4.0201005025125625, 90.20100502512562, 5.778894472361809, \"Friday\"], [51.0, 1550.0, 45.0, 1646.0, 6.0, 0.3645200486026731, 3.0984204131227218, 94.16767922235722, 2.7339003645200486, \"Monday\"], [27.0, 887.0, 43.0, 957.0, 3.0, 0.3134796238244514, 2.8213166144200628, 92.68547544409613, 4.493207941483804, \"Tuesday\"], [23.0, 1088.0, 41.0, 1152.0, 5.0, 0.4340277777777778, 1.9965277777777777, 94.44444444444444, 3.5590277777777777, \"Wednesday\"], [45.0, 1027.0, 47.0, 1119.0, 5.0, 0.44682752457551383, 4.021447721179625, 91.77837354781055, 4.20017873100983, \"Thursday\"], [50.0, 1302.0, 40.0, 1392.0, 6.0, 0.43103448275862066, 3.5919540229885056, 93.53448275862068, 2.8735632183908044, \"Friday\"], [73.0, 4412.0, 59.0, 4544.0, 4.0, 0.08802816901408451, 1.6065140845070423, 97.09507042253522, 1.2984154929577465, \"Monday\"], [41.0, 3719.0, 36.0, 3796.0, 5.0, 0.13171759747102213, 1.0800842992623814, 97.97154899894626, 0.9483667017913594, \"Tuesday\"], [31.0, 3733.0, 47.0, 3811.0, 10.0, 0.26239832065074786, 0.8134347940173182, 97.95329309892416, 1.2332721070585149, \"Wednesday\"], [19.0, 1661.0, 40.0, 1720.0, 9.0, 0.5232558139534884, 1.1046511627906976, 96.56976744186046, 2.3255813953488373, \"Thursday\"], [40.0, 1796.0, 49.0, 1885.0, 11.0, 0.583554376657825, 2.122015915119363, 95.27851458885942, 2.59946949602122, \"Friday\"], [2.0, 640.0, 22.0, 664.0, 7.0, 1.0542168674698795, 0.30120481927710846, 96.3855421686747, 3.313253012048193, \"Saturday\"], [5.0, 1407.0, 41.0, 1453.0, 9.0, 0.6194081211286993, 0.3441156228492774, 96.83413626978665, 2.821748107364074, \"Sunday\"], [71.0, 3697.0, 66.0, 3834.0, 4.0, 0.10432968179447052, 1.8518518518518516, 96.42670839853939, 1.7214397496087637, \"Monday\"], [29.0, 2621.0, 81.0, 2731.0, 6.0, 0.21969974368363238, 1.0618820944708898, 95.97217136580008, 2.965946539729037, \"Tuesday\"], [28.0, 1879.0, 72.0, 1979.0, 9.0, 0.4547751389590703, 1.414855987872663, 94.94694290045477, 3.6382011116725623, \"Wednesday\"], [75.0, 1434.0, 94.0, 1603.0, 18.0, 1.122894572676232, 4.678727386150967, 89.45726762320648, 5.864004990642545, \"Thursday\"], [17.0, 1320.0, 120.0, 1457.0, 13.0, 0.8922443376801648, 1.1667810569663692, 90.5971173644475, 8.236101578586135, \"Friday\"], [88.0, 0.0, 95.0, 183.0, 5.0, 2.73224043715847, 48.08743169398907, 0.0, 51.91256830601093, \"Saturday\"], [25.0, 0.0, 98.0, 123.0, 3.0, 2.4390243902439024, 20.32520325203252, 0.0, 79.67479674796748, \"Sunday\"], [81.0, 2156.0, 151.0, 2388.0, 1.0, 0.04187604690117253, 3.391959798994975, 90.28475711892797, 6.323283082077053, \"Monday\"], [77.0, 1702.0, 175.0, 1954.0, 0.0, 0.0, 3.940634595701126, 87.1033776867963, 8.955987717502559, \"Tuesday\"], [75.0, 1579.0, 205.0, 1859.0, 41.0, 2.205486820871436, 4.034427111350189, 84.93813878429263, 11.02743410435718, \"Wednesday\"], [133.0, 1392.0, 193.0, 1718.0, 10.0, 0.5820721769499418, 7.741559953434225, 81.0244470314319, 11.233993015133876, \"Thursday\"], [140.0, 1543.0, 185.0, 1868.0, 27.0, 1.4453961456102784, 7.494646680942184, 82.6017130620985, 9.903640256959315, \"Friday\"], [76.0, 0.0, 87.0, 163.0, 2.0, 1.2269938650306749, 46.62576687116564, 0.0, 53.37423312883436, \"Saturday\"], [63.0, 0.0, 77.0, 140.0, 1.0, 0.7142857142857143, 45.0, 0.0, 55.00000000000001, \"Sunday\"], [124.0, 2702.0, 197.0, 3023.0, 9.0, 0.29771749917300694, 4.101885544161429, 89.38140919616275, 6.516705259675819, \"Tuesday\"], [122.0, 2585.0, 239.0, 2946.0, 9.0, 0.30549898167006106, 4.141208418194162, 87.74609640190089, 8.112695179904957, \"Wednesday\"], [84.0, 2075.0, 190.0, 2349.0, 11.0, 0.4682843763303533, 3.5759897828863343, 88.3354618986803, 8.088548318433377, \"Thursday\"], [119.0, 1875.0, 156.0, 2150.0, 12.0, 0.5581395348837209, 5.534883720930233, 87.20930232558139, 7.255813953488372, \"Friday\"], [55.0, 0.0, 69.0, 124.0, 2.0, 1.6129032258064515, 44.354838709677416, 0.0, 55.64516129032258, \"Saturday\"], [66.0, 0.0, 68.0, 134.0, 2.0, 1.4925373134328357, 49.25373134328358, 0.0, 50.74626865671642, \"Sunday\"], [157.0, 2293.0, 246.0, 2696.0, 33.0, 1.2240356083086052, 5.8234421364985165, 85.05192878338279, 9.124629080118694, \"Monday\"], [132.0, 2229.0, 211.0, 2572.0, 24.0, 0.9331259720062209, 5.132192846034215, 86.66407465007777, 8.203732503888025, \"Tuesday\"], [134.0, 1975.0, 194.0, 2303.0, 13.0, 0.5644811115935736, 5.818497611810682, 85.75770733825445, 8.423795049934867, \"Wednesday\"], [143.0, 1751.0, 192.0, 2086.0, 9.0, 0.4314477468839885, 6.85522531160115, 83.9405560882071, 9.204218600191755, \"Thursday\"], [124.0, 1651.0, 177.0, 1952.0, 6.0, 0.3073770491803279, 6.352459016393443, 84.57991803278688, 9.067622950819672, \"Friday\"], [35.0, 0.0, 81.0, 116.0, 0.0, 0.0, 30.17241379310345, 0.0, 69.82758620689656, \"Saturday\"], [27.0, 0.0, 73.0, 100.0, 1.0, 1.0, 27.0, 0.0, 73.0, \"Sunday\"], [60.0, 2243.0, 180.0, 2483.0, 7.0, 0.2819170358437374, 2.4164317358034633, 90.33427305678615, 7.24929520741039, \"Monday\"], [76.0, 1924.0, 189.0, 2189.0, 5.0, 0.22841480127912286, 3.4719049794426677, 87.89401553220648, 8.634079488350844, \"Tuesday\"], [60.0, 1767.0, 175.0, 2002.0, 7.0, 0.34965034965034963, 2.997002997002997, 88.26173826173826, 8.741258741258742, \"Wednesday\"], [77.0, 1536.0, 130.0, 1743.0, 7.0, 0.4016064257028112, 4.417670682730924, 88.12392426850259, 7.458405048766495, \"Thursday\"], [104.0, 1247.0, 117.0, 1468.0, 7.0, 0.4768392370572207, 7.084468664850137, 84.94550408719346, 7.970027247956403, \"Friday\"], [10.0, 0.0, 31.0, 41.0, 0.0, 0.0, 24.390243902439025, 0.0, 75.60975609756098, \"Saturday\"], [12.0, 0.0, 31.0, 43.0, 0.0, 0.0, 27.906976744186046, 0.0, 72.09302325581395, \"Sunday\"], [42.0, 1832.0, 159.0, 2033.0, 1.0, 0.04918839153959665, 2.0659124446630592, 90.11313330054107, 7.820954254795868, \"Monday\"], [33.0, 1491.0, 136.0, 1660.0, 2.0, 0.12048192771084339, 1.9879518072289155, 89.81927710843374, 8.19277108433735, \"Tuesday\"], [47.0, 1590.0, 129.0, 1766.0, 6.0, 0.33975084937712347, 2.6613816534541335, 90.03397508493771, 7.304643261608154, \"Wednesday\"], [62.0, 1283.0, 122.0, 1467.0, 2.0, 0.136332651670075, 4.226312201772324, 87.4573960463531, 8.316291751874575, \"Thursday\"], [39.0, 1112.0, 81.0, 1232.0, 3.0, 0.2435064935064935, 3.1655844155844153, 90.25974025974025, 6.574675324675325, \"Friday\"], [8.0, 0.0, 35.0, 43.0, 1.0, 2.3255813953488373, 18.6046511627907, 0.0, 81.3953488372093, \"Saturday\"], [16.0, 0.0, 45.0, 61.0, 1.0, 1.639344262295082, 26.229508196721312, 0.0, 73.77049180327869, \"Sunday\"], [42.0, 1980.0, 123.0, 2145.0, 2.0, 0.09324009324009325, 1.9580419580419581, 92.3076923076923, 5.734265734265734, \"Monday\"], [36.0, 1885.0, 155.0, 2076.0, 1.0, 0.04816955684007707, 1.7341040462427744, 90.79961464354528, 7.466281310211946, \"Tuesday\"], [22.0, 1664.0, 119.0, 1805.0, 3.0, 0.16620498614958448, 1.218836565096953, 92.18836565096953, 6.592797783933518, \"Wednesday\"], [20.0, 1305.0, 101.0, 1426.0, 0.0, 0.0, 1.402524544179523, 91.51472650771389, 7.082748948106592, \"Thursday\"], [25.0, 1331.0, 72.0, 1428.0, 2.0, 0.1400560224089636, 1.7507002801120448, 93.20728291316527, 5.042016806722689, \"Friday\"], [7.0, 0.0, 28.0, 35.0, 0.0, 0.0, 20.0, 0.0, 80.0, \"Saturday\"], [4.0, 0.0, 21.0, 25.0, 0.0, 0.0, 16.0, 0.0, 84.0, \"Sunday\"], [12.0, 2023.0, 99.0, 2134.0, 1.0, 0.046860356138706656, 0.5623242736644799, 94.79850046860356, 4.639175257731959, \"Monday\"], [16.0, 1802.0, 141.0, 1959.0, 2.0, 0.10209290454313426, 0.8167432363450741, 91.98570699336396, 7.197549770290965, \"Tuesday\"], [17.0, 1553.0, 118.0, 1688.0, 2.0, 0.11848341232227488, 1.0071090047393365, 92.00236966824644, 6.990521327014218, \"Wednesday\"], [19.0, 1344.0, 88.0, 1451.0, 5.0, 0.34458993797381116, 1.3094417643004823, 92.62577532736044, 6.064782908339077, \"Thursday\"], [45.0, 1227.0, 77.0, 1349.0, 4.0, 0.2965159377316531, 3.3358042994810972, 90.95626389918459, 5.707931801334322, \"Friday\"], [12.0, 0.0, 30.0, 42.0, 1.0, 2.380952380952381, 28.57142857142857, 0.0, 71.42857142857143, \"Saturday\"], [15.0, 0.0, 32.0, 47.0, 0.0, 0.0, 31.914893617021278, 0.0, 68.08510638297872, \"Sunday\"], [19.0, 1858.0, 114.0, 1991.0, 4.0, 0.20090406830738325, 0.9542943244600702, 93.31993972877952, 5.725765946760422, \"Monday\"], [35.0, 1561.0, 119.0, 1715.0, 8.0, 0.46647230320699706, 2.0408163265306123, 91.02040816326532, 6.938775510204081, \"Tuesday\"], [0.0, 0.0, 24.0, 24.0, 8.0, 33.33333333333333, 0.0, 0.0, 100.0, \"Wednesday\"], [17.0, 524.0, 41.0, 582.0, 5.0, 0.859376672646174, 2.9209621993127146, 90.03436426116839, 7.0446735395189, \"Thursday\"], [17.0, 503.0, 39.0, 559.0, 4.0, 0.7159103172652994, 3.041144901610018, 89.98211091234347, 6.976744186046512, \"Friday\"], [40.0, 0.0, 104.0, 144.0, 3.0, 2.0777072052145753, 27.77777777777778, 0.0, 72.22222222222221, \"Saturday\"], [72.0, 0.0, 185.0, 257.0, 3.0, 1.1678262696429915, 28.01556420233463, 0.0, 71.98443579766537, \"Sunday\"], [10.0, 290.0, 23.0, 323.0, 3.0, 0.9283047436352614, 3.0959752321981426, 89.78328173374614, 7.120743034055728, \"Monday\"], [13.0, 379.0, 29.0, 421.0, 4.0, 0.9492104520559528, 3.0878859857482186, 90.02375296912113, 6.88836104513064, \"Tuesday\"], [16.0, 471.0, 37.0, 524.0, 5.0, 0.9537895560824323, 3.0534351145038165, 89.8854961832061, 7.061068702290077, \"Wednesday\"], [12.0, 345.0, 27.0, 384.0, 2.0, 0.5210273105552875, 3.125, 89.84375, 7.03125, \"Thursday\"], [6.0, 182.0, 14.0, 202.0, 1.0, 0.49555874061150784, 2.9702970297029703, 90.0990099009901, 6.9306930693069315, \"Friday\"], [45.0, 0.0, 114.0, 159.0, 3.0, 1.8839228407137265, 28.30188679245283, 0.0, 71.69811320754717, \"Saturday\"], [83.0, 0.0, 212.0, 295.0, 3.0, 1.0186012969887595, 28.135593220338983, 0.0, 71.86440677966101, \"Sunday\"], [0.0, 0.0, 0.0, 0.0, 0.0, 0.4174184434801665, null, null, null, \"Monday\"], [7.0, 199.0, 15.0, 221.0, 1.0, 0.4534840705401739, 3.167420814479638, 90.04524886877829, 6.787330316742081, \"Tuesday\"], [15.0, 441.0, 34.0, 490.0, 6.0, 1.2254692869020916, 3.061224489795918, 90.0, 6.938775510204081, \"Wednesday\"], [17.0, 516.0, 40.0, 573.0, 4.0, 0.6976166370692867, 2.966841186736475, 90.0523560209424, 6.980802792321117, \"Thursday\"], [16.0, 482.0, 37.0, 535.0, 7.0, 1.309238294328585, 2.990654205607477, 90.09345794392523, 6.915887850467289, \"Friday\"], [326.0, 0.0, 837.0, 1163.0, 2.0, 0.17190975180046164, 28.030954428202925, 0.0, 71.96904557179707, \"Saturday\"], [0.0, 0.0, 0.0, 0.0, 1.0, 0.0, null, null, null, \"Sunday\"], [11.0, 344.0, 27.0, 382.0, 3.0, 0.7858246488332267, 2.8795811518324608, 90.0523560209424, 7.068062827225131, \"Monday\"], [6.0, 194.0, 15.0, 215.0, 1.0, 0.4648057016799972, 2.7906976744186047, 90.23255813953487, 6.976744186046512, \"Tuesday\"], [17.0, 521.0, 40.0, 578.0, 6.0, 1.038079558320223, 2.941176470588235, 90.13840830449827, 6.920415224913495, \"Wednesday\"], [10.0, 315.0, 24.0, 349.0, 2.0, 0.5735305262229877, 2.865329512893983, 90.25787965616045, 6.876790830945559, \"Thursday\"], [17.0, 525.0, 41.0, 583.0, 5.0, 0.8575104640736908, 2.9159519725557463, 90.05145797598628, 7.032590051457976, \"Friday\"], [0.0, 0.0, 0.0, 0.0, 0.0, 0.0, null, null, null, \"Saturday\"], [39.0, 0.0, 101.0, 140.0, 1.0, 0.7118956392193798, 27.857142857142858, 0.0, 72.14285714285714, \"Sunday\"], [3.0, 97.0, 7.0, 107.0, 2.0, 1.8638685993679578, 2.803738317757009, 90.65420560747664, 6.5420560747663545, \"Monday\"], [2.0, 63.0, 5.0, 70.0, 1.0, 1.4200603183675768, 2.857142857142857, 90.0, 7.142857142857142, \"Tuesday\"], [19.0, 566.0, 44.0, 629.0, 8.0, 1.2720850108975261, 3.0206677265500796, 89.98410174880763, 6.995230524642289, \"Wednesday\"], [49.0, 1475.0, 115.0, 1639.0, 7.0, 0.42715529162584553, 2.989627821842587, 89.99389871873093, 7.0164734594264795, \"Thursday\"], [19.0, 572.0, 45.0, 636.0, 7.0, 1.1007325287696996, 2.9874213836477987, 89.937106918239, 7.0754716981132075, \"Friday\"], [0.0, 0.0, 0.0, 0.0, 0.0, 1.3817979428616054, null, null, null, \"Saturday\"], [50.0, 0.0, 130.0, 180.0, 3.0, 1.6634710072086276, 27.77777777777778, 0.0, 72.22222222222221, \"Sunday\"], [29.0, 857.0, 67.0, 953.0, 5.0, 0.5248391566311779, 3.04302203567681, 89.92654774396642, 7.0304302203567675, \"Monday\"], [23.0, 703.0, 55.0, 781.0, 5.0, 0.6399707018422246, 2.9449423815621, 90.01280409731113, 7.042253521126761, \"Tuesday\"], [3.0, 87.0, 7.0, 97.0, 2.0, 2.0589546595946717, 3.0927835051546393, 89.69072164948454, 7.216494845360824, \"Wednesday\"], [15.0, 463.0, 36.0, 514.0, 3.0, 0.5839129669879213, 2.9182879377431905, 90.07782101167315, 7.003891050583658, \"Thursday\"], [30.0, 899.0, 70.0, 999.0, 8.0, 0.8004693820394535, 3.003003003003003, 89.98998998999, 7.007007007007007, \"Friday\"], [0.0, 0.0, 0.0, 0.0, 2.0, 0.0, null, null, null, \"Saturday\"], [31.0, 0.0, 79.0, 110.0, 3.0, 2.73224, 28.18181818181818, 0.0, 71.81818181818181, \"Sunday\"], [17.0, 517.0, 40.0, 574.0, 3.0, 0.5226712066215669, 2.961672473867596, 90.06968641114983, 6.968641114982578, \"Monday\"], [6.0, 180.0, 14.0, 200.0, 3.0, 1.496831329970743, 3.0, 90.0, 7.000000000000001, \"Tuesday\"], [7.0, 221.0, 17.0, 245.0, 2.0, 0.816961910388662, 2.857142857142857, 90.20408163265307, 6.938775510204081, \"Wednesday\"], [46.0, 1386.0, 108.0, 1540.0, 8.0, 0.5195282981668286, 2.987012987012987, 90.0, 7.012987012987012, \"Thursday\"], [35.0, 1046.0, 81.0, 1162.0, 5.0, 0.4303154452733005, 3.0120481927710845, 90.0172117039587, 6.970740103270224, \"Friday\"], [136.0, 0.0, 350.0, 486.0, 1.0, 0.20572257050789122, 27.983539094650205, 0.0, 72.0164609053498, \"Saturday\"], [0.0, 0.0, 0.0, 0.0, 0.0, 1.2019801437941102, null, null, null, \"Sunday\"], [8.0, 237.0, 18.0, 263.0, 3.0, 1.1423194148914204, 3.041825095057034, 90.11406844106465, 6.844106463878327, \"Monday\"], [3.0, 99.0, 8.0, 110.0, 1.0, 0.9055026302120046, 2.727272727272727, 90.0, 7.2727272727272725, \"Tuesday\"], [13.0, 397.0, 31.0, 441.0, 7.0, 1.5881926612384032, 2.947845804988662, 90.02267573696146, 7.029478458049887, \"Wednesday\"], [40.0, 1190.0, 93.0, 1323.0, 6.0, 0.4534788369575127, 3.0234315948601664, 89.94708994708994, 7.029478458049887, \"Thursday\"], [57.0, 1719.0, 134.0, 1910.0, 8.0, 0.41892137543589336, 2.984293193717278, 90.0, 7.015706806282722, \"Friday\"], [50.0, 0.0, 130.0, 180.0, 1.0, 0.5549104770994409, 27.77777777777778, 0.0, 72.22222222222221, \"Saturday\"], [0.0, 0.0, 0.0, 0.0, 0.0, 0.0, null, null, null, \"Sunday\"], [3.0, 91.0, 7.0, 101.0, 1.0, 0.9855069410636517, 2.9702970297029703, 90.0990099009901, 6.9306930693069315, \"Monday\"], [17.0, 500.0, 39.0, 556.0, 3.0, 0.5391526508113847, 3.0575539568345325, 89.92805755395683, 7.014388489208632, \"Tuesday\"], [33.0, 1001.0, 78.0, 1112.0, 6.0, 0.539350420912499, 2.9676258992805753, 90.01798561151078, 7.014388489208632, \"Wednesday\"], [11.0, 340.0, 26.0, 377.0, 2.0, 0.52999027475621, 2.9177718832891246, 90.18567639257294, 6.896551724137931, \"Thursday\"], [13.0, 391.0, 30.0, 434.0, 2.0, 0.4613600828486449, 2.995391705069124, 90.09216589861751, 6.912442396313365, \"Friday\"], [320.0, 0.0, 823.0, 1143.0, 2.0, 0.17497891034662094, 27.99650043744532, 0.0, 72.00349956255468, \"Saturday\"], [12.0, 0.0, 30.0, 42.0, 1.0, 2.3722182962820053, 28.57142857142857, 0.0, 71.42857142857143, \"Sunday\"], [6.0, 181.0, 14.0, 201.0, 1.0, 0.4964275292701409, 2.9850746268656714, 90.04975124378109, 6.965174129353234, \"Monday\"], [13.0, 386.0, 30.0, 429.0, 7.0, 1.63048756149583, 3.0303030303030303, 89.97668997668997, 6.993006993006993, \"Tuesday\"], [30.0, 896.0, 70.0, 996.0, 20, 2.0078470564068573, 3.0120481927710845, 89.95983935742971, 7.028112449799197, \"Wednesday\"], [102.0, 3051.0, 237.0, 3390.0, 35, 1.0323769760158656, 3.0088495575221237, 90.0, 6.991150442477877, \"Thursday\"], [175.0, 5256.0, 409.0, 5840.0, 37, 0.633555749089334, 2.996575342465753, 90.0, 7.0034246575342465, \"Friday\"], [51.0, 0.0, 132.0, 183.0, 5.0, 2.73224, 27.86885245901639, 0.0, 72.1311475409836, \"Saturday\"], [210.0, 0.0, 540.0, 750.0, 30, 0.04025136883614211, 28.000000000000004, 0.0, 72.0, \"Sunday\"], [175.0, 5248.0, 408.0, 5831.0, 25, 0.42871482745485867, 3.0012004801920766, 90.00171497170297, 6.997084548104956, \"Monday\"], [133.0, 3978.0, 309.0, 4420.0, 21, 0.475062830925004, 3.009049773755656, 90.0, 6.990950226244344, \"Tuesday\"], [128.0, 3838.0, 299.0, 4265.0, 36, 0.8441406812913914, 3.0011723329425557, 89.98827667057444, 7.010550996483002, \"Wednesday\"], [48.0, 1447.0, 113.0, 1608.0, 25, 1.5543803037267405, 2.9850746268656714, 89.98756218905473, 7.027363184079602, \"Thursday\"], [16.0, 477.0, 37.0, 530.0, 9.0, 1.6985977809098025, 3.018867924528302, 90.0, 6.981132075471698, \"Friday\"]], \"hoverlabel\": {\"namelength\": 0}, \"hovertemplate\": \"Collection Date=%{x}<br>Count Total=%{customdata[3]}<br>Count Collected Exposure=%{customdata[0]}<br>Count Collected Surveillance=%{customdata[1]}<br>Count Collected Symptoms=%{customdata[2]}<br>Positive Total=%{customdata[4]}<br>Positive Rate (%)=%{customdata[5]}<br>Percentage Exposure=%{customdata[6]}<br>Percentage Surveillance=%{customdata[7]}<br>Percentage Symptoms=%{customdata[8]}<br>days=%{customdata[9]}\", \"legendgroup\": \"\", \"marker\": {\"color\": \"#636efa\"}, \"name\": \"\", \"offsetgroup\": \"\", \"orientation\": \"v\", \"showlegend\": false, \"textposition\": \"auto\", \"type\": \"bar\", \"x\": [\"2021-01-05T00:00:00\", \"2021-01-06T00:00:00\", \"2021-01-07T00:00:00\", \"2021-01-08T00:00:00\", \"2021-01-11T00:00:00\", \"2021-01-12T00:00:00\", \"2021-01-13T00:00:00\", \"2021-01-14T00:00:00\", \"2021-01-15T00:00:00\", \"2021-01-17T00:00:00\", \"2021-01-19T00:00:00\", \"2021-01-20T00:00:00\", \"2021-01-21T00:00:00\", \"2021-01-22T00:00:00\", \"2021-01-23T00:00:00\", \"2021-01-24T00:00:00\", \"2021-01-25T00:00:00\", \"2021-01-26T00:00:00\", \"2021-01-27T00:00:00\", \"2021-01-28T00:00:00\", \"2021-01-29T00:00:00\", \"2021-01-30T00:00:00\", \"2021-01-31T00:00:00\", \"2021-02-01T00:00:00\", \"2021-02-02T00:00:00\", \"2021-02-03T00:00:00\", \"2021-02-04T00:00:00\", \"2021-02-05T00:00:00\", \"2021-02-06T00:00:00\", \"2021-02-07T00:00:00\", \"2021-02-08T00:00:00\", \"2021-02-09T00:00:00\", \"2021-02-10T00:00:00\", \"2021-02-11T00:00:00\", \"2021-02-12T00:00:00\", \"2021-02-15T00:00:00\", \"2021-02-16T00:00:00\", \"2021-02-17T00:00:00\", \"2021-02-18T00:00:00\", \"2021-02-19T00:00:00\", \"2021-02-20T00:00:00\", \"2021-02-21T00:00:00\", \"2021-02-22T00:00:00\", \"2021-02-23T00:00:00\", \"2021-02-24T00:00:00\", \"2021-02-25T00:00:00\", \"2021-02-26T00:00:00\", \"2021-02-27T00:00:00\", \"2021-02-28T00:00:00\", \"2021-03-01T00:00:00\", \"2021-03-02T00:00:00\", \"2021-03-03T00:00:00\", \"2021-03-04T00:00:00\", \"2021-03-05T00:00:00\", \"2021-03-06T00:00:00\", \"2021-03-07T00:00:00\", \"2021-03-08T00:00:00\", \"2021-03-09T00:00:00\", \"2021-03-10T00:00:00\", \"2021-03-11T00:00:00\", \"2021-03-12T00:00:00\", \"2021-03-13T00:00:00\", \"2021-03-14T00:00:00\", \"2021-03-15T00:00:00\", \"2021-03-16T00:00:00\", \"2021-03-17T00:00:00\", \"2021-03-18T00:00:00\", \"2021-03-19T00:00:00\", \"2021-03-20T00:00:00\", \"2021-03-22T00:00:00\", \"2021-03-23T00:00:00\", \"2021-03-24T00:00:00\", \"2021-03-25T00:00:00\", \"2021-03-26T00:00:00\", \"2021-03-29T00:00:00\", \"2021-03-30T00:00:00\", \"2021-03-31T00:00:00\", \"2021-04-01T00:00:00\", \"2021-04-02T00:00:00\", \"2021-04-03T00:00:00\", \"2021-04-04T00:00:00\", \"2021-04-05T00:00:00\", \"2021-04-06T00:00:00\", \"2021-04-07T00:00:00\", \"2021-04-08T00:00:00\", \"2021-04-09T00:00:00\", \"2021-04-10T00:00:00\", \"2021-04-12T00:00:00\", \"2021-04-13T00:00:00\", \"2021-04-14T00:00:00\", \"2021-04-15T00:00:00\", \"2021-04-16T00:00:00\", \"2021-04-17T00:00:00\", \"2021-04-18T00:00:00\", \"2021-04-19T00:00:00\", \"2021-04-20T00:00:00\", \"2021-04-21T00:00:00\", \"2021-04-22T00:00:00\", \"2021-04-23T00:00:00\", \"2021-04-24T00:00:00\", \"2021-04-25T00:00:00\", \"2021-04-26T00:00:00\", \"2021-04-27T00:00:00\", \"2021-04-28T00:00:00\", \"2021-04-29T00:00:00\", \"2021-04-30T00:00:00\", \"2021-05-01T00:00:00\", \"2021-05-03T00:00:00\", \"2021-05-04T00:00:00\", \"2021-05-05T00:00:00\", \"2021-05-06T00:00:00\", \"2021-05-07T00:00:00\", \"2021-05-08T00:00:00\", \"2021-05-09T00:00:00\", \"2021-05-10T00:00:00\", \"2021-05-11T00:00:00\", \"2021-05-12T00:00:00\", \"2021-05-13T00:00:00\", \"2021-05-14T00:00:00\", \"2021-05-17T00:00:00\", \"2021-05-18T00:00:00\", \"2021-05-19T00:00:00\", \"2021-05-20T00:00:00\", \"2021-05-21T00:00:00\", \"2021-05-22T00:00:00\", \"2021-05-24T00:00:00\", \"2021-05-25T00:00:00\", \"2021-05-26T00:00:00\", \"2021-05-27T00:00:00\", \"2021-05-28T00:00:00\", \"2021-06-01T00:00:00\", \"2021-06-02T00:00:00\", \"2021-06-03T00:00:00\", \"2021-06-04T00:00:00\", \"2021-06-07T00:00:00\", \"2021-06-08T00:00:00\", \"2021-06-09T00:00:00\", \"2021-06-10T00:00:00\", \"2021-06-11T00:00:00\", \"2021-06-14T00:00:00\", \"2021-06-15T00:00:00\", \"2021-06-16T00:00:00\", \"2021-06-17T00:00:00\", \"2021-06-18T00:00:00\", \"2021-06-21T00:00:00\", \"2021-06-22T00:00:00\", \"2021-06-23T00:00:00\", \"2021-06-24T00:00:00\", \"2021-06-25T00:00:00\", \"2021-06-29T00:00:00\", \"2021-06-30T00:00:00\", \"2021-07-01T00:00:00\", \"2021-07-02T00:00:00\", \"2021-07-06T00:00:00\", \"2021-07-07T00:00:00\", \"2021-07-08T00:00:00\", \"2021-07-09T00:00:00\", \"2021-07-12T00:00:00\", \"2021-07-13T00:00:00\", \"2021-07-14T00:00:00\", \"2021-07-15T00:00:00\", \"2021-07-16T00:00:00\", \"2021-07-19T00:00:00\", \"2021-07-20T00:00:00\", \"2021-07-21T00:00:00\", \"2021-07-22T00:00:00\", \"2021-07-23T00:00:00\", \"2021-07-26T00:00:00\", \"2021-07-27T00:00:00\", \"2021-07-28T00:00:00\", \"2021-07-29T00:00:00\", \"2021-07-30T00:00:00\", \"2021-08-02T00:00:00\", \"2021-08-03T00:00:00\", \"2021-08-04T00:00:00\", \"2021-08-05T00:00:00\", \"2021-08-06T00:00:00\", \"2021-08-09T00:00:00\", \"2021-08-10T00:00:00\", \"2021-08-11T00:00:00\", \"2021-08-12T00:00:00\", \"2021-08-13T00:00:00\", \"2021-08-16T00:00:00\", \"2021-08-17T00:00:00\", \"2021-08-18T00:00:00\", \"2021-08-19T00:00:00\", \"2021-08-20T00:00:00\", \"2021-08-21T00:00:00\", \"2021-08-22T00:00:00\", \"2021-08-23T00:00:00\", \"2021-08-24T00:00:00\", \"2021-08-25T00:00:00\", \"2021-08-26T00:00:00\", \"2021-08-27T00:00:00\", \"2021-08-28T00:00:00\", \"2021-08-29T00:00:00\", \"2021-08-30T00:00:00\", \"2021-08-31T00:00:00\", \"2021-09-01T00:00:00\", \"2021-09-02T00:00:00\", \"2021-09-03T00:00:00\", \"2021-09-04T00:00:00\", \"2021-09-05T00:00:00\", \"2021-09-07T00:00:00\", \"2021-09-08T00:00:00\", \"2021-09-09T00:00:00\", \"2021-09-10T00:00:00\", \"2021-09-11T00:00:00\", \"2021-09-12T00:00:00\", \"2021-09-13T00:00:00\", \"2021-09-14T00:00:00\", \"2021-09-15T00:00:00\", \"2021-09-16T00:00:00\", \"2021-09-17T00:00:00\", \"2021-09-18T00:00:00\", \"2021-09-19T00:00:00\", \"2021-09-20T00:00:00\", \"2021-09-21T00:00:00\", \"2021-09-22T00:00:00\", \"2021-09-23T00:00:00\", \"2021-09-24T00:00:00\", \"2021-09-25T00:00:00\", \"2021-09-26T00:00:00\", \"2021-09-27T00:00:00\", \"2021-09-28T00:00:00\", \"2021-09-29T00:00:00\", \"2021-09-30T00:00:00\", \"2021-10-01T00:00:00\", \"2021-10-02T00:00:00\", \"2021-10-03T00:00:00\", \"2021-10-04T00:00:00\", \"2021-10-05T00:00:00\", \"2021-10-06T00:00:00\", \"2021-10-07T00:00:00\", \"2021-10-08T00:00:00\", \"2021-10-09T00:00:00\", \"2021-10-10T00:00:00\", \"2021-10-11T00:00:00\", \"2021-10-12T00:00:00\", \"2021-10-13T00:00:00\", \"2021-10-14T00:00:00\", \"2021-10-15T00:00:00\", \"2021-10-16T00:00:00\", \"2021-10-17T00:00:00\", \"2021-10-18T00:00:00\", \"2021-10-19T00:00:00\", \"2021-10-20T00:00:00\", \"2021-10-21T00:00:00\", \"2021-10-22T00:00:00\", \"2021-10-23T00:00:00\", \"2021-10-24T00:00:00\", \"2021-10-25T00:00:00\", \"2021-10-26T00:00:00\", \"2021-10-27T00:00:00\", \"2021-10-28T00:00:00\", \"2021-10-29T00:00:00\", \"2021-10-30T00:00:00\", \"2021-10-31T00:00:00\", \"2021-11-01T00:00:00\", \"2021-11-02T00:00:00\", \"2021-11-03T00:00:00\", \"2021-11-04T00:00:00\", \"2021-11-05T00:00:00\", \"2021-11-06T00:00:00\", \"2021-11-07T00:00:00\", \"2021-11-08T00:00:00\", \"2021-11-09T00:00:00\", \"2021-11-10T00:00:00\", \"2021-11-11T00:00:00\", \"2021-11-12T00:00:00\", \"2021-11-13T00:00:00\", \"2021-11-14T00:00:00\", \"2021-11-15T00:00:00\", \"2021-11-16T00:00:00\", \"2021-11-17T00:00:00\", \"2021-11-18T00:00:00\", \"2021-11-19T00:00:00\", \"2021-11-20T00:00:00\", \"2021-11-21T00:00:00\", \"2021-11-22T00:00:00\", \"2021-11-23T00:00:00\", \"2021-11-24T00:00:00\", \"2021-11-25T00:00:00\", \"2021-11-26T00:00:00\", \"2021-11-27T00:00:00\", \"2021-11-28T00:00:00\", \"2021-11-29T00:00:00\", \"2021-11-30T00:00:00\", \"2021-12-01T00:00:00\", \"2021-12-02T00:00:00\", \"2021-12-03T00:00:00\", \"2021-12-04T00:00:00\", \"2021-12-05T00:00:00\", \"2021-12-06T00:00:00\", \"2021-12-07T00:00:00\", \"2021-12-08T00:00:00\", \"2021-12-09T00:00:00\", \"2021-12-10T00:00:00\", \"2021-12-11T00:00:00\", \"2021-12-12T00:00:00\", \"2021-12-13T00:00:00\", \"2021-12-14T00:00:00\", \"2021-12-15T00:00:00\", \"2021-12-16T00:00:00\", \"2021-12-17T00:00:00\", \"2021-12-18T00:00:00\", \"2021-12-19T00:00:00\", \"2021-12-20T00:00:00\", \"2021-12-21T00:00:00\", \"2021-12-22T00:00:00\", \"2021-12-23T00:00:00\", \"2021-12-24T00:00:00\", \"2021-12-25T00:00:00\", \"2021-12-26T00:00:00\", \"2021-12-27T00:00:00\", \"2021-12-28T00:00:00\", \"2021-12-29T00:00:00\", \"2021-12-30T00:00:00\", \"2021-12-31T00:00:00\"], \"xaxis\": \"x\", \"y\": [1692.0, 771.0, 616.0, 766.0, 1498.0, 1378.0, 1289.0, 1532.0, 1638.0, 1.0, 4025.0, 3077.0, 1993.0, 3070.0, 3.0, 1.0, 3469.0, 3436.0, 2312.0, 2512.0, 3176.0, 1.0, 1.0, 4106.0, 3514.0, 2402.0, 2668.0, 3120.0, 2.0, 1.0, 3761.0, 3610.0, 2382.0, 2531.0, 2965.0, 104.0, 5090.0, 2777.0, 2192.0, 3272.0, 3.0, 1.0, 3207.0, 3477.0, 2431.0, 2164.0, 2968.0, 7.0, 1.0, 3230.0, 3381.0, 2275.0, 2443.0, 2925.0, 27.0, 2.0, 3079.0, 3423.0, 2258.0, 2342.0, 2949.0, 33.0, 1.0, 3081.0, 3469.0, 2284.0, 2159.0, 2571.0, 6.0, 1675.0, 1644.0, 1329.0, 1537.0, 197.0, 3748.0, 2646.0, 1852.0, 2002.0, 2169.0, 4.0, 1.0, 2711.0, 2475.0, 1475.0, 1613.0, 1929.0, 3.0, 2458.0, 2136.0, 1385.0, 1513.0, 1791.0, 2.0, 1.0, 2178.0, 1882.0, 1260.0, 1430.0, 1704.0, 7.0, 1.0, 2026.0, 1788.0, 1127.0, 1162.0, 1470.0, 1.0, 1399.0, 1439.0, 890.0, 901.0, 1387.0, 6.0, 4.0, 1230.0, 1135.0, 931.0, 1007.0, 1006.0, 974.0, 734.0, 542.0, 491.0, 324.0, 1.0, 547.0, 319.0, 301.0, 274.0, 247.0, 471.0, 335.0, 256.0, 234.0, 417.0, 220.0, 256.0, 224.0, 230.0, 422.0, 231.0, 359.0, 253.0, 211.0, 334.0, 236.0, 279.0, 214.0, 176.0, 343.0, 361.0, 249.0, 208.0, 348.0, 374.0, 308.0, 246.0, 480.0, 335.0, 445.0, 410.0, 337.0, 592.0, 396.0, 480.0, 416.0, 408.0, 612.0, 419.0, 609.0, 509.0, 505.0, 903.0, 614.0, 713.0, 762.0, 796.0, 1646.0, 957.0, 1152.0, 1119.0, 1392.0, 4544.0, 3796.0, 3811.0, 1720.0, 1885.0, 664.0, 1453.0, 3834.0, 2731.0, 1979.0, 1603.0, 1457.0, 183.0, 123.0, 2388.0, 1954.0, 1859.0, 1718.0, 1868.0, 163.0, 140.0, 3023.0, 2946.0, 2349.0, 2150.0, 124.0, 134.0, 2696.0, 2572.0, 2303.0, 2086.0, 1952.0, 116.0, 100.0, 2483.0, 2189.0, 2002.0, 1743.0, 1468.0, 41.0, 43.0, 2033.0, 1660.0, 1766.0, 1467.0, 1232.0, 43.0, 61.0, 2145.0, 2076.0, 1805.0, 1426.0, 1428.0, 35.0, 25.0, 2134.0, 1959.0, 1688.0, 1451.0, 1349.0, 42.0, 47.0, 1991.0, 1715.0, 24.0, 582.0, 559.0, 144.0, 257.0, 323.0, 421.0, 524.0, 384.0, 202.0, 159.0, 295.0, 0.0, 221.0, 490.0, 573.0, 535.0, 1163.0, 0.0, 382.0, 215.0, 578.0, 349.0, 583.0, 0.0, 140.0, 107.0, 70.0, 629.0, 1639.0, 636.0, 0.0, 180.0, 953.0, 781.0, 97.0, 514.0, 999.0, 0.0, 110.0, 574.0, 200.0, 245.0, 1540.0, 1162.0, 486.0, 0.0, 263.0, 110.0, 441.0, 1323.0, 1910.0, 180.0, 0.0, 101.0, 556.0, 1112.0, 377.0, 434.0, 1143.0, 42.0, 201.0, 429.0, 996.0, 3390.0, 5840.0, 183.0, 750.0, 5831.0, 4420.0, 4265.0, 1608.0, 530.0], \"yaxis\": \"y\"}],\n",
              "                        {\"barmode\": \"relative\", \"legend\": {\"tracegroupgap\": 0}, \"template\": {\"data\": {\"bar\": [{\"error_x\": {\"color\": \"#2a3f5f\"}, \"error_y\": {\"color\": \"#2a3f5f\"}, \"marker\": {\"line\": {\"color\": \"#E5ECF6\", \"width\": 0.5}}, \"type\": \"bar\"}], \"barpolar\": [{\"marker\": {\"line\": {\"color\": \"#E5ECF6\", \"width\": 0.5}}, \"type\": \"barpolar\"}], \"carpet\": [{\"aaxis\": {\"endlinecolor\": \"#2a3f5f\", \"gridcolor\": \"white\", \"linecolor\": \"white\", \"minorgridcolor\": \"white\", \"startlinecolor\": \"#2a3f5f\"}, \"baxis\": {\"endlinecolor\": \"#2a3f5f\", \"gridcolor\": \"white\", \"linecolor\": \"white\", \"minorgridcolor\": \"white\", \"startlinecolor\": \"#2a3f5f\"}, \"type\": \"carpet\"}], \"choropleth\": [{\"colorbar\": {\"outlinewidth\": 0, \"ticks\": \"\"}, \"type\": \"choropleth\"}], \"contour\": [{\"colorbar\": {\"outlinewidth\": 0, \"ticks\": \"\"}, \"colorscale\": [[0.0, \"#0d0887\"], [0.1111111111111111, \"#46039f\"], [0.2222222222222222, \"#7201a8\"], [0.3333333333333333, \"#9c179e\"], [0.4444444444444444, \"#bd3786\"], [0.5555555555555556, \"#d8576b\"], [0.6666666666666666, \"#ed7953\"], [0.7777777777777778, \"#fb9f3a\"], [0.8888888888888888, \"#fdca26\"], [1.0, \"#f0f921\"]], \"type\": \"contour\"}], \"contourcarpet\": [{\"colorbar\": {\"outlinewidth\": 0, \"ticks\": \"\"}, \"type\": \"contourcarpet\"}], \"heatmap\": [{\"colorbar\": {\"outlinewidth\": 0, \"ticks\": \"\"}, \"colorscale\": [[0.0, \"#0d0887\"], [0.1111111111111111, \"#46039f\"], [0.2222222222222222, \"#7201a8\"], [0.3333333333333333, \"#9c179e\"], [0.4444444444444444, \"#bd3786\"], [0.5555555555555556, \"#d8576b\"], [0.6666666666666666, \"#ed7953\"], [0.7777777777777778, \"#fb9f3a\"], [0.8888888888888888, \"#fdca26\"], [1.0, \"#f0f921\"]], \"type\": \"heatmap\"}], \"heatmapgl\": [{\"colorbar\": {\"outlinewidth\": 0, \"ticks\": \"\"}, \"colorscale\": [[0.0, \"#0d0887\"], [0.1111111111111111, \"#46039f\"], [0.2222222222222222, \"#7201a8\"], [0.3333333333333333, \"#9c179e\"], [0.4444444444444444, \"#bd3786\"], [0.5555555555555556, \"#d8576b\"], [0.6666666666666666, \"#ed7953\"], [0.7777777777777778, \"#fb9f3a\"], [0.8888888888888888, \"#fdca26\"], [1.0, \"#f0f921\"]], \"type\": \"heatmapgl\"}], \"histogram\": [{\"marker\": {\"colorbar\": {\"outlinewidth\": 0, \"ticks\": \"\"}}, \"type\": \"histogram\"}], \"histogram2d\": [{\"colorbar\": {\"outlinewidth\": 0, \"ticks\": \"\"}, \"colorscale\": [[0.0, \"#0d0887\"], [0.1111111111111111, \"#46039f\"], [0.2222222222222222, \"#7201a8\"], [0.3333333333333333, \"#9c179e\"], [0.4444444444444444, \"#bd3786\"], [0.5555555555555556, \"#d8576b\"], [0.6666666666666666, \"#ed7953\"], [0.7777777777777778, \"#fb9f3a\"], [0.8888888888888888, \"#fdca26\"], [1.0, \"#f0f921\"]], \"type\": \"histogram2d\"}], \"histogram2dcontour\": [{\"colorbar\": {\"outlinewidth\": 0, \"ticks\": \"\"}, \"colorscale\": [[0.0, \"#0d0887\"], [0.1111111111111111, \"#46039f\"], [0.2222222222222222, \"#7201a8\"], [0.3333333333333333, \"#9c179e\"], [0.4444444444444444, \"#bd3786\"], [0.5555555555555556, \"#d8576b\"], [0.6666666666666666, \"#ed7953\"], [0.7777777777777778, \"#fb9f3a\"], [0.8888888888888888, \"#fdca26\"], [1.0, \"#f0f921\"]], \"type\": \"histogram2dcontour\"}], \"mesh3d\": [{\"colorbar\": {\"outlinewidth\": 0, \"ticks\": \"\"}, \"type\": \"mesh3d\"}], \"parcoords\": [{\"line\": {\"colorbar\": {\"outlinewidth\": 0, \"ticks\": \"\"}}, \"type\": \"parcoords\"}], \"pie\": [{\"automargin\": true, \"type\": \"pie\"}], \"scatter\": [{\"marker\": {\"colorbar\": {\"outlinewidth\": 0, \"ticks\": \"\"}}, \"type\": \"scatter\"}], \"scatter3d\": [{\"line\": {\"colorbar\": {\"outlinewidth\": 0, \"ticks\": \"\"}}, \"marker\": {\"colorbar\": {\"outlinewidth\": 0, \"ticks\": \"\"}}, \"type\": \"scatter3d\"}], \"scattercarpet\": [{\"marker\": {\"colorbar\": {\"outlinewidth\": 0, \"ticks\": \"\"}}, \"type\": \"scattercarpet\"}], \"scattergeo\": [{\"marker\": {\"colorbar\": {\"outlinewidth\": 0, \"ticks\": \"\"}}, \"type\": \"scattergeo\"}], \"scattergl\": [{\"marker\": {\"colorbar\": {\"outlinewidth\": 0, \"ticks\": \"\"}}, \"type\": \"scattergl\"}], \"scattermapbox\": [{\"marker\": {\"colorbar\": {\"outlinewidth\": 0, \"ticks\": \"\"}}, \"type\": \"scattermapbox\"}], \"scatterpolar\": [{\"marker\": {\"colorbar\": {\"outlinewidth\": 0, \"ticks\": \"\"}}, \"type\": \"scatterpolar\"}], \"scatterpolargl\": [{\"marker\": {\"colorbar\": {\"outlinewidth\": 0, \"ticks\": \"\"}}, \"type\": \"scatterpolargl\"}], \"scatterternary\": [{\"marker\": {\"colorbar\": {\"outlinewidth\": 0, \"ticks\": \"\"}}, \"type\": \"scatterternary\"}], \"surface\": [{\"colorbar\": {\"outlinewidth\": 0, \"ticks\": \"\"}, \"colorscale\": [[0.0, \"#0d0887\"], [0.1111111111111111, \"#46039f\"], [0.2222222222222222, \"#7201a8\"], [0.3333333333333333, \"#9c179e\"], [0.4444444444444444, \"#bd3786\"], [0.5555555555555556, \"#d8576b\"], [0.6666666666666666, \"#ed7953\"], [0.7777777777777778, \"#fb9f3a\"], [0.8888888888888888, \"#fdca26\"], [1.0, \"#f0f921\"]], \"type\": \"surface\"}], \"table\": [{\"cells\": {\"fill\": {\"color\": \"#EBF0F8\"}, \"line\": {\"color\": \"white\"}}, \"header\": {\"fill\": {\"color\": \"#C8D4E3\"}, \"line\": {\"color\": \"white\"}}, \"type\": \"table\"}]}, \"layout\": {\"annotationdefaults\": {\"arrowcolor\": \"#2a3f5f\", \"arrowhead\": 0, \"arrowwidth\": 1}, \"coloraxis\": {\"colorbar\": {\"outlinewidth\": 0, \"ticks\": \"\"}}, \"colorscale\": {\"diverging\": [[0, \"#8e0152\"], [0.1, \"#c51b7d\"], [0.2, \"#de77ae\"], [0.3, \"#f1b6da\"], [0.4, \"#fde0ef\"], [0.5, \"#f7f7f7\"], [0.6, \"#e6f5d0\"], [0.7, \"#b8e186\"], [0.8, \"#7fbc41\"], [0.9, \"#4d9221\"], [1, \"#276419\"]], \"sequential\": [[0.0, \"#0d0887\"], [0.1111111111111111, \"#46039f\"], [0.2222222222222222, \"#7201a8\"], [0.3333333333333333, \"#9c179e\"], [0.4444444444444444, \"#bd3786\"], [0.5555555555555556, \"#d8576b\"], [0.6666666666666666, \"#ed7953\"], [0.7777777777777778, \"#fb9f3a\"], [0.8888888888888888, \"#fdca26\"], [1.0, \"#f0f921\"]], \"sequentialminus\": [[0.0, \"#0d0887\"], [0.1111111111111111, \"#46039f\"], [0.2222222222222222, \"#7201a8\"], [0.3333333333333333, \"#9c179e\"], [0.4444444444444444, \"#bd3786\"], [0.5555555555555556, \"#d8576b\"], [0.6666666666666666, \"#ed7953\"], [0.7777777777777778, \"#fb9f3a\"], [0.8888888888888888, \"#fdca26\"], [1.0, \"#f0f921\"]]}, \"colorway\": [\"#636efa\", \"#EF553B\", \"#00cc96\", \"#ab63fa\", \"#FFA15A\", \"#19d3f3\", \"#FF6692\", \"#B6E880\", \"#FF97FF\", \"#FECB52\"], \"font\": {\"color\": \"#2a3f5f\"}, \"geo\": {\"bgcolor\": \"white\", \"lakecolor\": \"white\", \"landcolor\": \"#E5ECF6\", \"showlakes\": true, \"showland\": true, \"subunitcolor\": \"white\"}, \"hoverlabel\": {\"align\": \"left\"}, \"hovermode\": \"closest\", \"mapbox\": {\"style\": \"light\"}, \"paper_bgcolor\": \"white\", \"plot_bgcolor\": \"#E5ECF6\", \"polar\": {\"angularaxis\": {\"gridcolor\": \"white\", \"linecolor\": \"white\", \"ticks\": \"\"}, \"bgcolor\": \"#E5ECF6\", \"radialaxis\": {\"gridcolor\": \"white\", \"linecolor\": \"white\", \"ticks\": \"\"}}, \"scene\": {\"xaxis\": {\"backgroundcolor\": \"#E5ECF6\", \"gridcolor\": \"white\", \"gridwidth\": 2, \"linecolor\": \"white\", \"showbackground\": true, \"ticks\": \"\", \"zerolinecolor\": \"white\"}, \"yaxis\": {\"backgroundcolor\": \"#E5ECF6\", \"gridcolor\": \"white\", \"gridwidth\": 2, \"linecolor\": \"white\", \"showbackground\": true, \"ticks\": \"\", \"zerolinecolor\": \"white\"}, \"zaxis\": {\"backgroundcolor\": \"#E5ECF6\", \"gridcolor\": \"white\", \"gridwidth\": 2, \"linecolor\": \"white\", \"showbackground\": true, \"ticks\": \"\", \"zerolinecolor\": \"white\"}}, \"shapedefaults\": {\"line\": {\"color\": \"#2a3f5f\"}}, \"ternary\": {\"aaxis\": {\"gridcolor\": \"white\", \"linecolor\": \"white\", \"ticks\": \"\"}, \"baxis\": {\"gridcolor\": \"white\", \"linecolor\": \"white\", \"ticks\": \"\"}, \"bgcolor\": \"#E5ECF6\", \"caxis\": {\"gridcolor\": \"white\", \"linecolor\": \"white\", \"ticks\": \"\"}}, \"title\": {\"x\": 0.05}, \"xaxis\": {\"automargin\": true, \"gridcolor\": \"white\", \"linecolor\": \"white\", \"ticks\": \"\", \"title\": {\"standoff\": 15}, \"zerolinecolor\": \"white\", \"zerolinewidth\": 2}, \"yaxis\": {\"automargin\": true, \"gridcolor\": \"white\", \"linecolor\": \"white\", \"ticks\": \"\", \"title\": {\"standoff\": 15}, \"zerolinecolor\": \"white\", \"zerolinewidth\": 2}}}, \"title\": {\"text\": \"Total Testing\"}, \"xaxis\": {\"anchor\": \"y\", \"domain\": [0.0, 1.0], \"title\": {\"text\": \"Collection Date\"}}, \"yaxis\": {\"anchor\": \"x\", \"domain\": [0.0, 1.0], \"title\": {\"text\": \"Count Total\"}}},\n",
              "                        {\"responsive\": true}\n",
              "                    ).then(function(){\n",
              "                            \n",
              "var gd = document.getElementById('570b8639-3874-415c-ab24-c8cd16f7e8fc');\n",
              "var x = new MutationObserver(function (mutations, observer) {{\n",
              "        var display = window.getComputedStyle(gd).display;\n",
              "        if (!display || display === 'none') {{\n",
              "            console.log([gd, 'removed!']);\n",
              "            Plotly.purge(gd);\n",
              "            observer.disconnect();\n",
              "        }}\n",
              "}});\n",
              "\n",
              "// Listen for the removal of the full notebook cells\n",
              "var notebookContainer = gd.closest('#notebook-container');\n",
              "if (notebookContainer) {{\n",
              "    x.observe(notebookContainer, {childList: true});\n",
              "}}\n",
              "\n",
              "// Listen for the clearing of the current output cell\n",
              "var outputEl = gd.closest('.output');\n",
              "if (outputEl) {{\n",
              "    x.observe(outputEl, {childList: true});\n",
              "}}\n",
              "\n",
              "                        })\n",
              "                };\n",
              "                \n",
              "            </script>\n",
              "        </div>\n",
              "</body>\n",
              "</html>"
            ]
          },
          "metadata": {}
        }
      ]
    },
    {
      "cell_type": "markdown",
      "metadata": {
        "id": "nNV4YUUCLjjM"
      },
      "source": [
        "Thus, we sucessfully predict the number of people getting tested for each kind of test."
      ]
    },
    {
      "cell_type": "markdown",
      "metadata": {
        "id": "yN1ulewyzlHg"
      },
      "source": [
        "# **Data for Simio**"
      ]
    },
    {
      "cell_type": "code",
      "metadata": {
        "id": "YkznIZMgoe4g",
        "colab": {
          "base_uri": "https://localhost:8080/",
          "height": 221
        },
        "outputId": "0754aab1-12cf-41d0-abd0-9d48f6b409c5"
      },
      "source": [
        "# Displaying data\n",
        "\n",
        "df_collect_total_1year.head()"
      ],
      "execution_count": 47,
      "outputs": [
        {
          "output_type": "execute_result",
          "data": {
            "text/html": [
              "<div>\n",
              "<style scoped>\n",
              "    .dataframe tbody tr th:only-of-type {\n",
              "        vertical-align: middle;\n",
              "    }\n",
              "\n",
              "    .dataframe tbody tr th {\n",
              "        vertical-align: top;\n",
              "    }\n",
              "\n",
              "    .dataframe thead th {\n",
              "        text-align: right;\n",
              "    }\n",
              "</style>\n",
              "<table border=\"1\" class=\"dataframe\">\n",
              "  <thead>\n",
              "    <tr style=\"text-align: right;\">\n",
              "      <th></th>\n",
              "      <th>Collection Date</th>\n",
              "      <th>Count Collected Exposure</th>\n",
              "      <th>Count Collected Surveillance</th>\n",
              "      <th>Count Collected Symptoms</th>\n",
              "      <th>Count Total</th>\n",
              "      <th>Positive Total</th>\n",
              "      <th>Positive Rate (%)</th>\n",
              "      <th>Percentage Exposure</th>\n",
              "      <th>Percentage Surveillance</th>\n",
              "      <th>Percentage Symptoms</th>\n",
              "      <th>days</th>\n",
              "    </tr>\n",
              "  </thead>\n",
              "  <tbody>\n",
              "    <tr>\n",
              "      <th>0</th>\n",
              "      <td>2021-01-05</td>\n",
              "      <td>25.0</td>\n",
              "      <td>1588.0</td>\n",
              "      <td>79.0</td>\n",
              "      <td>1692.0</td>\n",
              "      <td>1</td>\n",
              "      <td>0.059102</td>\n",
              "      <td>1.477541</td>\n",
              "      <td>93.853428</td>\n",
              "      <td>4.669031</td>\n",
              "      <td>Tuesday</td>\n",
              "    </tr>\n",
              "    <tr>\n",
              "      <th>1</th>\n",
              "      <td>2021-01-06</td>\n",
              "      <td>5.0</td>\n",
              "      <td>728.0</td>\n",
              "      <td>38.0</td>\n",
              "      <td>771.0</td>\n",
              "      <td>11</td>\n",
              "      <td>1.426719</td>\n",
              "      <td>0.648508</td>\n",
              "      <td>94.422827</td>\n",
              "      <td>4.928664</td>\n",
              "      <td>Wednesday</td>\n",
              "    </tr>\n",
              "    <tr>\n",
              "      <th>2</th>\n",
              "      <td>2021-01-07</td>\n",
              "      <td>7.0</td>\n",
              "      <td>580.0</td>\n",
              "      <td>29.0</td>\n",
              "      <td>616.0</td>\n",
              "      <td>13</td>\n",
              "      <td>2.110390</td>\n",
              "      <td>1.136364</td>\n",
              "      <td>94.155844</td>\n",
              "      <td>4.707792</td>\n",
              "      <td>Thursday</td>\n",
              "    </tr>\n",
              "    <tr>\n",
              "      <th>3</th>\n",
              "      <td>2021-01-08</td>\n",
              "      <td>22.0</td>\n",
              "      <td>718.0</td>\n",
              "      <td>26.0</td>\n",
              "      <td>766.0</td>\n",
              "      <td>14</td>\n",
              "      <td>1.827676</td>\n",
              "      <td>2.872063</td>\n",
              "      <td>93.733681</td>\n",
              "      <td>3.394256</td>\n",
              "      <td>Friday</td>\n",
              "    </tr>\n",
              "    <tr>\n",
              "      <th>4</th>\n",
              "      <td>2021-01-11</td>\n",
              "      <td>33.0</td>\n",
              "      <td>1411.0</td>\n",
              "      <td>54.0</td>\n",
              "      <td>1498.0</td>\n",
              "      <td>1</td>\n",
              "      <td>0.066756</td>\n",
              "      <td>2.202937</td>\n",
              "      <td>94.192256</td>\n",
              "      <td>3.604806</td>\n",
              "      <td>Monday</td>\n",
              "    </tr>\n",
              "  </tbody>\n",
              "</table>\n",
              "</div>"
            ],
            "text/plain": [
              "  Collection Date  Count Collected Exposure  ...  Percentage Symptoms       days\n",
              "0      2021-01-05                      25.0  ...             4.669031    Tuesday\n",
              "1      2021-01-06                       5.0  ...             4.928664  Wednesday\n",
              "2      2021-01-07                       7.0  ...             4.707792   Thursday\n",
              "3      2021-01-08                      22.0  ...             3.394256     Friday\n",
              "4      2021-01-11                      33.0  ...             3.604806     Monday\n",
              "\n",
              "[5 rows x 11 columns]"
            ]
          },
          "metadata": {},
          "execution_count": 47
        }
      ]
    },
    {
      "cell_type": "markdown",
      "metadata": {
        "id": "yQ8kFEJIsJmN"
      },
      "source": [
        "The dataframe below is for the stopping arrival condition in simio for each day. In simio, we want to only simuulate from future dataframe."
      ]
    },
    {
      "cell_type": "code",
      "metadata": {
        "colab": {
          "base_uri": "https://localhost:8080/",
          "height": 204
        },
        "id": "UwotMfVuqyNB",
        "outputId": "a68e334f-1361-475a-a1c0-b7520524d6dc"
      },
      "source": [
        "# Constructing dataframe for simio for surveillance testing\n",
        "\n",
        "df_surv = df_collect_total_1year[['Collection Date','Count Collected Surveillance']]\n",
        "df_surv = df_surv[df_surv['Collection Date'] >= '2021-10-21'].reset_index(drop = True)\n",
        "df_surv.head()"
      ],
      "execution_count": 55,
      "outputs": [
        {
          "output_type": "execute_result",
          "data": {
            "text/html": [
              "<div>\n",
              "<style scoped>\n",
              "    .dataframe tbody tr th:only-of-type {\n",
              "        vertical-align: middle;\n",
              "    }\n",
              "\n",
              "    .dataframe tbody tr th {\n",
              "        vertical-align: top;\n",
              "    }\n",
              "\n",
              "    .dataframe thead th {\n",
              "        text-align: right;\n",
              "    }\n",
              "</style>\n",
              "<table border=\"1\" class=\"dataframe\">\n",
              "  <thead>\n",
              "    <tr style=\"text-align: right;\">\n",
              "      <th></th>\n",
              "      <th>Collection Date</th>\n",
              "      <th>Count Collected Surveillance</th>\n",
              "    </tr>\n",
              "  </thead>\n",
              "  <tbody>\n",
              "    <tr>\n",
              "      <th>0</th>\n",
              "      <td>2021-10-21</td>\n",
              "      <td>524.0</td>\n",
              "    </tr>\n",
              "    <tr>\n",
              "      <th>1</th>\n",
              "      <td>2021-10-22</td>\n",
              "      <td>503.0</td>\n",
              "    </tr>\n",
              "    <tr>\n",
              "      <th>2</th>\n",
              "      <td>2021-10-23</td>\n",
              "      <td>0.0</td>\n",
              "    </tr>\n",
              "    <tr>\n",
              "      <th>3</th>\n",
              "      <td>2021-10-24</td>\n",
              "      <td>0.0</td>\n",
              "    </tr>\n",
              "    <tr>\n",
              "      <th>4</th>\n",
              "      <td>2021-10-25</td>\n",
              "      <td>290.0</td>\n",
              "    </tr>\n",
              "  </tbody>\n",
              "</table>\n",
              "</div>"
            ],
            "text/plain": [
              "  Collection Date  Count Collected Surveillance\n",
              "0      2021-10-21                         524.0\n",
              "1      2021-10-22                         503.0\n",
              "2      2021-10-23                           0.0\n",
              "3      2021-10-24                           0.0\n",
              "4      2021-10-25                         290.0"
            ]
          },
          "metadata": {},
          "execution_count": 55
        }
      ]
    },
    {
      "cell_type": "code",
      "metadata": {
        "colab": {
          "base_uri": "https://localhost:8080/",
          "height": 204
        },
        "id": "suDlnmQprGPe",
        "outputId": "86d068d8-90ee-49ca-fd09-35cde6f85488"
      },
      "source": [
        "# Constructing dataframe for simio for exposure + symptoms testing\n",
        "\n",
        "df_expsym = df_collect_total_1year.copy()\n",
        "df_expsym['Count Collected Exp + Sym'] = df_expsym['Count Collected Exposure'] + df_expsym['Count Collected Symptoms']\n",
        "df_expsym = df_expsym[['Collection Date','Count Collected Exp + Sym']]\n",
        "df_expsym = df_expsym[df_expsym['Collection Date'] >= '2021-10-21'].reset_index(drop = True)\n",
        "df_expsym.head()"
      ],
      "execution_count": 56,
      "outputs": [
        {
          "output_type": "execute_result",
          "data": {
            "text/html": [
              "<div>\n",
              "<style scoped>\n",
              "    .dataframe tbody tr th:only-of-type {\n",
              "        vertical-align: middle;\n",
              "    }\n",
              "\n",
              "    .dataframe tbody tr th {\n",
              "        vertical-align: top;\n",
              "    }\n",
              "\n",
              "    .dataframe thead th {\n",
              "        text-align: right;\n",
              "    }\n",
              "</style>\n",
              "<table border=\"1\" class=\"dataframe\">\n",
              "  <thead>\n",
              "    <tr style=\"text-align: right;\">\n",
              "      <th></th>\n",
              "      <th>Collection Date</th>\n",
              "      <th>Count Collected Exp + Sym</th>\n",
              "    </tr>\n",
              "  </thead>\n",
              "  <tbody>\n",
              "    <tr>\n",
              "      <th>0</th>\n",
              "      <td>2021-10-21</td>\n",
              "      <td>58.0</td>\n",
              "    </tr>\n",
              "    <tr>\n",
              "      <th>1</th>\n",
              "      <td>2021-10-22</td>\n",
              "      <td>56.0</td>\n",
              "    </tr>\n",
              "    <tr>\n",
              "      <th>2</th>\n",
              "      <td>2021-10-23</td>\n",
              "      <td>144.0</td>\n",
              "    </tr>\n",
              "    <tr>\n",
              "      <th>3</th>\n",
              "      <td>2021-10-24</td>\n",
              "      <td>257.0</td>\n",
              "    </tr>\n",
              "    <tr>\n",
              "      <th>4</th>\n",
              "      <td>2021-10-25</td>\n",
              "      <td>33.0</td>\n",
              "    </tr>\n",
              "  </tbody>\n",
              "</table>\n",
              "</div>"
            ],
            "text/plain": [
              "  Collection Date  Count Collected Exp + Sym\n",
              "0      2021-10-21                       58.0\n",
              "1      2021-10-22                       56.0\n",
              "2      2021-10-23                      144.0\n",
              "3      2021-10-24                      257.0\n",
              "4      2021-10-25                       33.0"
            ]
          },
          "metadata": {},
          "execution_count": 56
        }
      ]
    },
    {
      "cell_type": "code",
      "metadata": {
        "id": "IYY9G6iSr4B_"
      },
      "source": [
        ""
      ],
      "execution_count": null,
      "outputs": []
    }
  ]
}